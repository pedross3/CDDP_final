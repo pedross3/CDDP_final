{
 "cells": [
  {
   "cell_type": "markdown",
   "metadata": {},
   "source": [
    "# Ciência dos Dados - Projeto 03 - "
   ]
  },
  {
   "cell_type": "markdown",
   "metadata": {},
   "source": [
    "$Arthur\\space Alegro \\space de \\space Oliveira$\n",
    "\n",
    "$Pedro\\space dos\\space Santos \\space e \\space Silva$\n",
    "\n",
    "$Jhonata\\space Ferreira\\space de \\space Souza$"
   ]
  },
  {
   "cell_type": "markdown",
   "metadata": {},
   "source": [
    "# 1. Introdução"
   ]
  },
  {
   "cell_type": "markdown",
   "metadata": {},
   "source": [
    "O nosso projeto se compromete em fazer um modelo preditivo e Análise Descritiva dos dados das notas das provas aplicadas no ENEM - Ciências da Natureza, Ciências Humanas, Linguagens e Códigos e Matemática.\n",
    "\n",
    "Para concluirmos nosso objetivo, traçamos as seguintes estratégias: \n",
    "* Selecionamos variáveis que acreditamos ter impacto na nossa variável-alvo: Nota nas provas; \n",
    "* Mineiramos e filtramos a base de dados baixada no site de microdados do INEP (veja seção \"Bibliografia\")\n",
    "* Análise descritiva\n",
    "* Construção do modelo de predição\n",
    "* Comparar os resultados num momento posterior (experimental x real)"
   ]
  },
  {
   "cell_type": "markdown",
   "metadata": {},
   "source": [
    "## Importando Bibliotecas:"
   ]
  },
  {
   "cell_type": "code",
   "execution_count": 28,
   "metadata": {},
   "outputs": [],
   "source": [
    "% matplotlib inline\n",
    "from sklearn.metrics import mean_squared_error, r2_score\n",
    "from sklearn.linear_model import LinearRegression\n",
    "from openpyxl import load_workbook\n",
    "import matplotlib.pyplot as plt\n",
    "from numpy import zeros_like\n",
    "import seaborn as sns\n",
    "import pandas as pd\n",
    "import numpy as np\n",
    "from math import *\n",
    "import warnings\n",
    "import random\n",
    "import os"
   ]
  },
  {
   "cell_type": "markdown",
   "metadata": {},
   "source": [
    "## Base de Dados:"
   ]
  },
  {
   "cell_type": "markdown",
   "metadata": {},
   "source": [
    "Base de dados do ENEM referente aos anos de 2015 e 2016 extraídas pelo site http://portal.inep.gov.br/microdados.\n",
    "\n",
    "Nomes dos arquivos:\n",
    "* MICRODADOS_ENEM_2015.csv\n",
    "* MICRODADOS_ENEM_2016.csv\n",
    "\n",
    "**OBS.:** Para rodar corretamente este arquivo arquivo iPython Notebook (`.ipynb`)  deve-se extrair o arquivo `.zip` correspondente, acessar a pasta \"DADOS\" e colocar os arquivos `.csv` citados anteriormente no mesmo diretório deste arquivo.\n"
   ]
  },
  {
   "cell_type": "markdown",
   "metadata": {},
   "source": [
    "#### Link para a base de dados já filtrada:\n",
    "https://drive.google.com/open?id=1yq4DAJyJ2Er902X7Z1JuGc_t7w-aTIXJ"
   ]
  },
  {
   "cell_type": "markdown",
   "metadata": {},
   "source": [
    "## Diretório:"
   ]
  },
  {
   "cell_type": "code",
   "execution_count": 29,
   "metadata": {
    "scrolled": true
   },
   "outputs": [
    {
     "name": "stdout",
     "output_type": "stream",
     "text": [
      "Esperamos trabalhar no diretório\n",
      "C:\\Users\\pesan\\Documents\\Insper\\Dados DP\\Projeto dos cuzão\\CDDP_final\n"
     ]
    }
   ],
   "source": [
    "print('Esperamos trabalhar no diretório')\n",
    "print(os.getcwd())"
   ]
  },
  {
   "cell_type": "markdown",
   "metadata": {},
   "source": [
    "# 2. Minerando Dados e Características do Dataset"
   ]
  },
  {
   "cell_type": "markdown",
   "metadata": {},
   "source": [
    "## Verificando dimensões dos arquivos:"
   ]
  },
  {
   "cell_type": "code",
   "execution_count": 30,
   "metadata": {
    "scrolled": true
   },
   "outputs": [],
   "source": [
    "def thousand_dot(number):\n",
    "    \"\"\"Convert int value in a string with dots as thousands separator\"\"\"\n",
    "    lista = []\n",
    "    count = 0\n",
    "    for digit in (str(number))[::-1]:\n",
    "        lista.append(digit)\n",
    "        count +=1\n",
    "        if count == 3:\n",
    "            lista.append('.')\n",
    "            count = 0\n",
    "    lista.reverse\n",
    "    elements = ''.join(lista)[::-1]\n",
    "    return elements\n",
    "\n",
    "\n",
    "def dimension_calculator(filename, chunksize=1000, sep=','):\n",
    "    \"\"\"Counts the amount of rows and columns on a .csv file\"\"\"\n",
    "    # Raising warning:\n",
    "    warnings.warn(\"\\n\\nWARNING! Depending on chunksize value and/or file size this process might take time to compute\")\n",
    "    # Parameters:\n",
    "    rows = 0\n",
    "    columns_labels = ''\n",
    "    count = True\n",
    "    # Process progress exibited to user:\n",
    "    print(\"Processing...\")\n",
    "    # Opening database and counting values:\n",
    "    for chunk in pd.read_csv(filename, chunksize=chunksize, encoding='latin-1', header=0, sep=sep):\n",
    "        rows += len(chunk['NU_INSCRICAO'])\n",
    "        if count == True:\n",
    "            columns_labels = chunk.columns.values\n",
    "            count = False\n",
    "            \n",
    "    # Process progress exibited to user:\n",
    "    print(\"Process complete\\n\")   \n",
    "    print(\"Number of rows: {}\".format(thousand_dot(rows)))\n",
    "    print(\"Number of columns: {}\".format(len(columns_labels)))\n",
    "    print(\"Number of elements: {}\".format(thousand_dot(rows*len(columns_labels))))"
   ]
  },
  {
   "cell_type": "markdown",
   "metadata": {},
   "source": [
    "* **2015**"
   ]
  },
  {
   "cell_type": "code",
   "execution_count": 31,
   "metadata": {},
   "outputs": [],
   "source": [
    "#dimension_calculator(\"MICRODADOS_ENEM_2015.csv\")"
   ]
  },
  {
   "cell_type": "markdown",
   "metadata": {},
   "source": [
    "* **2016**"
   ]
  },
  {
   "cell_type": "code",
   "execution_count": 32,
   "metadata": {},
   "outputs": [],
   "source": [
    "#dimension_calculator(\"MICRODADOS_ENEM_2016.csv\", sep=';')"
   ]
  },
  {
   "cell_type": "markdown",
   "metadata": {},
   "source": [
    "## Filtragem do Database:"
   ]
  },
  {
   "cell_type": "markdown",
   "metadata": {},
   "source": [
    "# Porquê essas colunas foram escolhidas?"
   ]
  },
  {
   "cell_type": "markdown",
   "metadata": {},
   "source": [
    "Nome das colunas:\n",
    "* `SG_UF_RESIDENCIA`: Sigla da Unidade de Federação da residência do candidato\n",
    "* `NU_IDADE`: Idade do candidato\n",
    "* `TP_SEXO`: Sexo do candidato\n",
    "* `TP_ESTADO_CIIVL`: Estado Civil do candidato\n",
    "* `TP_COR_RACA`: Grupo étinco a qual o candidato se identifica\n",
    "* `TP_ST_CONCLUSAO`: Situação de conclusão do Ensino Médio\n",
    "* `TP_ESCOLA`: Tipo de escola do Ensino Médio\n",
    "* `NU_NOTA`: Notas nas avaliações do ENEM, sendo:\n",
    "\n",
    "|Sigla   |    Descrição        |\n",
    "|--------|---------------------|\n",
    "|CN      |Ciências da Natureza |\n",
    "|CH      |Ciências Humanas     |\n",
    "|LC      |Linguagens e Códigos |\n",
    "|MT      |Matemática           |\n",
    "|REDACAO |Redação              |\n",
    "    \n",
    "* `Q006`: Renda mensal da família"
   ]
  },
  {
   "cell_type": "markdown",
   "metadata": {},
   "source": [
    "- A Unidade de Federação é bem relevante no acesso à escolaridade, pois sabe-se que, no Brasil, educação de boa qualidade, de maneira geral, é acessada por meios privados. Sendo assim, há regiões que são pobres em desenvolvimento humano.\n",
    "- Idade influencia, tendo em vista que um jovem de 17-20 anos tende a lembrar mais do conteudo ante a um adulto de 30+\n",
    "- Grupo Étnico (vulgarmente conhecido como \"Raça\") tem grande peso na nota, tendo em vista o sistema de cotas\n",
    "- Situação de conclusão do Ensino Médio diz, aproximadamente, se o candidato se encontra preparado para a prova, ou não\n",
    "- Tipo de escola nos ajuda a montar o perfil do aluno, e  o que esperar do seu desempenho\n",
    "- Nota da prova é útil para a análise pra estabelecer a base de treinamento"
   ]
  },
  {
   "cell_type": "markdown",
   "metadata": {},
   "source": [
    "Selecionamos uma parte da base de dados (100.000 rows de dados) para análise em escala reduzida.\n",
    "\n",
    "Após todas as filtragens e cálculos forem concluídos, todo o processo será refeito para cada `chunk`, podendo aplicar as implementações para todo a base de dados muito mais rápido, sem a necessidade de carregar o arquivo completo de uma vez (o que pode ser impossível, pois, em alguns casos, demanda mais processamento e memória que o computador possui)"
   ]
  },
  {
   "cell_type": "code",
   "execution_count": 33,
   "metadata": {},
   "outputs": [],
   "source": [
    "def save_df(to_open_filename, database_year,iteration_times, chunksize=1000, sep=','):\n",
    "    # Raising warning:\n",
    "    warnings.warn(\"\\n\\nWARNING! Depending on chunksize value and/or file size this process might take time to compute\")\n",
    "\n",
    "    # Counters and Status Controllers:\n",
    "    overallcounter = 0\n",
    "    chunkcounter = 0\n",
    "    filecounter = 0\n",
    "    shapecounter = [0, 0]\n",
    "    to_save_filename = \"filtered_dataframe_{}({}).csv\".format(database_year, filecounter)\n",
    "    # Process progress exibited to user:\n",
    "    print(\"Opening file...\")\n",
    "    # Loading database in chunks and defining chunk size, correct enconding and reading configs:\n",
    "    for chunk in pd.read_csv(to_open_filename, chunksize=chunksize, encoding='latin-1', header=0, sep=sep):\n",
    "\n",
    "        # Selecting relevant parameters for dismiss useless data:\n",
    "        chunk = chunk[(chunk[\"TP_PRESENCA_CN\"] == 1) & (chunk[\"TP_PRESENCA_CH\"] == 1) & \n",
    "                      (chunk[\"TP_PRESENCA_LC\"] == 1) & (chunk[\"TP_PRESENCA_MT\"] == 1) & \n",
    "                      (chunk[\"TP_STATUS_REDACAO\"] == 1) & (chunk[\"IN_TREINEIRO\"] == 0)]\n",
    "\n",
    "        # Selecting relevant parameters for fitering data:\n",
    "        chunk = chunk.loc[:, [\"SG_UF_RESIDENCIA\", \"NU_IDADE\", \"TP_SEXO\", \"TP_ESTADO_CIVIL\", \"TP_COR_RACA\", \"TP_ST_CONCLUSAO\", \n",
    "                              \"TP_ESCOLA\", \"NU_NOTA_CN\", \"NU_NOTA_CH\", \"NU_NOTA_LC\", \"NU_NOTA_MT\", \"NU_NOTA_REDACAO\", \"Q006\"]]\n",
    "\n",
    "        # Exporting dataframe to new .csv file below existent data:\n",
    "        chunk.to_csv(to_save_filename, index=False)\n",
    "\n",
    "        # Counters update and process progress exibited to user:\n",
    "        chunkcounter += 1\n",
    "        overallcounter += 1\n",
    "        filecounter += 1\n",
    "        shapecounter[0] += chunk.shape[0]\n",
    "        shapecounter[1] = chunk.shape[1]\n",
    "        print(\"Processing... ({}/{}) - {} rows processed - Saving in '{}')\".format(overallcounter, iteration_times, shapecounter[0], to_save_filename))\n",
    "        to_save_filename = \"filtered_dataframe_{}({}).csv\".format(database_year, filecounter)\n",
    "    print(\"Process Completed\")"
   ]
  },
  {
   "cell_type": "markdown",
   "metadata": {},
   "source": [
    "* **2015**"
   ]
  },
  {
   "cell_type": "code",
   "execution_count": 34,
   "metadata": {
    "scrolled": true
   },
   "outputs": [],
   "source": [
    "# Creating filtered .csv file:\n",
    "#save_df('MICRODADOS_ENEM_2015.csv', database_year=2015, chunksize=1000000, iteration_times=8)"
   ]
  },
  {
   "cell_type": "markdown",
   "metadata": {},
   "source": [
    "* **2016**"
   ]
  },
  {
   "cell_type": "code",
   "execution_count": 35,
   "metadata": {},
   "outputs": [],
   "source": [
    "# Creating filtered .csv file:\n",
    "#save_df('MICRODADOS_ENEM_2016.csv', database_year=2016, chunksize=1000000, iteration_times=9, sep=';')"
   ]
  },
  {
   "cell_type": "markdown",
   "metadata": {},
   "source": [
    "## Verificando integridade dos arquivos:"
   ]
  },
  {
   "cell_type": "code",
   "execution_count": 36,
   "metadata": {},
   "outputs": [],
   "source": [
    "# filename_list_2015 = [\"filtered_dataframe_2015(0).csv\", \"filtered_dataframe_2015(1).csv\", \n",
    "#                       \"filtered_dataframe_2015(2).csv\", \"filtered_dataframe_2015(3).csv\", \n",
    "#                       \"filtered_dataframe_2015(4).csv\", \"filtered_dataframe_2015(5).csv\", \n",
    "#                       \"filtered_dataframe_2015(6).csv\", \"filtered_dataframe_2015(7).csv\"]\n",
    "\n",
    "# filename_list_2016 = [\"filtered_dataframe_2016(0).csv\", \"filtered_dataframe_2016(1).csv\",\n",
    "#                       \"filtered_dataframe_2016(2).csv\", \"filtered_dataframe_2016(3).csv\", \n",
    "#                       \"filtered_dataframe_2016(4).csv\", \"filtered_dataframe_2016(5).csv\", \n",
    "#                       \"filtered_dataframe_2016(6).csv\", \"filtered_dataframe_2016(7).csv\", \n",
    "#                       \"filtered_dataframe_2016(8).csv\"]"
   ]
  },
  {
   "cell_type": "code",
   "execution_count": 37,
   "metadata": {},
   "outputs": [],
   "source": [
    "def integrity_verification(filename_list, database_year):\n",
    "    \"\"\"Counts the amount of rows in multiple .csv files\"\"\"\n",
    "    # Raising warning:\n",
    "    warnings.warn(\"\\n\\nWARNING! Depending on files amount and/or files size this process might take time to compute.\")\n",
    "    rows_count = 0\n",
    "    for filename in filename_list:\n",
    "        for chunk in pd.read_csv(filename, chunksize=1000, encoding='latin-1', header=0, sep=','):\n",
    "            rows_count += chunk.shape[0]\n",
    "    print(\"{} database - Total rows: {}\".format(database_year, rows_count))"
   ]
  },
  {
   "cell_type": "code",
   "execution_count": 38,
   "metadata": {
    "scrolled": true
   },
   "outputs": [],
   "source": [
    "#integrity_verification(filename_list_2015, 2015)\n",
    "#integrity_verification(filename_list_2016, 2016)"
   ]
  },
  {
   "cell_type": "code",
   "execution_count": 39,
   "metadata": {},
   "outputs": [],
   "source": [
    "def merge_multifiles(filename_list, database_year):\n",
    "    \"\"\"Merging all data to unique filtered file\"\"\"\n",
    "    # Raising warning:\n",
    "    warnings.warn(\"\\n\\nWARNING! Depending on chunksize value, file amount and/or file size, this process might take a while to compute.\")\n",
    "\n",
    "    print(\"Process iniciated...\")\n",
    "    #\n",
    "    chunk_list = []\n",
    "    \n",
    "    print(\"Processing...\")\n",
    "    \n",
    "    for filename in filename_list:\n",
    "            for chunk in pd.read_csv(filename, chunksize=10000, encoding='latin-1', header=0, sep=','):\n",
    "                chunk_list.append(chunk)\n",
    "                \n",
    "    print(\"Merging all data...\")\n",
    "    final_df = pd.concat(chunk_list)\n",
    "    \n",
    "    print(\"Exporting data...\")\n",
    "    final_df.to_csv(\"filtered_unique_database_{}.csv\".format(database_year), index=False)\n",
    "    print(\"Process complete\")"
   ]
  },
  {
   "cell_type": "code",
   "execution_count": 40,
   "metadata": {},
   "outputs": [],
   "source": [
    "#merge_multifiles(filename_list_2015, 2015)"
   ]
  },
  {
   "cell_type": "code",
   "execution_count": 41,
   "metadata": {},
   "outputs": [],
   "source": [
    "#merge_multifiles(filename_list_2016, 2016)"
   ]
  },
  {
   "cell_type": "markdown",
   "metadata": {},
   "source": [
    "# 3. Análise descritiva:"
   ]
  },
  {
   "cell_type": "markdown",
   "metadata": {},
   "source": [
    "- Gráficos de como cada variável afeta na nota do candidato\n",
    "    - Boxplot de renda com nota\n",
    "    - Gráfico de barras para nota com outra variável qualitativa\n",
    "    "
   ]
  },
  {
   "cell_type": "code",
   "execution_count": 42,
   "metadata": {},
   "outputs": [],
   "source": [
    "data_2015 = pd.read_csv('filtered_unique_database_2015.csv', encoding='latin-1', header=0, sep=',')\n",
    "data_2016 = pd.read_csv('filtered_unique_database_2016.csv', encoding='latin-1', header=0, sep=',')"
   ]
  },
  {
   "cell_type": "code",
   "execution_count": 43,
   "metadata": {},
   "outputs": [
    {
     "data": {
      "text/html": [
       "<div>\n",
       "<style scoped>\n",
       "    .dataframe tbody tr th:only-of-type {\n",
       "        vertical-align: middle;\n",
       "    }\n",
       "\n",
       "    .dataframe tbody tr th {\n",
       "        vertical-align: top;\n",
       "    }\n",
       "\n",
       "    .dataframe thead th {\n",
       "        text-align: right;\n",
       "    }\n",
       "</style>\n",
       "<table border=\"1\" class=\"dataframe\">\n",
       "  <thead>\n",
       "    <tr style=\"text-align: right;\">\n",
       "      <th></th>\n",
       "      <th>SG_UF_RESIDENCIA</th>\n",
       "      <th>NU_IDADE</th>\n",
       "      <th>TP_SEXO</th>\n",
       "      <th>TP_ESTADO_CIVIL</th>\n",
       "      <th>TP_COR_RACA</th>\n",
       "      <th>TP_ST_CONCLUSAO</th>\n",
       "      <th>TP_ESCOLA</th>\n",
       "      <th>NU_NOTA_CN</th>\n",
       "      <th>NU_NOTA_CH</th>\n",
       "      <th>NU_NOTA_LC</th>\n",
       "      <th>NU_NOTA_MT</th>\n",
       "      <th>NU_NOTA_REDACAO</th>\n",
       "      <th>Q006</th>\n",
       "    </tr>\n",
       "  </thead>\n",
       "  <tbody>\n",
       "    <tr>\n",
       "      <th>0</th>\n",
       "      <td>RS</td>\n",
       "      <td>42.0</td>\n",
       "      <td>M</td>\n",
       "      <td>1.0</td>\n",
       "      <td>1</td>\n",
       "      <td>1</td>\n",
       "      <td>1</td>\n",
       "      <td>657.4</td>\n",
       "      <td>705.3</td>\n",
       "      <td>591.1</td>\n",
       "      <td>732.3</td>\n",
       "      <td>760.0</td>\n",
       "      <td>D</td>\n",
       "    </tr>\n",
       "    <tr>\n",
       "      <th>1</th>\n",
       "      <td>PE</td>\n",
       "      <td>22.0</td>\n",
       "      <td>M</td>\n",
       "      <td>1.0</td>\n",
       "      <td>2</td>\n",
       "      <td>4</td>\n",
       "      <td>1</td>\n",
       "      <td>528.5</td>\n",
       "      <td>531.1</td>\n",
       "      <td>511.3</td>\n",
       "      <td>566.5</td>\n",
       "      <td>640.0</td>\n",
       "      <td>B</td>\n",
       "    </tr>\n",
       "    <tr>\n",
       "      <th>2</th>\n",
       "      <td>MG</td>\n",
       "      <td>18.0</td>\n",
       "      <td>M</td>\n",
       "      <td>0.0</td>\n",
       "      <td>3</td>\n",
       "      <td>1</td>\n",
       "      <td>1</td>\n",
       "      <td>679.9</td>\n",
       "      <td>730.6</td>\n",
       "      <td>621.2</td>\n",
       "      <td>732.4</td>\n",
       "      <td>800.0</td>\n",
       "      <td>G</td>\n",
       "    </tr>\n",
       "    <tr>\n",
       "      <th>3</th>\n",
       "      <td>SC</td>\n",
       "      <td>19.0</td>\n",
       "      <td>M</td>\n",
       "      <td>0.0</td>\n",
       "      <td>1</td>\n",
       "      <td>1</td>\n",
       "      <td>1</td>\n",
       "      <td>598.7</td>\n",
       "      <td>658.0</td>\n",
       "      <td>579.0</td>\n",
       "      <td>576.4</td>\n",
       "      <td>480.0</td>\n",
       "      <td>F</td>\n",
       "    </tr>\n",
       "    <tr>\n",
       "      <th>4</th>\n",
       "      <td>SP</td>\n",
       "      <td>17.0</td>\n",
       "      <td>F</td>\n",
       "      <td>0.0</td>\n",
       "      <td>1</td>\n",
       "      <td>2</td>\n",
       "      <td>2</td>\n",
       "      <td>652.1</td>\n",
       "      <td>671.9</td>\n",
       "      <td>609.3</td>\n",
       "      <td>685.5</td>\n",
       "      <td>820.0</td>\n",
       "      <td>J</td>\n",
       "    </tr>\n",
       "  </tbody>\n",
       "</table>\n",
       "</div>"
      ],
      "text/plain": [
       "  SG_UF_RESIDENCIA  NU_IDADE TP_SEXO  TP_ESTADO_CIVIL  TP_COR_RACA  \\\n",
       "0               RS      42.0       M              1.0            1   \n",
       "1               PE      22.0       M              1.0            2   \n",
       "2               MG      18.0       M              0.0            3   \n",
       "3               SC      19.0       M              0.0            1   \n",
       "4               SP      17.0       F              0.0            1   \n",
       "\n",
       "   TP_ST_CONCLUSAO  TP_ESCOLA  NU_NOTA_CN  NU_NOTA_CH  NU_NOTA_LC  NU_NOTA_MT  \\\n",
       "0                1          1       657.4       705.3       591.1       732.3   \n",
       "1                4          1       528.5       531.1       511.3       566.5   \n",
       "2                1          1       679.9       730.6       621.2       732.4   \n",
       "3                1          1       598.7       658.0       579.0       576.4   \n",
       "4                2          2       652.1       671.9       609.3       685.5   \n",
       "\n",
       "   NU_NOTA_REDACAO Q006  \n",
       "0            760.0    D  \n",
       "1            640.0    B  \n",
       "2            800.0    G  \n",
       "3            480.0    F  \n",
       "4            820.0    J  "
      ]
     },
     "execution_count": 43,
     "metadata": {},
     "output_type": "execute_result"
    }
   ],
   "source": [
    "data_2015.head()"
   ]
  },
  {
   "cell_type": "code",
   "execution_count": 44,
   "metadata": {},
   "outputs": [
    {
     "data": {
      "text/plain": [
       "count    4.768463e+06\n",
       "mean     5.606695e+02\n",
       "std      7.000239e+01\n",
       "min      0.000000e+00\n",
       "25%      5.165000e+02\n",
       "50%      5.661000e+02\n",
       "75%      6.088000e+02\n",
       "max      8.506000e+02\n",
       "Name: NU_NOTA_CH, dtype: float64"
      ]
     },
     "execution_count": 44,
     "metadata": {},
     "output_type": "execute_result"
    }
   ],
   "source": [
    "data_2015.NU_NOTA_CH.describe()"
   ]
  },
  {
   "cell_type": "code",
   "execution_count": 45,
   "metadata": {
    "scrolled": true
   },
   "outputs": [
    {
     "data": {
      "text/plain": [
       "count    4.868906e+06\n",
       "mean     5.374636e+02\n",
       "std      7.371680e+01\n",
       "min      0.000000e+00\n",
       "25%      4.883000e+02\n",
       "50%      5.400000e+02\n",
       "75%      5.884000e+02\n",
       "max      8.591000e+02\n",
       "Name: NU_NOTA_CH, dtype: float64"
      ]
     },
     "execution_count": 45,
     "metadata": {},
     "output_type": "execute_result"
    }
   ],
   "source": [
    "data_2016.NU_NOTA_CH.describe()"
   ]
  },
  {
   "cell_type": "code",
   "execution_count": 46,
   "metadata": {},
   "outputs": [],
   "source": [
    "faixa = np.arange(0,900,50)"
   ]
  },
  {
   "cell_type": "code",
   "execution_count": 47,
   "metadata": {},
   "outputs": [],
   "source": [
    "notacutCN = pd.cut(data_2015.NU_NOTA_CN, bins=faixa, right=False)\n",
    "data_2015['FAIXA_CN'] = notacutCN\n",
    "\n",
    "notacutCH = pd.cut(data_2015.NU_NOTA_CH, bins=faixa, right=False)\n",
    "data_2015['FAIXA_CH'] = notacutCH\n",
    "\n",
    "notacutLC = pd.cut(data_2015.NU_NOTA_LC, bins=faixa, right=False)\n",
    "data_2015['FAIXA_LC'] = notacutLC\n",
    "\n",
    "notacutMT = pd.cut(data_2015.NU_NOTA_MT, bins=faixa, right=False)\n",
    "data_2015['FAIXA_MT'] = notacutMT"
   ]
  },
  {
   "cell_type": "code",
   "execution_count": 48,
   "metadata": {},
   "outputs": [],
   "source": [
    "# Setting Seaborn configs:\n",
    "sns.set()"
   ]
  },
  {
   "cell_type": "code",
   "execution_count": 49,
   "metadata": {},
   "outputs": [
    {
     "data": {
      "image/png": "[encoded data removed]",
      "text/plain": [
       "<matplotlib.figure.Figure at 0x2712a0aa898>"
      ]
     },
     "metadata": {},
     "output_type": "display_data"
    }
   ],
   "source": [
    "fig = plt.figure(figsize=(20, 5))\n",
    "plt.subplot(141)\n",
    "plot = data_2015.NU_NOTA_CN.plot.hist(bins=faixa,title='Ciências da Natureza', weights=zeros_like(data_2015.NU_NOTA_CN)+1./data_2015.NU_NOTA_CN.size*100)\n",
    "plt.ylabel('Frequência relativa (em %)')\n",
    "plt.xlabel('Nota (0 - 1000)')\n",
    "plt.ylim(ymax=35)\n",
    "\n",
    "plt.subplot(142)\n",
    "plot = data_2015.NU_NOTA_CH.plot.hist(bins=faixa,title='Ciências Humanas', weights=zeros_like(data_2015.NU_NOTA_CH)+1./data_2015.NU_NOTA_CH.size*100)\n",
    "plt.ylabel('Frequência relativa (em %)')\n",
    "plt.xlabel('Nota (0 - 1000)')\n",
    "plt.ylim(ymax=35)\n",
    "\n",
    "plt.subplot(143)\n",
    "plot = data_2015.NU_NOTA_LC.plot.hist(bins=faixa,title='Linguagens e Códigos', weights=zeros_like(data_2015.NU_NOTA_LC)+1./data_2015.NU_NOTA_LC.size*100)\n",
    "plt.ylabel('Frequência relativa (em %)')\n",
    "plt.xlabel('Nota (0 - 1000)')\n",
    "plt.ylim(ymax=35)\n",
    "\n",
    "plt.subplot(144)\n",
    "plot = data_2015.NU_NOTA_MT.plot.hist(bins=faixa,title='Matemática', weights=zeros_like(data_2015.NU_NOTA_MT)+1./data_2015.NU_NOTA_MT.size*100)\n",
    "plt.ylabel('Frequência relativa (em %)')\n",
    "plt.xlabel('Nota (0 - 1000)')\n",
    "plt.ylim(ymax=35)\n",
    "\n",
    "plt.suptitle('Notas 2015', fontsize=45)\n",
    "plt.subplots_adjust(top=0.8)\n",
    "plt.show()"
   ]
  },
  {
   "cell_type": "code",
   "execution_count": 50,
   "metadata": {},
   "outputs": [
    {
     "data": {
      "image/png": "[encoded data removed]",
      "text/plain": [
       "<matplotlib.figure.Figure at 0x271398c5ef0>"
      ]
     },
     "metadata": {},
     "output_type": "display_data"
    }
   ],
   "source": [
    "fig = plt.figure(figsize=(20, 5))\n",
    "plt.subplot(141)\n",
    "plot = data_2016.NU_NOTA_CN.plot.hist(bins=faixa,title='Ciêcias da Natureza', weights=zeros_like(data_2016.NU_NOTA_CN)+1./data_2016.NU_NOTA_CN.size*100)\n",
    "plt.ylabel('Frequência relativa (em %)')\n",
    "plt.xlabel('Nota (0 - 1000)')\n",
    "plt.ylim(ymax=35)\n",
    "\n",
    "plt.subplot(142)\n",
    "plot = data_2016.NU_NOTA_CH.plot.hist(bins=faixa,title='Ciências Humanas', weights=zeros_like(data_2016.NU_NOTA_CH)+1./data_2016.NU_NOTA_CH.size*100)\n",
    "plt.ylabel('Frequência relativa (em %)')\n",
    "plt.xlabel('Nota (0 - 1000)')\n",
    "plt.ylim(ymax=35)\n",
    "\n",
    "plt.subplot(143)\n",
    "plot = data_2016.NU_NOTA_LC.plot.hist(bins=faixa,title='Linguagens e Códigos', weights=zeros_like(data_2016.NU_NOTA_LC)+1./data_2016.NU_NOTA_LC.size*100)\n",
    "plt.ylabel('Frequência relativa (em %)')\n",
    "plt.xlabel('Nota (0 - 1000)')\n",
    "plt.ylim(ymax=35)\n",
    "\n",
    "plt.subplot(144)\n",
    "plot = data_2016.NU_NOTA_MT.plot.hist(bins=faixa,title='Matemática', weights=zeros_like(data_2016.NU_NOTA_MT)+1./data_2016.NU_NOTA_MT.size*100)\n",
    "plt.ylabel('Frequência relativa (em %)')\n",
    "plt.xlabel('Nota (0 - 1000)')\n",
    "plt.ylim(ymax=35)\n",
    "\n",
    "plt.suptitle('Notas 2016', fontsize=45)\n",
    "plt.subplots_adjust(top=0.8)\n",
    "plt.show()"
   ]
  },
  {
   "cell_type": "code",
   "execution_count": 51,
   "metadata": {},
   "outputs": [],
   "source": [
    "cn_renda = (pd.crosstab(data_2015.NU_NOTA_CN, data_2015.Q006 , margins=True, rownames=['NOTA CN'], colnames=['Renda'], normalize='index')*100).round(decimals=0)\n",
    "ch_renda = (pd.crosstab(data_2015.NU_NOTA_CH, data_2015.Q006 , margins=True, rownames=['NOTA CH'], colnames=['Renda'], normalize='index')*100).round(decimals=0)\n",
    "lc_renda = (pd.crosstab(data_2015.NU_NOTA_LC, data_2015.Q006 , margins=True, rownames=['NOTA LC'], colnames=['Renda'], normalize='index')*100).round(decimals=0)\n",
    "mt_renda = (pd.crosstab(data_2015.NU_NOTA_MT, data_2015.Q006 , margins=True, rownames=['NOTA MT'], colnames=['Renda'], normalize='index')*100).round(decimals=0)"
   ]
  },
  {
   "cell_type": "code",
   "execution_count": 52,
   "metadata": {
    "scrolled": false
   },
   "outputs": [
    {
     "ename": "AttributeError",
     "evalue": "'function' object has no attribute 'cn_renda'",
     "output_type": "error",
     "traceback": [
      "\u001b[1;31m---------------------------------------------------------------------------\u001b[0m",
      "\u001b[1;31mAttributeError\u001b[0m                            Traceback (most recent call last)",
      "\u001b[1;32m<ipython-input-52-3965dcc4fe5e>\u001b[0m in \u001b[0;36m<module>\u001b[1;34m()\u001b[0m\n\u001b[1;32m----> 1\u001b[1;33m \u001b[0mdisplay\u001b[0m\u001b[1;33m.\u001b[0m\u001b[0mcn_renda\u001b[0m\u001b[1;33m.\u001b[0m\u001b[0mhead\u001b[0m\u001b[1;33m(\u001b[0m\u001b[1;36m5\u001b[0m\u001b[1;33m)\u001b[0m\u001b[1;33m\u001b[0m\u001b[0m\n\u001b[0m",
      "\u001b[1;31mAttributeError\u001b[0m: 'function' object has no attribute 'cn_renda'"
     ]
    }
   ],
   "source": [
    "display.cn_renda.head(5)"
   ]
  },
  {
   "cell_type": "code",
   "execution_count": null,
   "metadata": {
    "scrolled": true
   },
   "outputs": [],
   "source": [
    "faixa_rendaC = data_2015[data_2015.Q006 == 'C']"
   ]
  },
  {
   "cell_type": "code",
   "execution_count": null,
   "metadata": {
    "scrolled": false
   },
   "outputs": [],
   "source": [
    "fig = plt.figure(figsize=(15, 10))\n",
    "plt.subplot(221)\n",
    "plot = faixa_rendaC.NU_NOTA_CN.plot.hist(bins=faixa,title='Grafico coluna notas CN', weights=zeros_like(faixa_rendaC.NU_NOTA_CN)+1./faixa_rendaC.NU_NOTA_CN.size*100)\n",
    "plt.ylabel('Frequência relativa (em %)')\n",
    "plt.xlabel('Nota CN')\n",
    "plt.ylim(ymax=35)\n",
    "\n",
    "plt.subplot(222)\n",
    "plot = faixa_rendaC.NU_NOTA_CH.plot.hist(bins=faixa,title='Grafico coluna notas CH', weights=zeros_like(faixa_rendaC.NU_NOTA_CH)+1./faixa_rendaC.NU_NOTA_CH.size*100)\n",
    "plt.ylabel('Frequência relativa (em %)')\n",
    "plt.xlabel('Nota CH')\n",
    "plt.ylim(ymax=35)\n",
    "\n",
    "plt.subplot(223)\n",
    "plot = faixa_rendaC.NU_NOTA_LC.plot.hist(bins=faixa,title='Grafico coluna notas LC', weights=zeros_like(faixa_rendaC.NU_NOTA_LC)+1./faixa_rendaC.NU_NOTA_LC.size*100)\n",
    "plt.ylabel('Frequência relativa (em %)')\n",
    "plt.xlabel('Nota LC')\n",
    "plt.ylim(ymax=35)\n",
    "\n",
    "plt.subplot(224)\n",
    "plot = faixa_rendaC.NU_NOTA_MT.plot.hist(bins=faixa,title='Grafico coluna notas MT', weights=zeros_like(faixa_rendaC.NU_NOTA_MT)+1./faixa_rendaC.NU_NOTA_MT.size*100)\n",
    "plt.ylabel('Frequência relativa (em %)')\n",
    "plt.xlabel('Nota MT')\n",
    "plt.ylim(ymax=35)\n",
    "\n",
    "plt.suptitle('Notas 2015 da maior renda (C)', fontsize=30)\n",
    "plt.subplots_adjust(top=0.9)\n",
    "\n",
    "plt.show()"
   ]
  },
  {
   "cell_type": "code",
   "execution_count": null,
   "metadata": {},
   "outputs": [],
   "source": [
    "data_2015.loc[(data_2015.SG_UF_RESIDENCIA=='RO') | (data_2015.SG_UF_RESIDENCIA=='AC') | (data_2015.SG_UF_RESIDENCIA=='AM') | (data_2015.SG_UF_RESIDENCIA=='RR') | (data_2015.SG_UF_RESIDENCIA=='PA') | (data_2015.SG_UF_RESIDENCIA=='AP') | (data_2015.SG_UF_RESIDENCIA=='TO'),'Regiao'] = 'Norte'\n",
    "data_2015.loc[(data_2015.SG_UF_RESIDENCIA=='MA') | (data_2015.SG_UF_RESIDENCIA=='PI') | (data_2015.SG_UF_RESIDENCIA=='CE') | (data_2015.SG_UF_RESIDENCIA=='RN') | (data_2015.SG_UF_RESIDENCIA=='PB') | (data_2015.SG_UF_RESIDENCIA=='PE') | (data_2015.SG_UF_RESIDENCIA=='AL') | (data_2015.SG_UF_RESIDENCIA=='SE') | (data_2015.SG_UF_RESIDENCIA=='BH'),'Regiao'] = 'Nordeste'\n",
    "data_2015.loc[(data_2015.SG_UF_RESIDENCIA=='MG') | (data_2015.SG_UF_RESIDENCIA=='ES') | (data_2015.SG_UF_RESIDENCIA=='RJ') | (data_2015.SG_UF_RESIDENCIA=='SP'),'Regiao'] = 'Sudeste'\n",
    "data_2015.loc[(data_2015.SG_UF_RESIDENCIA=='PR') | (data_2015.SG_UF_RESIDENCIA=='SC') | (data_2015.SG_UF_RESIDENCIA=='RS'),'Regiao'] = 'Sul'\n",
    "data_2015.loc[(data_2015.SG_UF_RESIDENCIA=='MS') | (data_2015.SG_UF_RESIDENCIA=='MT') | (data_2015.SG_UF_RESIDENCIA=='GO') | (data_2015.SG_UF_RESIDENCIA=='DF'),'Regiao'] = 'Centroeste'"
   ]
  },
  {
   "cell_type": "code",
   "execution_count": null,
   "metadata": {},
   "outputs": [],
   "source": [
    "data_norte = data_2015.loc[data_2015.Regiao == 'Norte']\n",
    "data_nordeste = data_2015.loc[data_2015.Regiao == 'Nordeste']\n",
    "data_centroeste = data_2015.loc[data_2015.Regiao == 'Centroeste']\n",
    "data_sul = data_2015.loc[data_2015.Regiao == 'Sul']\n",
    "data_suldeste = data_2015.loc[data_2015.Regiao == 'Sudeste']"
   ]
  },
  {
   "cell_type": "code",
   "execution_count": null,
   "metadata": {
    "scrolled": false
   },
   "outputs": [],
   "source": [
    "data_2015.boxplot(by='TP_COR_RACA', column=['NU_NOTA_CN'])\n",
    "plt.title('')\n",
    "plt.xlabel(\"Grupo Étnico\")\n",
    "plt.ylabel(\"Nota CN\")\n",
    "plt.show()\n",
    "\n",
    "data_2015.boxplot(by='TP_COR_RACA', column=['NU_NOTA_CH'])\n",
    "plt.title('')\n",
    "plt.xlabel(\"Grupo Étnico\")\n",
    "plt.ylabel(\"Nota CH\")\n",
    "plt.show()\n",
    "\n",
    "data_2015.boxplot(by='TP_COR_RACA', column=['NU_NOTA_LC'])\n",
    "plt.title('')\n",
    "plt.xlabel(\"Grupo Étnico\")\n",
    "plt.ylabel(\"Nota LC\")\n",
    "plt.show()\n",
    "\n",
    "data_2015.boxplot(by='TP_COR_RACA', column=['NU_NOTA_MT'])\n",
    "plt.title('')\n",
    "plt.xlabel(\"Grupo Étnico\")\n",
    "plt.ylabel(\"Nota MT\")\n",
    "plt.show()"
   ]
  },
  {
   "cell_type": "code",
   "execution_count": null,
   "metadata": {},
   "outputs": [],
   "source": [
    "#fig = plt.figure(figsize=(15, 10))\n",
    "\n",
    "#plt.subplot(221)\n",
    "_ = data_norte.boxplot(by='Regiao', column=['NU_NOTA_CN'], grid=True)\n",
    "plt.xlabel('Nota CN')\n",
    "plt.show()\n",
    "\n",
    "#plt.subplot(222)\n",
    "_ = data_norte.Q006.value_counts(True).sort_index().plot(kind='bar', title='Faixas de renda Região Norte')\n",
    "plt.ylabel('Frequência relativa (em %)')\n",
    "plt.xlabel('Faixas')\n",
    "plt.show()\n",
    "\n",
    "#plt.subplot(223)\n",
    "_ = data_norte.boxplot(by='Regiao', column=['NU_NOTA_CN'], grid=True)\n",
    "plt.xlabel('Nota CN')\n",
    "plt.show()\n",
    "\n",
    "#plt.subplot(224)\n",
    "_ = data_norte.boxplot(by='Regiao', column=['NU_NOTA_CN'], grid=True)\n",
    "plt.xlabel('Faixas')\n",
    "plt.show()\n",
    "\n",
    "#plt.suptitle('Notas 2015 da maior renda (C)', fontsize=30)\n",
    "_ = plt.subplots_adjust(top=0.9, wspace=0.5)\n",
    "plt.show()\n",
    "\n"
   ]
  },
  {
   "cell_type": "code",
   "execution_count": null,
   "metadata": {
    "scrolled": false
   },
   "outputs": [],
   "source": [
    "# Setting size:\n",
    "fig = plt.figure(figsize=(25, 25))\n",
    "\n",
    "## 'Norte' data plots:\n",
    "\n",
    "# 'Ciências da Natureza' plot:\n",
    "plt.subplot(5, 5, 1)\n",
    "_ = data_norte.NU_NOTA_CN.plot.hist(bins=faixa, title='Gráfico coluna notas CN - Região Norte', weights=zeros_like(data_norte.NU_NOTA_CN)+1./data_norte.NU_NOTA_CN.size*100)\n",
    "plt.ylabel('Frequência relativa (em %)')\n",
    "plt.xlabel('Nota CN')\n",
    "plt.ylim(ymax=35)\n",
    "# 'Ciências Humanas' plot:\n",
    "plt.subplot(5, 5, 2)\n",
    "_ = data_norte.NU_NOTA_CH.plot.hist(bins=faixa, title='Gráfico coluna notas CH - Região Norte', weights=zeros_like(data_norte.NU_NOTA_CH)+1./data_norte.NU_NOTA_CH.size*100)\n",
    "plt.ylabel('Frequência relativa (em %)')\n",
    "plt.xlabel('Nota CH')\n",
    "plt.ylim(ymax=35)\n",
    "# 'Linguagens e Códigos' plot:\n",
    "plt.subplot(5, 5, 3)\n",
    "_ = data_norte.NU_NOTA_LC.plot.hist(bins=faixa, title='Gráfico coluna notas LC - Região Norte', weights=zeros_like(data_norte.NU_NOTA_LC)+1./data_norte.NU_NOTA_LC.size*100)\n",
    "plt.ylabel('Frequência relativa (em %)')\n",
    "plt.xlabel('Nota LC')\n",
    "plt.ylim(ymax=35)\n",
    "# 'Matemática e suas Tecnologias' plot:\n",
    "plt.subplot(5, 5, 4)\n",
    "_ = data_norte.NU_NOTA_MT.plot.hist(bins=faixa, title='Gráfico coluna notas MT - Região Norte', weights=zeros_like(data_norte.NU_NOTA_MT)+1./data_norte.NU_NOTA_MT.size*100)\n",
    "plt.ylabel('Frequência relativa (em %)')\n",
    "plt.xlabel('Nota MT')\n",
    "plt.ylim(ymax=35)\n",
    "# 'Q006' plot:\n",
    "plt.subplot(5, 5, 5)\n",
    "data_norte.Q006.value_counts(True).sort_index().plot(kind='bar', title='Faixas de renda - Região Norte')\n",
    "plt.ylabel('Frequência relativa (em %)')\n",
    "plt.xlabel('Faixas')\n",
    "plt.ylim(ymax=0.4)\n",
    "\n",
    "## 'Nordeste' data plots:\n",
    "\n",
    "plt.subplot(5, 5, 6)\n",
    "_ = data_nordeste.NU_NOTA_CN.plot.hist(bins=faixa,title='Grafico coluna notas CN - Região Nordeste', weights=zeros_like(data_nordeste.NU_NOTA_CN)+1./data_nordeste.NU_NOTA_CN.size*100)\n",
    "plt.ylabel('Frequência relativa (em %)')\n",
    "plt.xlabel('Nota CN')\n",
    "plt.ylim(ymax=35)\n",
    "# 'Ciências Humanas' plot:\n",
    "plt.subplot(5, 5, 7)\n",
    "_ = data_nordeste.NU_NOTA_CH.plot.hist(bins=faixa, title='Gráfico coluna notas CH - Região Nordeste', weights=zeros_like(data_nordeste.NU_NOTA_CH)+1./data_nordeste.NU_NOTA_CH.size*100)\n",
    "plt.ylabel('Frequência relativa (em %)')\n",
    "plt.xlabel('Nota CH')\n",
    "plt.ylim(ymax=35)\n",
    "# 'Linguagens e Códigos' plot:\n",
    "plt.subplot(5, 5, 8)\n",
    "_ = data_nordeste.NU_NOTA_LC.plot.hist(bins=faixa, title='Gráfico coluna notas LC - Região Nordeste', weights=zeros_like(data_nordeste.NU_NOTA_LC)+1./data_nordeste.NU_NOTA_LC.size*100)\n",
    "plt.ylabel('Frequência relativa (em %)')\n",
    "plt.xlabel('Nota LC')\n",
    "plt.ylim(ymax=35)\n",
    "# 'Matemática e suas Tecnologias' plot:\n",
    "plt.subplot(5, 5, 9)\n",
    "_ = data_nordeste.NU_NOTA_MT.plot.hist(bins=faixa, title='Gráfico coluna notas MT - Região Nordeste', weights=zeros_like(data_nordeste.NU_NOTA_MT)+1./data_nordeste.NU_NOTA_MT.size*100)\n",
    "plt.ylabel('Frequência relativa (em %)')\n",
    "plt.xlabel('Nota MT')\n",
    "plt.ylim(ymax=35)\n",
    "# 'Q006' plot:\n",
    "plt.subplot(5, 5, 10)\n",
    "data_nordeste.Q006.value_counts(True).sort_index().plot(kind='bar', title='Faixas de renda - Região Nordeste')\n",
    "plt.ylabel('Frequência relativa (em %)')\n",
    "plt.xlabel('Faixas')\n",
    "plt.ylim(ymax=0.4)\n",
    "\n",
    "## 'Centro-Oeste' data plots:\n",
    "\n",
    "plt.subplot(5, 5, 11)\n",
    "_ = data_centroeste.NU_NOTA_CN.plot.hist(bins=faixa,title='Grafico coluna notas CN - Região Centro-Oeste', weights=zeros_like(data_centroeste.NU_NOTA_CN)+1./data_centroeste.NU_NOTA_CN.size*100)\n",
    "plt.ylabel('Frequência relativa (em %)')\n",
    "plt.xlabel('Nota CN')\n",
    "plt.ylim(ymax=35)\n",
    "# 'Ciências Humanas' plot:\n",
    "plt.subplot(5, 5, 12)\n",
    "_ = data_centroeste.NU_NOTA_CH.plot.hist(bins=faixa, title='Gráfico coluna notas CH - Região Centro-Oeste', weights=zeros_like(data_centroeste.NU_NOTA_CH)+1./data_centroeste.NU_NOTA_CH.size*100)\n",
    "plt.ylabel('Frequência relativa (em %)')\n",
    "plt.xlabel('Nota CH')\n",
    "plt.ylim(ymax=35)\n",
    "# 'Linguagens e Códigos' plot:\n",
    "plt.subplot(5, 5, 13)\n",
    "_ = data_centroeste.NU_NOTA_LC.plot.hist(bins=faixa, title='Gráfico coluna notas LC - Região Centro-Oeste', weights=zeros_like(data_centroeste.NU_NOTA_LC)+1./data_centroeste.NU_NOTA_LC.size*100)\n",
    "plt.ylabel('Frequência relativa (em %)')\n",
    "plt.xlabel('Nota LC')\n",
    "plt.ylim(ymax=35)\n",
    "# 'Matemática e suas Tecnologias' plot:\n",
    "plt.subplot(5, 5, 14)\n",
    "_ = data_centroeste.NU_NOTA_MT.plot.hist(bins=faixa, title='Gráfico coluna notas MT - Região Centro-Oeste', weights=zeros_like(data_centroeste.NU_NOTA_MT)+1./data_centroeste.NU_NOTA_MT.size*100)\n",
    "plt.ylabel('Frequência relativa (em %)')\n",
    "plt.xlabel('Nota MT')\n",
    "plt.ylim(ymax=35)\n",
    "# 'Q006' plot:\n",
    "plt.subplot(5, 5, 15)\n",
    "data_centroeste.Q006.value_counts(True).sort_index().plot(kind='bar', title='Faixas de renda - Região Centro-Oeste')\n",
    "plt.ylabel('Frequência relativa (em %)')\n",
    "plt.xlabel('Faixas')\n",
    "plt.ylim(ymax=0.4)\n",
    "\n",
    "## 'Sudeste' data plots:\n",
    "\n",
    "plt.subplot(5, 5, 16)\n",
    "_ = data_suldeste.NU_NOTA_CN.plot.hist(bins=faixa,title='Grafico coluna notas CN - Região Sudeste', weights=zeros_like(data_suldeste.NU_NOTA_CN)+1./data_suldeste.NU_NOTA_CN.size*100)\n",
    "plt.ylabel('Frequência relativa (em %)')\n",
    "plt.xlabel('Nota CN')\n",
    "plt.ylim(ymax=35)\n",
    "# 'Ciências Humanas' plot:\n",
    "plt.subplot(5, 5, 17)\n",
    "_ = data_suldeste.NU_NOTA_CH.plot.hist(bins=faixa, title='Gráfico coluna notas CH - Região Sudeste', weights=zeros_like(data_suldeste.NU_NOTA_CH)+1./data_suldeste.NU_NOTA_CH.size*100)\n",
    "plt.ylabel('Frequência relativa (em %)')\n",
    "plt.xlabel('Nota CH')\n",
    "plt.ylim(ymax=35)\n",
    "# 'Linguagens e Códigos' plot:\n",
    "plt.subplot(5, 5, 18)\n",
    "_ = data_suldeste.NU_NOTA_LC.plot.hist(bins=faixa, title='Gráfico coluna notas LC - Região Sudeste', weights=zeros_like(data_suldeste.NU_NOTA_LC)+1./data_suldeste.NU_NOTA_LC.size*100)\n",
    "plt.ylabel('Frequência relativa (em %)')\n",
    "plt.xlabel('Nota LC')\n",
    "plt.ylim(ymax=35)\n",
    "# 'Matemática e suas Tecnologias' plot:\n",
    "plt.subplot(5, 5, 19)\n",
    "_ = data_suldeste.NU_NOTA_MT.plot.hist(bins=faixa, title='Gráfico coluna notas MT - Região Sudeste', weights=zeros_like(data_suldeste.NU_NOTA_MT)+1./data_suldeste.NU_NOTA_MT.size*100)\n",
    "plt.ylabel('Frequência relativa (em %)')\n",
    "plt.xlabel('Nota MT')\n",
    "plt.ylim(ymax=35)\n",
    "# 'Q006' plot:\n",
    "plt.subplot(5, 5, 20)\n",
    "data_suldeste.Q006.value_counts(True).sort_index().plot(kind='bar', title='Faixas de renda - Sudeste')\n",
    "plt.ylabel('Frequência relativa (em %)')\n",
    "plt.xlabel('Faixas')\n",
    "plt.ylim(ymax=0.4)\n",
    "\n",
    "## 'Sul' data plots:\n",
    "\n",
    "plt.subplot(5, 5, 21)\n",
    "_ = data_sul.NU_NOTA_CN.plot.hist(bins=faixa,title='Grafico coluna notas CN - Região Sul', weights=zeros_like(data_sul.NU_NOTA_CN)+1./data_sul.NU_NOTA_CN.size*100)\n",
    "plt.ylabel('Frequência relativa (em %)')\n",
    "plt.xlabel('Nota CN')\n",
    "plt.ylim(ymax=35)\n",
    "# 'Ciências Humanas' plot:\n",
    "plt.subplot(5, 5, 22)\n",
    "_ = data_sul.NU_NOTA_CH.plot.hist(bins=faixa, title='Gráfico coluna notas CH - Região Sul', weights=zeros_like(data_sul.NU_NOTA_CH)+1./data_sul.NU_NOTA_CH.size*100)\n",
    "plt.ylabel('Frequência relativa (em %)')\n",
    "plt.xlabel('Nota CH')\n",
    "plt.ylim(ymax=35)\n",
    "# 'Linguagens e Códigos' plot:\n",
    "plt.subplot(5, 5, 23)\n",
    "_ = data_sul.NU_NOTA_LC.plot.hist(bins=faixa, title='Gráfico coluna notas LC - Região Sul', weights=zeros_like(data_sul.NU_NOTA_LC)+1./data_sul.NU_NOTA_LC.size*100)\n",
    "plt.ylabel('Frequência relativa (em %)')\n",
    "plt.xlabel('Nota LC')\n",
    "plt.ylim(ymax=35)\n",
    "# 'Matemática e suas Tecnologias' plot:\n",
    "plt.subplot(5, 5, 24)\n",
    "_ = data_sul.NU_NOTA_MT.plot.hist(bins=faixa, title='Gráfico coluna notas MT - Região Sul', weights=zeros_like(data_sul.NU_NOTA_MT)+1./data_sul.NU_NOTA_MT.size*100)\n",
    "plt.ylabel('Frequência relativa (em %)')\n",
    "plt.xlabel('Nota MT')\n",
    "plt.ylim(ymax=35)\n",
    "# 'Q006' plot:\n",
    "plt.subplot(5, 5, 25)\n",
    "data_sul.Q006.value_counts(True).sort_index().plot(kind='bar', title='Faixas de renda - Sul')\n",
    "plt.ylabel('Frequência relativa (em %)')\n",
    "plt.xlabel('Faixas')\n",
    "plt.ylim(ymax=0.4)\n",
    "\n",
    "\n",
    "## Adjusts between plot windows:\n",
    "plt.suptitle('Notas e Rendas de 2015 por Região Administrativa', fontsize=45)\n",
    "plt.subplots_adjust(top=0.9)\n",
    "\n",
    "## Displaing all plots:\n",
    "plt.show()"
   ]
  },
  {
   "cell_type": "code",
   "execution_count": null,
   "metadata": {},
   "outputs": [],
   "source": []
  },
  {
   "cell_type": "code",
   "execution_count": null,
   "metadata": {},
   "outputs": [],
   "source": []
  },
  {
   "cell_type": "code",
   "execution_count": null,
   "metadata": {},
   "outputs": [],
   "source": []
  },
  {
   "cell_type": "code",
   "execution_count": null,
   "metadata": {},
   "outputs": [],
   "source": []
  },
  {
   "cell_type": "markdown",
   "metadata": {},
   "source": [
    "## Separando Bases (teste e treinamento):"
   ]
  },
  {
   "cell_type": "code",
   "execution_count": null,
   "metadata": {},
   "outputs": [],
   "source": [
    "def database_separation(filename_list, database_year, display_step=10, sep=',', chunksize=1000):\n",
    "    \"\"\"Generates random sample for training and test databases and exports to separated .csv files\"\"\"\n",
    "    # Raising warning:\n",
    "    warnings.warn(\"\\n\\nWARNING! Depending on chunksize value, files amount and/or files size this process might take time to compute\")\n",
    "    # Local data storages:\n",
    "    training_df_list = []\n",
    "    test_df_list = []\n",
    "    # Counter:\n",
    "    chunkcounter = 0\n",
    "    # Process progress exibited to user:\n",
    "    print(\"Process iniciated...\")\n",
    "    # Reading all data from filtered .csv files:\n",
    "    for filename in filename_list:\n",
    "        for chunk in pd.read_csv(filename, chunksize=chunksize, encoding='latin-1', header=0, sep=sep):\n",
    "            # Generating a random sample (selecting 80% of data):\n",
    "            training_chunk = chunk.sample(frac=0.8)\n",
    "            # Selecting indexers:\n",
    "            indexers = training_chunk.index\n",
    "            # selecting all rows which index is NOT in 'indexers' (the remaining 20% of data):\n",
    "            test_chunk = chunk[~chunk.index.isin(indexers)]\n",
    "            # Saving chunk's data on local list:\n",
    "            training_df_list.append(training_chunk)\n",
    "            test_df_list.append(test_chunk)\n",
    "    # Process progress exibited to user:\n",
    "    print(\"Merging all data...\")\n",
    "    # Merging to unique dataframe:\n",
    "    training_df = pd.concat(training_df_list, ignore_index=True)\n",
    "    test_df = pd.concat(test_df_list, ignore_index=True)\n",
    "    \n",
    "    # Process progress exibited to user:\n",
    "    print(\"Exporting data...\")\n",
    "    # Exporting DataFrames to separated .csv files:\n",
    "    training_df.to_csv(\"training_database_{}.csv\".format(database_year), index=False)\n",
    "    test_df.to_csv(\"test_database_{}.csv\".format(database_year), index=False)\n",
    "    \n",
    "    # Process progress exibited to user:\n",
    "    print(\"Process complete\")"
   ]
  },
  {
   "cell_type": "markdown",
   "metadata": {},
   "source": [
    "* **2015**"
   ]
  },
  {
   "cell_type": "code",
   "execution_count": null,
   "metadata": {
    "scrolled": false
   },
   "outputs": [],
   "source": [
    "#database_separation(filename_list_2015, 2015, chunksize=10000)"
   ]
  },
  {
   "cell_type": "markdown",
   "metadata": {},
   "source": [
    "* **2016**"
   ]
  },
  {
   "cell_type": "code",
   "execution_count": null,
   "metadata": {
    "scrolled": true
   },
   "outputs": [],
   "source": [
    "#database_separation(filename_list_2016, 2016, chunksize=10000)"
   ]
  },
  {
   "cell_type": "code",
   "execution_count": null,
   "metadata": {},
   "outputs": [],
   "source": []
  },
  {
   "cell_type": "code",
   "execution_count": null,
   "metadata": {},
   "outputs": [],
   "source": []
  },
  {
   "cell_type": "markdown",
   "metadata": {},
   "source": [
    "## Bibliografia:"
   ]
  },
  {
   "cell_type": "markdown",
   "metadata": {},
   "source": [
    "Sites consultados:\n",
    "* https://openpyxl.readthedocs.io/en/2.5/pandas.html\n",
    "* http://portal.inep.gov.br/microdados\n",
    "* http://scikit-learn.org/stable/auto_examples/linear_model/plot_ols.html\n",
    "* https://en.wikipedia.org/wiki/Coefficient_of_determination#As_squared_correlation_coefficient&gt\n",
    "* https://ensinandomaquinasblog.wordpress.com/2017/12/15/modelos-preditivos-de-notas-de-redacao-do-enem-2015/\n",
    "* https://machinelearningmastery.com/overfitting-and-underfitting-with-machine-learning-algorithms/\n",
    "* \n",
    "* "
   ]
  },
  {
   "cell_type": "code",
   "execution_count": null,
   "metadata": {},
   "outputs": [],
   "source": []
  }
 ],
 "metadata": {
  "kernelspec": {
   "display_name": "Python 3",
   "language": "python",
   "name": "python3"
  },
  "language_info": {
   "codemirror_mode": {
    "name": "ipython",
    "version": 3
   },
   "file_extension": ".py",
   "mimetype": "text/x-python",
   "name": "python",
   "nbconvert_exporter": "python",
   "pygments_lexer": "ipython3",
   "version": "3.6.4"
  }
 },
 "nbformat": 4,
 "nbformat_minor": 2
}
