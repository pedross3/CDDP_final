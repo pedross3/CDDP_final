{
 "cells": [
  {
   "cell_type": "markdown",
   "metadata": {},
   "source": [
    "# Ciência dos Dados - Projeto 03 - "
   ]
  },
  {
   "cell_type": "markdown",
   "metadata": {},
   "source": [
    "$Arthur\\space Alegro \\space de \\space Oliveira$\n",
    "\n",
    "$Pedro\\space dos\\space Santos \\space e \\space Silva$\n",
    "\n",
    "$Jhonata\\space Ferreira\\space de \\space Souza$"
   ]
  },
  {
   "cell_type": "markdown",
   "metadata": {},
   "source": [
    "# 1. Introdução"
   ]
  },
  {
   "cell_type": "code",
   "execution_count": null,
   "metadata": {},
   "outputs": [],
   "source": []
  },
  {
   "cell_type": "markdown",
   "metadata": {},
   "source": [
    "## Importando Bibliotecas:"
   ]
  },
  {
   "cell_type": "code",
   "execution_count": 2,
   "metadata": {},
   "outputs": [],
   "source": [
    "% matplotlib inline\n",
    "from openpyxl import load_workbook\n",
    "import matplotlib.pyplot as plt\n",
    "import pandas as pd\n",
    "import numpy as np\n",
    "from math import *\n",
    "import warnings\n",
    "import random\n",
    "import os"
   ]
  },
  {
   "cell_type": "markdown",
   "metadata": {},
   "source": [
    "## Base de Dados:"
   ]
  },
  {
   "cell_type": "markdown",
   "metadata": {},
   "source": [
    "Base de dados do ENEM referente aos anos de 2015 e 2016 extraídas pelo site http://portal.inep.gov.br/microdados.\n",
    "\n",
    "Nomes dos arquivos:\n",
    "* MICRODADOS_ENEM_2015.csv\n",
    "* MICRODADOS_ENEM_2016.csv\n",
    "\n",
    "**OBS.:** Para rodar corretamente este arquivo arquivo iPython Notebook (`.ipynb`)  deve-se extrair o arquivo `.zip` correspondente, acessar a pasta \"DADOS\" e colocar os arquivos `.csv` citados anteriormente no mesmo diretório deste arquivo.\n"
   ]
  },
  {
   "cell_type": "markdown",
   "metadata": {},
   "source": [
    "## Diretório:"
   ]
  },
  {
   "cell_type": "code",
   "execution_count": 2,
   "metadata": {
    "scrolled": true
   },
   "outputs": [
    {
     "name": "stdout",
     "output_type": "stream",
     "text": [
      "Esperamos trabalhar no diretório\n",
      "C:\\Users\\duals\\Documents\\GitHub\\CDDP_final\n"
     ]
    }
   ],
   "source": [
    "print('Esperamos trabalhar no diretório')\n",
    "print(os.getcwd())"
   ]
  },
  {
   "cell_type": "markdown",
   "metadata": {},
   "source": [
    "#### Link para a base de dados já filtrada:\n",
    "https://drive.google.com/open?id=1yq4DAJyJ2Er902X7Z1JuGc_t7w-aTIXJ"
   ]
  },
  {
   "cell_type": "code",
   "execution_count": null,
   "metadata": {},
   "outputs": [],
   "source": []
  },
  {
   "cell_type": "code",
   "execution_count": null,
   "metadata": {},
   "outputs": [],
   "source": []
  },
  {
   "cell_type": "markdown",
   "metadata": {},
   "source": [
    "# 2. Minerando Dados e Características do Dataset"
   ]
  },
  {
   "cell_type": "markdown",
   "metadata": {},
   "source": [
    "## Verificando dimensões dos arquivos:"
   ]
  },
  {
   "cell_type": "code",
   "execution_count": 3,
   "metadata": {
    "scrolled": true
   },
   "outputs": [],
   "source": [
    "def thousand_dot(number):\n",
    "    \"\"\"Convert int value in a string with dots as thousands separator\"\"\"\n",
    "    lista = []\n",
    "    count = 0\n",
    "    for digit in (str(number))[::-1]:\n",
    "        lista.append(digit)\n",
    "        count +=1\n",
    "        if count == 3:\n",
    "            lista.append('.')\n",
    "            count = 0\n",
    "    lista.reverse\n",
    "    elements = ''.join(lista)[::-1]\n",
    "    return elements\n",
    "\n",
    "\n",
    "def dimension_calculator(filename, chunksize=1000, sep=','):\n",
    "    \"\"\"Counts the amount of rows and columns on a .csv file\"\"\"\n",
    "    # Raising warning:\n",
    "    warnings.warn(\"\\n\\nWARNING! Depending on chunksize value and/or file size this process might take time to compute\")\n",
    "    # Parameters:\n",
    "    rows = 0\n",
    "    columns_labels = ''\n",
    "    count = True\n",
    "    # Process progress exibited to user:\n",
    "    print(\"Processing...\")\n",
    "    # Opening database and counting values:\n",
    "    for chunk in pd.read_csv(filename, chunksize=chunksize, encoding='latin-1', header=0, sep=sep):\n",
    "        rows += len(chunk['NU_INSCRICAO'])\n",
    "        if count == True:\n",
    "            columns_labels = chunk.columns.values\n",
    "            count = False\n",
    "            \n",
    "    # Process progress exibited to user:\n",
    "    print(\"Process complete\\n\")   \n",
    "    print(\"Number of rows: {}\".format(thousand_dot(rows)))\n",
    "    print(\"Number of columns: {}\".format(len(columns_labels)))\n",
    "    print(\"Number of elements: {}\".format(thousand_dot(rows*len(columns_labels))))"
   ]
  },
  {
   "cell_type": "markdown",
   "metadata": {},
   "source": [
    "* **2015**"
   ]
  },
  {
   "cell_type": "code",
   "execution_count": 4,
   "metadata": {},
   "outputs": [
    {
     "name": "stderr",
     "output_type": "stream",
     "text": [
      "C:\\Users\\duals\\AppData\\Local\\Continuum\\anaconda3\\lib\\site-packages\\ipykernel_launcher.py:19: UserWarning: \n",
      "\n",
      "WARNING! Depending on chunksize value and/or file size this process might take time to compute\n"
     ]
    },
    {
     "name": "stdout",
     "output_type": "stream",
     "text": [
      "Processing...\n",
      "Process complete\n",
      "\n",
      "Number of rows: 7.746.427\n",
      "Number of columns: 166\n",
      "Number of elements: 1.285.906.882\n"
     ]
    }
   ],
   "source": [
    "dimension_calculator(\"MICRODADOS_ENEM_2015.csv\")"
   ]
  },
  {
   "cell_type": "markdown",
   "metadata": {},
   "source": [
    "* **2016**"
   ]
  },
  {
   "cell_type": "code",
   "execution_count": 5,
   "metadata": {},
   "outputs": [
    {
     "name": "stdout",
     "output_type": "stream",
     "text": [
      "Processing...\n"
     ]
    },
    {
     "name": "stderr",
     "output_type": "stream",
     "text": [
      "C:\\Users\\duals\\AppData\\Local\\Continuum\\anaconda3\\lib\\site-packages\\ipykernel_launcher.py:19: UserWarning: \n",
      "\n",
      "WARNING! Depending on chunksize value and/or file size this process might take time to compute\n"
     ]
    },
    {
     "name": "stdout",
     "output_type": "stream",
     "text": [
      "Process complete\n",
      "\n",
      "Number of rows: 8.627.367\n",
      "Number of columns: 166\n",
      "Number of elements: 1.432.142.922\n"
     ]
    }
   ],
   "source": [
    "dimension_calculator(\"MICRODADOS_ENEM_2016.csv\", sep=';')"
   ]
  },
  {
   "cell_type": "markdown",
   "metadata": {},
   "source": [
    "## Filtragem do Database:"
   ]
  },
  {
   "cell_type": "markdown",
   "metadata": {},
   "source": [
    "Selecionamos uma parte da base de dados (100.000 rows de dados) para análise em escala reduzida.\n",
    "\n",
    "Após todas as filtragens e cálculos forem concluídos, todo o processo será refeito para cada `chunk`, podendo aplicar as implementações para todo a base de dados muito mais rápido, sem a necessidade de carregar o arquivo completo de uma vez (o que pode ser impossível, pois, em alguns casos, demanda mais processamento e memória que o computador possui)"
   ]
  },
  {
   "cell_type": "code",
   "execution_count": 6,
   "metadata": {},
   "outputs": [],
   "source": [
    "def save_df(to_open_filename, database_year,iteration_times, chunksize=1000, sep=','):\n",
    "    # Raising warning:\n",
    "    warnings.warn(\"\\n\\nWARNING! Depending on chunksize value and/or file size this process might take time to compute\")\n",
    "\n",
    "    # Counters and Status Controllers:\n",
    "    overallcounter = 0\n",
    "    chunkcounter = 0\n",
    "    filecounter = 0\n",
    "    shapecounter = [0, 0]\n",
    "    to_save_filename = \"test_dataframe_{}({}).csv\".format(database_year, filecounter)\n",
    "    # Process progress exibited to user:\n",
    "    print(\"Opening file...\")\n",
    "    # Loading database in chunks and defining chunk size, correct enconding and reading configs:\n",
    "    for chunk in pd.read_csv(to_open_filename, chunksize=chunksize, encoding='latin-1', header=0, sep=sep):\n",
    "\n",
    "        # Selecting relevant parameters for dismiss useless data:\n",
    "        chunk = chunk[(chunk[\"TP_PRESENCA_CN\"] == 1) & (chunk[\"TP_PRESENCA_CH\"] == 1) & \n",
    "                      (chunk[\"TP_PRESENCA_LC\"] == 1) & (chunk[\"TP_PRESENCA_MT\"] == 1) & \n",
    "                      (chunk[\"TP_STATUS_REDACAO\"] == 1) & (chunk[\"IN_TREINEIRO\"] == 0)]\n",
    "\n",
    "        # Selecting relevant parameters for fitering data:\n",
    "        chunk = chunk.loc[:, [\"SG_UF_RESIDENCIA\", \"NU_IDADE\", \"TP_SEXO\", \"TP_ESTADO_CIVIL\", \"TP_COR_RACA\", \"TP_ST_CONCLUSAO\", \n",
    "                              \"TP_ESCOLA\", \"NU_NOTA_CN\", \"NU_NOTA_CH\", \"NU_NOTA_LC\", \"NU_NOTA_MT\", \"NU_NOTA_REDACAO\", \"Q006\"]]\n",
    "\n",
    "        # Exporting dataframe to new .csv file below existent data:\n",
    "        chunk.to_csv(to_save_filename, index=False)\n",
    "\n",
    "        # Counters update and process progress exibited to user:\n",
    "        chunkcounter += 1\n",
    "        overallcounter += 1\n",
    "        filecounter += 1\n",
    "        shapecounter[0] += chunk.shape[0]\n",
    "        shapecounter[1] = chunk.shape[1]\n",
    "        print(\"Processing... ({}/{}) - {} rows processed - Saving in '{}')\".format(overallcounter, iteration_times, shapecounter[0], to_save_filename))\n",
    "        to_save_filename = \"test_dataframe_{}({}).csv\".format(database_year, filecounter)\n",
    "    print(\"Process Completed\")"
   ]
  },
  {
   "cell_type": "markdown",
   "metadata": {},
   "source": [
    "* **2015**"
   ]
  },
  {
   "cell_type": "code",
   "execution_count": 7,
   "metadata": {
    "scrolled": true
   },
   "outputs": [
    {
     "name": "stderr",
     "output_type": "stream",
     "text": [
      "C:\\Users\\duals\\AppData\\Local\\Continuum\\anaconda3\\lib\\site-packages\\ipykernel_launcher.py:3: UserWarning: \n",
      "\n",
      "WARNING! Depending on chunksize value and/or file size this process might take time to compute\n",
      "  This is separate from the ipykernel package so we can avoid doing imports until\n"
     ]
    },
    {
     "name": "stdout",
     "output_type": "stream",
     "text": [
      "Opening file...\n",
      "Processing... (1/8) - 723612 rows processed - Saving in 'test_dataframe_2015(0).csv')\n",
      "Processing... (2/8) - 1425321 rows processed - Saving in 'test_dataframe_2015(1).csv')\n",
      "Processing... (3/8) - 2097387 rows processed - Saving in 'test_dataframe_2015(2).csv')\n",
      "Processing... (4/8) - 2742262 rows processed - Saving in 'test_dataframe_2015(3).csv')\n",
      "Processing... (5/8) - 3346414 rows processed - Saving in 'test_dataframe_2015(4).csv')\n",
      "Processing... (6/8) - 3928083 rows processed - Saving in 'test_dataframe_2015(5).csv')\n",
      "Processing... (7/8) - 4429373 rows processed - Saving in 'test_dataframe_2015(6).csv')\n",
      "Processing... (8/8) - 4768463 rows processed - Saving in 'test_dataframe_2015(7).csv')\n",
      "Process Completed\n"
     ]
    }
   ],
   "source": [
    "# Creating filtered .csv file:\n",
    "save_df('MICRODADOS_ENEM_2015.csv', database_year=2015, chunksize=1000000, iteration_times=8)"
   ]
  },
  {
   "cell_type": "markdown",
   "metadata": {},
   "source": [
    "* **2016**"
   ]
  },
  {
   "cell_type": "code",
   "execution_count": 8,
   "metadata": {},
   "outputs": [
    {
     "name": "stdout",
     "output_type": "stream",
     "text": [
      "Opening file...\n"
     ]
    },
    {
     "name": "stderr",
     "output_type": "stream",
     "text": [
      "C:\\Users\\duals\\AppData\\Local\\Continuum\\anaconda3\\lib\\site-packages\\ipykernel_launcher.py:3: UserWarning: \n",
      "\n",
      "WARNING! Depending on chunksize value and/or file size this process might take time to compute\n",
      "  This is separate from the ipykernel package so we can avoid doing imports until\n"
     ]
    },
    {
     "name": "stdout",
     "output_type": "stream",
     "text": [
      "Processing... (1/9) - 658887 rows processed - Saving in 'test_dataframe_2016(0).csv')\n",
      "Processing... (2/9) - 1309576 rows processed - Saving in 'test_dataframe_2016(1).csv')\n",
      "Processing... (3/9) - 1932155 rows processed - Saving in 'test_dataframe_2016(2).csv')\n",
      "Processing... (4/9) - 2540238 rows processed - Saving in 'test_dataframe_2016(3).csv')\n",
      "Processing... (5/9) - 3116716 rows processed - Saving in 'test_dataframe_2016(4).csv')\n",
      "Processing... (6/9) - 3656028 rows processed - Saving in 'test_dataframe_2016(5).csv')\n",
      "Processing... (7/9) - 4154448 rows processed - Saving in 'test_dataframe_2016(6).csv')\n",
      "Processing... (8/9) - 4604923 rows processed - Saving in 'test_dataframe_2016(7).csv')\n",
      "Processing... (9/9) - 4868906 rows processed - Saving in 'test_dataframe_2016(8).csv')\n",
      "Process Completed\n"
     ]
    }
   ],
   "source": [
    "# Creating filtered .csv file:\n",
    "save_df('MICRODADOS_ENEM_2016.csv', database_year=2016, chunksize=1000000, iteration_times=9, sep=';')"
   ]
  },
  {
   "cell_type": "markdown",
   "metadata": {},
   "source": [
    "## Verificando integridade dos arquivos:"
   ]
  },
  {
   "cell_type": "code",
   "execution_count": 5,
   "metadata": {},
   "outputs": [],
   "source": [
    "filename_list_2015 = [\"test_dataframe_2015(0).csv\", \"test_dataframe_2015(1).csv\", \n",
    "                      \"test_dataframe_2015(2).csv\", \"test_dataframe_2015(3).csv\", \n",
    "                      \"test_dataframe_2015(4).csv\", \"test_dataframe_2015(5).csv\", \n",
    "                      \"test_dataframe_2015(6).csv\", \"test_dataframe_2015(7).csv\"]\n",
    "\n",
    "filename_list_2016 = [\"test_dataframe_2016(0).csv\", \"test_dataframe_2016(1).csv\",\n",
    "                      \"test_dataframe_2016(2).csv\", \"test_dataframe_2016(3).csv\", \n",
    "                      \"test_dataframe_2016(4).csv\", \"test_dataframe_2016(5).csv\", \n",
    "                      \"test_dataframe_2016(6).csv\", \"test_dataframe_2016(7).csv\", \n",
    "                      \"test_dataframe_2016(8).csv\"]"
   ]
  },
  {
   "cell_type": "code",
   "execution_count": 6,
   "metadata": {},
   "outputs": [],
   "source": [
    "def integrity_verification(filename_list, database_year):\n",
    "    \"\"\"Counts the amount of rows in multiple .csv files\"\"\"\n",
    "    rows_count = 0\n",
    "    for filename in filename_list:\n",
    "        for chunk in pd.read_csv(filename, chunksize=1000, encoding='latin-1', header=0, sep=','):\n",
    "            rows_count += chunk.shape[0]\n",
    "    print(\"{} database - Total rows: {}\".format(database_year, rows_count))"
   ]
  },
  {
   "cell_type": "code",
   "execution_count": 8,
   "metadata": {},
   "outputs": [
    {
     "name": "stdout",
     "output_type": "stream",
     "text": [
      "2015 database - Total rows: 4768463\n",
      "2016 database - Total rows: 4868906\n"
     ]
    }
   ],
   "source": [
    "integrity_verification(filename_list_2015, 2015)\n",
    "integrity_verification(filename_list_2016, 2016)"
   ]
  },
  {
   "cell_type": "markdown",
   "metadata": {},
   "source": [
    "## Separando Bases (teste e treinamento):"
   ]
  },
  {
   "cell_type": "code",
   "execution_count": 45,
   "metadata": {},
   "outputs": [],
   "source": [
    "def database_separation(filename_list, database_year, sep=',', chunksize=1000):\n",
    "    \"\"\"Generates random sample for training and test databases and exports to separated .csv files\"\"\"\n",
    "    # Raising warning:\n",
    "    warnings.warn(\"\\n\\nWARNING! Depending on chunksize value, files amount and/or files size this process might take time to compute\")\n",
    "    # Dataframes to recieve chunks' data:\n",
    "    training_df = pd.DataFrame(data=None)\n",
    "    test_df = pd.DataFrame(data=None)\n",
    "    # Counter:\n",
    "    chunkcounter = 0\n",
    "    # Process progress exibited to user:\n",
    "    print(\"Process iniciated...\")\n",
    "    # Reading all data from filtered .csv files:\n",
    "    for filename in filename_list:\n",
    "        for chunk in pd.read_csv(filename, chunksize=chunksize, encoding='latin-1', header=0, sep=sep):\n",
    "            # Creating list with chunk indexers:\n",
    "            indexers = list(chunk.index)\n",
    "            \n",
    "            # Random shuffling chunk's index values:\n",
    "            random.shuffle(indexers)\n",
    "            \n",
    "            # Separating 80% to training database and 20% to test database:\n",
    "            training_chunk_idx = indexers[:int((chunkcounter + 0.8)*chunksize)]\n",
    "            test_chunk_idx = indexers[int((chunkcounter + 0.8)*chunksize):]\n",
    "\n",
    "            # Sorting chunk indexers:\n",
    "            training_chunk_idx.sort()\n",
    "            test_chunk_idx.sort()\n",
    "\n",
    "            # Slicing chunk's data:\n",
    "            training_chunk = chunk.iloc[training_chunk_idx, :]\n",
    "            test_chunk = chunk.iloc[test_chunk_idx, :]\n",
    "            print(training_chunk_idx)\n",
    "            # Setting 'is_copy' argument (avoid file corruption):\n",
    "            training_chunk.is_copy\n",
    "            test_chunk.is_copy\n",
    "            \n",
    "            # Appending separated chunk data to reference DataFrame:\n",
    "            pd.concat([training_df, training_chunk], ignore_index=True)\n",
    "            pd.concat([training_df, test_chunk], ignore_index=True)\n",
    "        \n",
    "            # Counters update and process progress exibited to user:\n",
    "            chunkcounter += 1\n",
    "            print(\"{} chunks processed - {} rows processed\".format(chunkcounter, chunkcounter*chunksize))\n",
    "    # Process progress exibited to user:\n",
    "    print(\"Exporting data...\")\n",
    "    \n",
    "    # Exporting DataFrames to separated .csv files:\n",
    "    training_df.to_csv(\"training_database_{}.csv\".format(database_year), index=False)\n",
    "    test_df.to_csv(\"test_database{}.csv\".format(database_year), index=False)\n",
    "    \n",
    "    # Process progress exibited to user:\n",
    "    print(\"Process complete\")"
   ]
  },
  {
   "cell_type": "markdown",
   "metadata": {},
   "source": [
    "* **2015**"
   ]
  },
  {
   "cell_type": "code",
   "execution_count": 46,
   "metadata": {},
   "outputs": [
    {
     "name": "stdout",
     "output_type": "stream",
     "text": [
      "Process iniciated...\n",
      "[0, 1, 2, 3, 5, 6, 7, 8, 11, 12, 13, 14, 15, 16, 17, 18, 19, 20, 21, 22, 23, 26, 27, 28, 29, 30, 31, 32, 34, 35, 37, 38, 41, 42, 43, 44, 45, 50, 52, 53, 54, 55, 56, 57, 58, 59, 60, 63, 64, 65, 66, 67, 68, 69, 70, 71, 72, 73, 74, 75, 76, 77, 78, 81, 82, 83, 84, 86, 87, 88, 90, 91, 92, 96, 97, 98, 99, 100, 101, 102, 104, 105, 107, 108, 109, 110, 112, 114, 115, 116, 117, 118, 119, 120, 121, 122, 123, 124, 125, 127, 128, 129, 130, 131, 133, 134, 135, 136, 137, 139, 140, 141, 142, 143, 144, 145, 147, 148, 149, 150, 151, 152, 154, 155, 156, 157, 158, 161, 162, 163, 164, 165, 167, 168, 169, 170, 171, 172, 175, 176, 178, 179, 181, 182, 183, 184, 185, 187, 188, 190, 191, 193, 194, 195, 197, 198, 199, 200, 201, 202, 203, 204, 206, 207, 208, 209, 210, 211, 212, 213, 214, 215, 216, 217, 218, 220, 221, 223, 224, 225, 226, 228, 229, 230, 231, 232, 234, 235, 236, 237, 238, 239, 242, 243, 245, 246, 247, 248, 251, 252, 253, 256, 258, 259, 260, 261, 263, 265, 267, 268, 269, 270, 271, 272, 273, 274, 276, 277, 278, 280, 282, 283, 284, 285, 286, 287, 288, 289, 290, 291, 292, 293, 294, 295, 296, 298, 299, 303, 304, 305, 306, 307, 308, 309, 310, 311, 312, 313, 314, 315, 316, 317, 318, 319, 320, 321, 322, 323, 324, 325, 327, 328, 329, 330, 331, 332, 334, 335, 336, 339, 340, 341, 342, 343, 344, 345, 346, 347, 348, 349, 350, 351, 352, 353, 354, 356, 357, 359, 361, 362, 364, 365, 366, 368, 369, 370, 371, 372, 373, 374, 375, 376, 377, 378, 379, 380, 381, 383, 384, 385, 386, 387, 388, 390, 391, 394, 395, 396, 399, 400, 401, 402, 403, 404, 405, 407, 411, 412, 413, 414, 415, 416, 417, 418, 419, 420, 421, 422, 423, 425, 426, 427, 428, 429, 430, 431, 432, 433, 434, 435, 436, 437, 438, 439, 440, 441, 442, 443, 444, 445, 448, 449, 450, 451, 452, 454, 455, 456, 457, 458, 459, 460, 461, 462, 463, 464, 465, 467, 468, 469, 470, 471, 473, 477, 480, 481, 482, 483, 484, 485, 487, 489, 490, 491, 492, 498, 499, 500, 501, 502, 505, 506, 507, 508, 511, 512, 513, 514, 515, 516, 517, 519, 520, 521, 523, 524, 525, 527, 529, 530, 531, 532, 533, 534, 535, 536, 537, 538, 539, 540, 541, 542, 543, 544, 545, 546, 547, 548, 549, 550, 551, 552, 554, 555, 556, 557, 558, 559, 560, 561, 562, 563, 564, 565, 566, 567, 568, 569, 570, 572, 573, 574, 575, 576, 577, 578, 580, 583, 584, 586, 588, 590, 591, 592, 593, 594, 596, 597, 599, 600, 601, 602, 603, 604, 605, 606, 607, 608, 609, 610, 611, 613, 614, 615, 617, 618, 619, 620, 621, 622, 623, 624, 625, 627, 630, 632, 633, 634, 636, 637, 638, 639, 640, 643, 647, 648, 650, 652, 653, 657, 658, 659, 662, 663, 664, 665, 667, 668, 669, 670, 671, 672, 673, 674, 675, 676, 677, 678, 679, 681, 682, 683, 684, 685, 686, 687, 688, 689, 690, 692, 693, 694, 696, 699, 701, 704, 705, 706, 707, 708, 711, 712, 714, 715, 716, 717, 719, 720, 722, 724, 727, 728, 730, 731, 732, 735, 736, 737, 738, 739, 740, 741, 742, 743, 745, 746, 747, 748, 750, 752, 753, 754, 755, 757, 758, 759, 760, 761, 762, 763, 766, 767, 768, 770, 771, 772, 776, 777, 778, 779, 780, 781, 783, 785, 786, 787, 788, 789, 790, 791, 792, 793, 795, 796, 797, 798, 799, 801, 802, 804, 805, 807, 808, 809, 811, 812, 813, 814, 815, 818, 819, 820, 821, 822, 823, 824, 825, 826, 827, 830, 831, 832, 833, 834, 836, 837, 838, 840, 841, 842, 844, 845, 846, 847, 848, 849, 850, 851, 852, 853, 854, 855, 856, 859, 860, 861, 862, 863, 864, 865, 866, 867, 869, 870, 871, 873, 874, 875, 876, 877, 878, 879, 880, 881, 882, 883, 884, 885, 886, 887, 888, 889, 890, 891, 892, 893, 895, 896, 897, 898, 899, 900, 902, 903, 904, 906, 907, 908, 909, 910, 911, 912, 913, 914, 915, 916, 918, 919, 920, 921, 923, 924, 925, 926, 927, 928, 930, 931, 932, 934, 935, 936, 937, 938, 940, 941, 942, 943, 944, 945, 947, 949, 950, 952, 953, 955, 958, 959, 960, 961, 962, 963, 964, 965, 966, 967, 968, 969, 972, 974, 975, 978, 979, 980, 982, 984, 985, 986, 987, 989, 990, 991, 992, 993, 994, 995, 996, 997, 998, 999, 1000, 1001, 1003, 1004, 1006, 1007, 1008, 1009, 1010, 1011, 1013, 1014, 1016, 1018, 1020, 1021, 1022, 1026, 1027, 1028, 1029, 1030, 1031, 1032, 1034, 1035, 1036, 1037, 1038, 1039, 1040, 1041, 1042, 1043, 1044, 1045, 1047, 1048, 1050, 1051, 1052, 1053, 1054, 1055, 1056, 1057, 1058, 1059, 1060, 1061, 1062, 1063, 1066, 1067, 1068, 1069, 1070, 1071, 1072, 1073, 1074, 1075, 1076, 1077, 1078, 1079, 1080, 1082, 1083, 1084, 1085, 1086, 1087, 1088, 1089, 1090, 1091, 1092, 1093, 1094, 1095, 1096, 1097, 1098, 1099, 1100, 1101, 1102, 1103, 1104, 1105, 1106, 1107, 1108, 1110, 1112, 1113, 1114, 1115, 1116, 1117, 1118, 1119, 1120, 1121, 1123, 1124, 1125, 1126, 1127, 1129, 1130, 1132, 1136, 1137, 1138, 1139, 1140, 1143, 1144, 1145, 1146, 1147, 1148, 1149, 1150, 1152, 1154, 1156, 1157, 1159, 1160, 1162, 1166, 1167, 1169, 1170, 1171, 1172, 1173, 1174, 1175, 1176, 1177, 1178, 1179, 1180, 1181, 1182, 1183, 1184, 1185, 1186, 1188, 1189, 1190, 1192, 1193, 1194, 1196, 1197, 1198, 1199, 1200, 1201, 1203, 1206, 1207, 1208, 1209, 1210, 1211, 1212, 1213, 1214, 1215, 1217, 1218, 1219, 1220, 1221, 1222, 1223, 1224, 1226, 1227, 1228, 1229, 1230, 1231, 1232, 1233, 1234, 1235, 1237, 1238, 1239, 1240, 1242, 1243, 1244, 1245, 1246, 1247, 1249, 1250, 1251, 1252, 1254, 1255, 1257, 1260, 1261, 1263, 1264, 1266, 1267, 1268, 1269, 1270, 1271, 1273, 1274, 1276, 1279, 1280, 1281, 1283, 1284, 1285, 1286, 1287, 1289, 1290, 1291, 1292, 1293, 1294, 1297, 1298, 1299, 1301, 1302, 1303, 1305, 1307, 1308, 1309, 1310, 1311, 1312, 1313, 1314, 1315, 1316, 1317, 1318, 1320, 1321, 1322, 1323, 1324, 1325, 1326, 1327, 1328, 1329, 1331, 1332, 1334, 1335, 1336, 1337, 1339, 1342, 1343, 1344, 1346, 1347, 1348, 1350, 1352, 1353, 1354, 1355, 1356, 1357, 1359, 1360, 1361, 1362, 1363, 1364, 1365, 1366, 1367, 1368, 1370, 1371, 1372, 1373, 1374, 1375, 1376, 1377, 1378, 1379, 1380, 1381, 1382, 1383, 1384, 1385, 1386, 1389, 1391, 1392, 1394, 1395, 1396, 1397, 1399, 1400, 1402, 1403, 1404, 1406, 1408, 1409, 1411, 1412, 1413, 1415, 1416, 1417, 1418, 1420, 1421, 1422, 1423, 1425, 1426, 1427, 1429, 1430, 1431, 1433, 1434, 1435, 1437, 1438, 1440, 1441, 1442, 1444, 1445, 1446, 1447, 1448, 1449, 1450, 1451, 1452, 1453, 1454, 1456, 1457, 1458, 1459, 1460, 1461, 1462, 1465, 1466, 1467, 1468, 1469, 1470, 1471, 1473, 1475, 1476, 1477, 1478, 1479, 1480, 1481, 1482, 1483, 1484, 1486, 1487, 1488, 1489, 1490, 1491, 1492, 1494, 1495, 1496, 1497, 1498, 1500, 1502, 1504, 1505, 1506, 1507, 1508, 1509, 1511, 1512, 1513, 1514, 1515, 1517, 1518, 1519, 1520, 1522, 1525, 1526, 1527, 1529, 1530, 1531, 1534, 1535, 1536, 1537, 1538, 1539, 1540, 1541, 1542, 1543, 1544, 1545, 1546, 1547, 1548, 1549, 1550, 1551, 1553, 1554, 1555, 1556, 1558, 1559, 1560, 1561, 1563, 1564, 1565, 1566, 1567, 1568, 1569, 1570, 1573, 1574, 1575, 1576, 1577, 1579, 1580, 1581, 1582, 1583, 1584, 1586, 1587, 1588, 1589, 1590, 1591, 1592, 1593, 1594, 1596, 1597, 1598, 1599, 1600, 1601, 1602, 1603, 1604, 1607, 1608, 1609, 1610, 1611, 1612, 1613, 1614, 1617, 1620, 1621, 1622, 1623, 1624, 1626, 1627, 1628, 1629, 1630, 1631, 1632, 1633, 1634, 1636, 1637, 1638, 1639, 1640, 1642, 1643, 1644, 1645, 1647, 1648, 1649, 1650, 1651, 1652, 1653, 1654, 1655, 1656, 1657, 1660, 1661, 1662, 1663, 1664, 1665, 1667, 1669, 1670, 1671, 1672, 1674, 1676, 1677, 1678, 1679, 1680, 1681, 1682, 1683, 1685, 1686, 1687, 1689, 1690, 1691, 1692, 1693, 1694, 1695, 1696, 1698, 1699, 1700, 1701, 1702, 1703, 1705, 1706, 1707, 1708, 1709, 1710, 1711, 1712, 1713, 1714, 1715, 1717, 1718, 1720, 1721, 1722, 1724, 1727, 1728, 1729, 1730, 1731, 1732, 1734, 1736, 1737, 1738, 1739, 1740, 1742, 1743, 1745, 1746, 1747, 1748, 1749, 1750, 1751, 1752, 1753, 1754, 1755, 1757, 1759, 1760, 1762, 1763, 1764, 1765, 1766, 1767, 1768, 1770, 1773, 1774, 1775, 1776, 1778, 1779, 1780, 1781, 1782, 1783, 1784, 1786, 1787, 1788, 1789, 1790, 1791, 1792, 1794, 1795, 1797, 1800, 1801, 1803, 1805, 1807, 1808, 1809, 1810, 1811, 1812, 1813, 1816, 1817, 1818, 1819, 1820, 1821, 1822, 1823, 1824, 1825, 1826, 1827, 1828, 1829, 1830, 1831, 1832, 1833, 1834, 1835, 1836, 1837, 1838, 1839, 1840, 1842, 1843, 1845, 1846, 1847, 1848, 1849, 1850, 1851, 1852, 1853, 1854, 1855, 1856, 1857, 1858, 1861, 1862, 1863, 1865, 1866, 1867, 1868, 1869, 1870, 1872, 1873, 1875, 1876, 1877, 1878, 1879, 1880, 1881, 1882, 1883, 1884, 1885, 1887, 1888, 1890, 1891, 1893, 1894, 1896, 1897, 1898, 1899, 1900, 1901, 1902, 1903, 1906, 1907, 1908, 1910, 1911, 1912, 1913, 1914, 1915, 1916, 1917, 1918, 1919, 1920, 1921, 1924, 1925, 1926, 1927, 1928, 1930, 1931, 1932, 1933, 1934, 1935, 1936, 1937, 1938, 1939, 1940, 1941, 1942, 1944, 1945, 1948, 1950, 1952, 1954, 1956, 1957, 1958, 1959, 1960, 1962, 1963, 1965, 1966, 1967, 1968, 1969, 1970, 1971, 1973, 1974, 1975, 1978, 1979, 1980, 1981, 1984, 1985, 1986, 1987, 1988, 1989, 1990, 1991, 1992, 1993, 1994, 1995, 1996, 1999, 2001, 2002, 2003, 2004, 2005, 2006, 2007, 2008, 2009, 2010, 2011, 2012, 2013, 2014, 2015, 2016, 2017, 2018, 2019, 2021, 2022, 2023, 2024, 2025, 2028, 2029, 2030, 2031, 2032, 2033, 2034, 2035, 2036, 2037, 2039, 2040, 2041, 2042, 2043, 2044, 2046, 2047, 2048, 2049, 2050, 2052, 2053, 2054, 2055, 2056, 2058, 2059, 2060, 2061, 2062, 2063, 2064, 2066, 2070, 2071, 2073, 2074, 2075, 2076, 2077, 2078, 2080, 2081, 2082, 2083, 2084, 2085, 2086, 2088, 2090, 2091, 2092, 2093, 2094, 2097, 2098, 2100, 2101, 2102, 2105, 2106, 2107, 2108, 2109, 2110, 2111, 2112, 2114, 2116, 2117, 2118, 2119, 2120, 2122, 2123, 2124, 2125, 2126, 2127, 2128, 2129, 2130, 2131, 2132, 2133, 2134, 2135, 2136, 2137, 2139, 2140, 2141, 2142, 2145, 2147, 2148, 2149, 2150, 2151, 2152, 2153, 2154, 2155, 2156, 2157, 2159, 2160, 2161, 2163, 2165, 2166, 2167, 2169, 2170, 2171, 2172, 2173, 2174, 2175, 2176, 2177, 2178, 2179, 2180, 2181, 2182, 2183, 2184, 2186, 2187, 2189, 2190, 2191, 2192, 2193, 2197, 2198, 2199, 2200, 2201, 2202, 2203, 2204, 2206, 2207, 2208, 2209, 2210, 2211, 2212, 2213, 2214, 2215, 2219, 2220, 2222, 2223, 2224, 2225, 2227, 2228, 2229, 2230, 2231, 2232, 2233, 2234, 2235, 2236, 2237, 2239, 2240, 2241, 2242, 2243, 2244, 2245, 2246, 2247, 2248, 2252, 2253, 2254, 2255, 2256, 2257, 2258, 2259, 2260, 2261, 2262, 2263, 2264, 2265, 2266, 2267, 2268, 2270, 2272, 2273, 2274, 2277, 2278, 2279, 2280, 2281, 2285, 2286, 2287, 2288, 2289, 2291, 2293, 2294, 2295, 2297, 2300, 2301, 2302, 2303, 2304, 2306, 2307, 2308, 2309, 2310, 2312, 2313, 2314, 2315, 2316, 2317, 2318, 2319, 2320, 2321, 2322, 2323, 2324, 2325, 2327, 2329, 2330, 2331, 2333, 2334, 2336, 2337, 2339, 2340, 2341, 2342, 2343, 2344, 2345, 2346, 2347, 2348, 2349, 2350, 2352, 2354, 2355, 2356, 2357, 2358, 2360, 2361, 2362, 2363, 2364, 2366, 2367, 2368, 2369, 2370, 2371, 2373, 2375, 2376, 2377, 2378, 2380, 2382, 2384, 2385, 2386, 2387, 2388, 2390, 2391, 2392, 2393, 2395, 2396, 2397, 2398, 2399, 2400, 2401, 2402, 2403, 2404, 2405, 2406, 2407, 2408, 2409, 2410, 2413, 2414, 2415, 2417, 2421, 2422, 2423, 2424, 2426, 2427, 2428, 2429, 2431, 2432, 2433, 2434, 2435, 2437, 2439, 2440, 2441, 2442, 2443, 2444, 2445, 2446, 2447, 2449, 2450, 2451, 2452, 2454, 2456, 2457, 2458, 2459, 2461, 2462, 2463, 2464, 2465, 2466, 2467, 2468, 2469, 2470, 2471, 2472, 2473, 2474, 2475, 2476, 2477, 2479, 2480, 2481, 2482, 2484, 2485, 2487, 2488, 2489, 2490, 2491, 2492, 2493, 2495, 2496, 2497, 2499, 2500, 2501, 2503, 2504, 2506, 2507, 2508, 2509, 2510, 2511, 2512, 2513, 2514, 2515, 2516, 2517, 2518, 2520, 2521, 2522, 2523, 2526, 2527, 2528, 2530, 2531, 2532, 2533, 2536, 2537, 2538, 2539, 2541, 2542, 2543, 2544, 2545, 2547, 2548, 2549, 2551, 2552, 2553, 2556, 2557, 2558, 2561, 2562, 2563, 2564, 2565, 2566, 2568, 2569, 2570, 2571, 2573, 2574, 2575, 2576, 2577, 2578, 2580, 2581, 2582, 2583, 2584, 2585, 2586, 2588, 2591, 2592, 2593, 2594, 2595, 2596, 2598, 2599, 2600, 2602, 2603, 2604, 2605, 2606, 2608, 2609, 2610, 2611, 2612, 2613, 2614, 2615, 2617, 2618, 2619, 2620, 2621, 2622, 2623, 2625, 2626, 2627, 2629, 2631, 2632, 2633, 2634, 2635, 2636, 2638, 2639, 2640, 2641, 2642, 2643, 2644, 2645, 2647, 2648, 2649, 2652, 2653, 2654, 2655, 2656, 2657, 2659, 2660, 2661, 2662, 2663, 2666, 2667, 2668, 2669, 2670, 2671, 2674, 2675, 2677, 2678, 2679, 2680, 2681, 2682, 2683, 2684, 2685, 2688, 2690, 2691, 2692, 2694, 2695, 2696, 2697, 2698, 2699, 2702, 2704, 2707, 2708, 2709, 2710, 2715, 2716, 2717, 2718, 2719, 2721, 2722, 2724, 2725, 2728, 2729, 2730, 2732, 2733, 2734, 2735, 2736, 2737, 2738, 2739, 2740, 2742, 2743, 2744, 2745, 2746, 2748, 2749, 2750, 2751, 2752, 2753, 2754, 2756, 2757, 2760, 2761, 2763, 2764, 2765, 2766, 2768, 2769, 2770, 2771, 2772, 2774, 2775, 2776, 2777, 2778, 2779, 2780, 2782, 2784, 2785, 2786, 2787, 2788, 2789, 2791, 2794, 2795, 2797, 2798, 2799, 2800, 2801, 2802, 2803, 2804, 2805, 2806, 2807, 2808, 2809, 2810, 2811, 2814, 2816, 2817, 2818, 2819, 2820, 2822, 2823, 2824, 2825, 2826, 2827, 2828, 2829, 2830, 2831, 2834, 2835, 2836, 2837, 2838, 2839, 2840, 2841, 2842, 2844, 2845, 2846, 2847, 2849, 2851, 2852, 2853, 2855, 2856, 2857, 2858, 2860, 2861, 2862, 2863, 2864, 2866, 2867, 2868, 2869, 2870, 2871, 2872, 2873, 2874, 2875, 2876, 2877, 2878, 2879, 2880, 2881, 2882, 2884, 2885, 2886, 2887, 2888, 2889, 2890, 2891, 2893, 2894, 2897, 2899, 2900, 2901, 2902, 2903, 2904, 2906, 2907, 2908, 2909, 2910, 2911, 2912, 2913, 2915, 2916, 2917, 2918, 2919, 2920, 2921, 2922, 2923, 2924, 2925, 2926, 2927, 2928, 2931, 2932, 2935, 2937, 2938, 2940, 2941, 2942, 2943, 2944, 2945, 2947, 2948, 2949, 2950, 2952, 2953, 2954, 2955, 2956, 2958, 2959, 2960, 2961, 2962, 2963, 2964, 2965, 2966, 2967, 2969, 2970, 2971, 2972, 2975, 2976, 2978, 2979, 2980, 2981, 2982, 2983, 2984, 2985, 2986, 2987, 2990, 2991, 2993, 2994, 2995, 2997, 2999, 3000, 3001, 3002, 3003, 3004, 3005, 3007, 3008, 3009, 3011, 3012, 3013, 3014, 3015, 3016, 3018, 3019, 3020, 3021, 3022, 3023, 3026, 3027, 3028, 3029, 3030, 3031, 3032, 3033, 3034, 3035, 3036, 3037, 3038, 3039, 3040, 3041, 3042, 3043, 3046, 3047, 3048, 3049, 3050, 3051, 3052, 3053, 3054, 3055, 3056, 3057, 3058, 3059, 3060, 3061, 3062, 3063, 3064, 3065, 3066, 3067, 3068, 3069, 3071, 3072, 3073, 3074, 3075, 3076, 3078, 3079, 3080, 3081, 3082, 3083, 3084, 3085, 3086, 3088, 3089, 3090, 3091, 3092, 3093, 3094, 3095, 3096, 3097, 3098, 3099, 3100, 3101, 3102, 3103, 3104, 3105, 3106, 3108, 3109, 3111, 3113, 3114, 3115, 3117, 3118, 3119, 3120, 3121, 3122, 3123, 3125, 3126, 3127, 3128, 3129, 3130, 3131, 3132, 3133, 3134, 3135, 3136, 3138, 3139, 3140, 3141, 3142, 3143, 3144, 3146, 3147, 3148, 3149, 3151, 3152, 3153, 3154, 3155, 3156, 3157, 3158, 3159, 3160, 3161, 3162, 3163, 3164, 3165, 3166, 3169, 3170, 3171, 3173, 3174, 3175, 3176, 3178, 3179, 3180, 3181, 3182, 3183, 3184, 3185, 3186, 3188, 3189, 3191, 3192, 3193, 3194, 3195, 3196, 3201, 3203, 3205, 3206, 3207, 3208, 3209, 3210, 3211, 3212, 3213, 3214, 3216, 3217, 3219, 3220, 3221, 3223, 3224, 3225, 3227, 3228, 3230, 3231, 3232, 3235, 3237, 3238, 3239, 3240, 3241, 3242, 3243, 3244, 3245, 3246, 3247, 3248, 3249, 3250, 3251, 3252, 3253, 3254, 3255, 3256, 3257, 3258, 3259, 3260, 3262, 3265, 3266, 3267, 3268, 3269, 3270, 3271, 3272, 3273, 3274, 3275, 3276, 3277, 3278, 3279, 3281, 3282, 3283, 3284, 3285, 3286, 3287, 3289, 3290, 3292, 3293, 3294, 3295, 3296, 3297, 3298, 3300, 3301, 3302, 3303, 3304, 3306, 3307, 3308, 3309, 3310, 3311, 3312, 3313, 3314, 3315, 3316, 3317, 3320, 3321, 3322, 3324, 3325, 3326, 3327, 3328, 3329, 3331, 3332, 3333, 3335, 3336, 3337, 3339, 3340, 3341, 3342, 3343, 3344, 3345, 3346, 3347, 3348, 3349, 3350, 3351, 3352, 3353, 3354, 3355, 3356, 3357, 3358, 3359, 3360, 3361, 3364, 3365, 3367, 3368, 3370, 3371, 3372, 3373, 3374, 3375, 3376, 3377, 3379, 3380, 3381, 3383, 3385, 3386, 3387, 3388, 3389, 3390, 3391, 3392, 3393, 3396, 3397, 3398, 3399, 3400, 3401, 3403, 3404, 3405, 3406, 3407, 3408, 3410, 3411, 3413, 3414, 3415, 3416, 3417, 3418, 3419, 3421, 3422, 3423, 3424, 3426, 3428, 3429, 3430, 3432, 3433, 3434, 3435, 3436, 3437, 3438, 3439, 3440, 3441, 3442, 3443, 3444, 3445, 3446, 3447, 3448, 3449, 3451, 3452, 3453, 3454, 3455, 3456, 3457, 3461, 3462, 3464, 3466, 3468, 3469, 3471, 3472, 3473, 3474, 3475, 3476, 3477, 3478, 3479, 3480, 3482, 3483, 3484, 3486, 3487, 3489, 3490, 3491, 3492, 3493, 3494, 3495, 3496, 3497, 3498, 3499, 3500, 3502, 3503, 3505, 3507, 3508, 3510, 3511, 3512, 3513, 3514, 3515, 3516, 3518, 3519, 3520, 3521, 3522, 3523, 3524, 3526, 3527, 3529, 3531, 3532, 3533, 3534, 3535, 3536, 3538, 3539, 3540, 3541, 3542, 3543, 3544, 3545, 3546, 3547, 3550, 3551, 3552, 3553, 3555, 3556, 3557, 3558, 3559, 3560, 3562, 3563, 3564, 3565, 3566, 3567, 3568, 3570, 3571, 3572, 3574, 3575, 3576, 3577, 3579, 3580, 3581, 3582, 3583, 3584, 3586, 3588, 3590, 3592, 3593, 3594, 3595, 3597, 3598, 3599, 3600, 3601, 3602, 3603, 3604, 3606, 3607, 3608, 3609, 3610, 3611, 3612, 3613, 3616, 3617, 3618, 3619, 3620, 3621, 3622, 3624, 3627, 3628, 3629, 3630, 3632, 3633, 3635, 3636, 3637, 3638, 3639, 3641, 3642, 3643, 3645, 3647, 3649, 3651, 3653, 3654, 3655, 3656, 3657, 3658, 3660, 3661, 3662, 3663, 3664, 3665, 3666, 3669, 3670, 3671, 3674, 3680, 3683, 3684, 3685, 3687, 3689, 3690, 3691, 3692, 3693, 3695, 3696, 3697, 3698, 3699, 3701, 3703, 3704, 3705, 3706, 3707, 3708, 3709, 3712, 3713, 3715, 3716, 3717, 3718, 3720, 3721, 3724, 3726, 3728, 3729, 3730, 3731, 3732, 3733, 3735, 3736, 3737, 3738, 3739, 3740, 3742, 3743, 3744, 3745, 3746, 3747, 3748, 3749, 3750, 3751, 3752, 3755, 3756, 3757, 3758, 3760, 3761, 3762, 3763, 3764, 3765, 3766, 3767, 3768, 3769, 3770, 3771, 3772, 3773, 3774, 3775, 3776, 3777, 3778, 3781, 3782, 3784, 3785, 3786, 3787, 3788, 3790, 3791, 3792, 3793, 3794, 3796, 3797, 3798, 3800, 3801, 3802, 3803, 3804, 3805, 3806, 3807, 3809, 3810, 3811, 3812, 3813, 3814, 3817, 3819, 3820, 3821, 3824, 3825, 3826, 3827, 3828, 3831, 3832, 3833, 3834, 3835, 3836, 3837, 3838, 3839, 3840, 3841, 3842, 3843, 3844, 3845, 3847, 3851, 3852, 3853, 3854, 3855, 3856, 3857, 3858, 3860, 3861, 3862, 3863, 3864, 3865, 3866, 3869, 3870, 3871, 3872, 3873, 3874, 3875, 3876, 3877, 3878, 3879, 3882, 3884, 3886, 3887, 3888, 3889, 3891, 3893, 3894, 3896, 3897, 3898, 3899, 3900, 3901, 3902, 3903, 3904, 3905, 3907, 3908, 3909, 3910, 3911, 3912, 3913, 3914, 3915, 3917, 3918, 3920, 3921, 3922, 3923, 3925, 3926, 3928, 3929, 3930, 3931, 3932, 3933, 3934, 3935, 3939, 3941, 3942, 3943, 3944, 3945, 3950, 3951, 3952, 3954, 3955, 3956, 3957, 3959, 3960, 3961, 3962, 3963, 3964, 3965, 3966, 3967, 3968, 3971, 3973, 3974, 3975, 3978, 3979, 3980, 3981, 3982, 3983, 3984, 3985, 3986, 3987, 3988, 3991, 3992, 3993, 3994, 3995, 3996, 3997, 3998, 3999, 4000, 4001, 4003, 4004, 4005, 4006, 4009, 4011, 4013, 4014, 4015, 4016, 4017, 4020, 4023, 4024, 4025, 4026, 4027, 4028, 4030, 4032, 4033, 4034, 4035, 4036, 4037, 4038, 4040, 4041, 4042, 4043, 4045, 4046, 4047, 4048, 4050, 4051, 4053, 4054, 4055, 4056, 4057, 4058, 4059, 4060, 4061, 4063, 4064, 4068, 4069, 4070, 4071, 4072, 4073, 4074, 4075, 4077, 4078, 4079, 4080, 4081, 4082, 4084, 4086, 4087, 4090, 4091, 4092, 4093, 4094, 4095, 4096, 4100, 4102, 4103, 4105, 4106, 4107, 4109, 4110, 4111, 4112, 4113, 4114, 4115, 4117, 4118, 4120, 4121, 4122, 4123, 4124, 4126, 4127, 4128, 4130, 4132, 4133, 4136, 4137, 4138, 4139, 4140, 4142, 4145, 4146, 4147, 4148, 4149, 4150, 4151, 4153, 4154, 4155, 4156, 4157, 4159, 4160, 4161, 4163, 4164, 4165, 4167, 4169, 4170, 4171, 4172, 4173, 4174, 4176, 4177, 4178, 4179, 4181, 4184, 4185, 4186, 4188, 4189, 4191, 4192, 4194, 4195, 4196, 4197, 4198, 4199, 4200, 4201, 4202, 4203, 4204, 4205, 4206, 4207, 4208, 4209, 4210, 4211, 4212, 4213, 4214, 4215, 4217, 4218, 4219, 4220, 4221, 4225, 4226, 4227, 4228, 4229, 4230, 4231, 4232, 4233, 4234, 4235, 4236, 4238, 4240, 4241, 4243, 4244, 4245, 4246, 4248, 4249, 4250, 4251, 4252, 4253, 4255, 4256, 4258, 4259, 4260, 4262, 4263, 4265, 4267, 4268, 4269, 4270, 4271, 4272, 4273, 4274, 4276, 4278, 4279, 4280, 4281, 4282, 4283, 4285, 4286, 4287, 4288, 4289, 4290, 4291, 4292, 4293, 4294, 4295, 4296, 4298, 4300, 4303, 4305, 4306, 4307, 4308, 4309, 4310, 4311, 4312, 4313, 4314, 4316, 4317, 4318, 4319, 4320, 4321, 4322, 4323, 4324, 4325, 4326, 4327, 4328, 4329, 4331, 4332, 4333, 4334, 4336, 4337, 4338, 4339, 4340, 4341, 4343, 4344, 4345, 4347, 4348, 4349, 4350, 4352, 4353, 4354, 4356, 4357, 4358, 4359, 4360, 4361, 4363, 4365, 4366, 4367, 4368, 4369, 4370, 4371, 4372, 4373, 4374, 4375, 4376, 4377, 4378, 4380, 4382, 4383, 4385, 4386, 4387, 4389, 4390, 4391, 4392, 4393, 4394, 4395, 4396, 4397, 4400, 4401, 4402, 4403, 4405, 4407, 4408, 4409, 4410, 4411, 4413, 4415, 4416, 4419, 4420, 4422, 4423, 4424, 4425, 4426, 4427, 4429, 4431, 4432, 4433, 4434, 4435, 4436, 4437, 4438, 4439, 4440, 4441, 4442, 4443, 4444, 4446, 4447, 4449, 4450, 4451, 4452, 4453, 4454, 4456, 4457, 4458, 4459, 4460, 4461, 4462, 4463, 4465, 4466, 4467, 4470, 4473, 4474, 4475, 4476, 4477, 4478, 4479, 4480, 4481, 4482, 4483, 4484, 4485, 4486, 4488, 4489, 4490, 4491, 4492, 4493, 4494, 4496, 4498, 4499, 4500, 4501, 4502, 4503, 4505, 4506, 4508, 4509, 4510, 4511, 4512, 4513, 4514, 4515, 4516, 4517, 4518, 4519, 4520, 4521, 4522, 4524, 4526, 4530, 4531, 4532, 4533, 4534, 4535, 4536, 4538, 4539, 4540, 4541, 4542, 4543, 4544, 4548, 4549, 4550, 4551, 4552, 4553, 4554, 4555, 4556, 4557, 4558, 4559, 4560, 4561, 4562, 4563, 4564, 4565, 4567, 4568, 4570, 4571, 4572, 4573, 4574, 4576, 4577, 4579, 4581, 4582, 4583, 4584, 4586, 4589, 4590, 4591, 4592, 4593, 4594, 4595, 4596, 4597, 4598, 4599, 4600, 4602, 4603, 4606, 4608, 4609, 4613, 4614, 4617, 4618, 4620, 4622, 4624, 4625, 4627, 4628, 4630, 4632, 4633, 4635, 4636, 4637, 4638, 4639, 4640, 4641, 4642, 4643, 4644, 4645, 4647, 4648, 4649, 4650, 4652, 4653, 4655, 4656, 4657, 4658, 4659, 4660, 4661, 4662, 4663, 4664, 4665, 4666, 4668, 4669, 4670, 4672, 4673, 4675, 4676, 4677, 4678, 4679, 4680, 4681, 4682, 4683, 4684, 4685, 4686, 4687, 4689, 4690, 4691, 4692, 4693, 4694, 4695, 4696, 4697, 4699, 4700, 4701, 4702, 4703, 4704, 4705, 4707, 4708, 4709, 4710, 4711, 4713, 4714, 4715, 4718, 4719, 4720, 4721, 4722, 4723, 4724, 4725, 4726, 4727, 4728, 4729, 4730, 4731, 4732, 4733, 4734, 4736, 4738, 4740, 4741, 4742, 4743, 4745, 4746, 4747, 4748, 4749, 4750, 4751, 4752, 4753, 4754, 4756, 4757, 4758, 4759, 4761, 4763, 4764, 4765, 4766, 4768, 4769, 4770, 4771, 4772, 4773, 4775, 4776, 4777, 4778, 4780, 4782, 4783, 4784, 4787, 4788, 4789, 4791, 4792, 4794, 4797, 4798, 4799, 4800, 4801, 4802, 4803, 4804, 4806, 4807, 4808, 4809, 4810, 4811, 4812, 4813, 4814, 4815, 4816, 4818, 4819, 4820, 4821, 4822, 4824, 4826, 4827, 4828, 4829, 4830, 4831, 4832, 4833, 4834, 4836, 4837, 4838, 4839, 4840, 4841, 4842, 4843, 4846, 4847, 4850, 4851, 4853, 4854, 4856, 4857, 4859, 4860, 4861, 4862, 4863, 4864, 4865, 4866, 4867, 4868, 4870, 4871, 4872, 4873, 4874, 4875, 4876, 4878, 4879, 4881, 4882, 4883, 4884, 4885, 4886, 4887, 4888, 4889, 4892, 4893, 4894, 4896, 4897, 4899, 4902, 4905, 4907, 4908, 4909, 4912, 4913, 4914, 4915, 4916, 4917, 4918, 4920, 4921, 4922, 4923, 4924, 4926, 4927, 4928, 4930, 4931, 4932, 4933, 4934, 4935, 4936, 4937, 4938, 4939, 4940, 4941, 4943, 4944, 4945, 4946, 4947, 4948, 4950, 4951, 4952, 4953, 4956, 4957, 4958, 4959, 4963, 4964, 4965, 4966, 4968, 4969, 4970, 4971, 4972, 4973, 4974, 4977, 4978, 4979, 4981, 4982, 4983, 4984, 4985, 4986, 4987, 4988, 4989, 4990, 4991, 4992, 4993, 4994, 4995, 4996, 4997, 4998, 4999, 5000, 5001, 5002, 5003, 5004, 5005, 5006, 5007, 5008, 5009, 5010, 5011, 5012, 5013, 5014, 5015, 5016, 5017, 5018, 5019, 5020, 5021, 5022, 5023, 5024, 5025, 5026, 5027, 5028, 5030, 5031, 5032, 5033, 5035, 5036, 5037, 5038, 5039, 5040, 5041, 5042, 5043, 5044, 5045, 5046, 5047, 5048, 5049, 5050, 5051, 5052, 5053, 5056, 5057, 5058, 5059, 5060, 5061, 5062, 5063, 5064, 5066, 5067, 5068, 5069, 5070, 5071, 5072, 5073, 5075, 5076, 5078, 5079, 5081, 5082, 5084, 5085, 5086, 5087, 5089, 5091, 5092, 5093, 5094, 5095, 5096, 5097, 5099, 5102, 5103, 5104, 5105, 5106, 5107, 5108, 5109, 5110, 5111, 5112, 5113, 5114, 5115, 5117, 5118, 5120, 5121, 5122, 5124, 5125, 5126, 5127, 5128, 5129, 5130, 5131, 5132, 5134, 5135, 5136, 5137, 5138, 5139, 5140, 5141, 5142, 5143, 5146, 5147, 5148, 5149, 5150, 5152, 5153, 5154, 5155, 5157, 5158, 5159, 5160, 5162, 5163, 5165, 5167, 5168, 5171, 5172, 5173, 5174, 5175, 5176, 5177, 5178, 5179, 5180, 5181, 5182, 5183, 5184, 5185, 5186, 5188, 5189, 5190, 5191, 5192, 5193, 5194, 5195, 5196, 5197, 5198, 5199, 5200, 5201, 5202, 5203, 5204, 5205, 5206, 5207, 5208, 5209, 5210, 5211, 5212, 5213, 5214, 5217, 5218, 5219, 5220, 5221, 5222, 5223, 5224, 5225, 5226, 5227, 5228, 5230, 5231, 5232, 5233, 5234, 5235, 5236, 5237, 5238, 5239, 5240, 5241, 5243, 5244, 5245, 5247, 5248, 5249, 5250, 5251, 5252, 5253, 5254, 5255, 5256, 5258, 5259, 5260, 5261, 5262, 5263, 5264, 5265, 5266, 5267, 5268, 5269, 5270, 5271, 5272, 5274, 5275, 5276, 5279, 5280, 5281, 5282, 5283, 5284, 5285, 5286, 5287, 5289, 5290, 5291, 5292, 5293, 5294, 5295, 5296, 5297, 5300, 5301, 5302, 5303, 5304, 5305, 5307, 5308, 5309, 5310, 5312, 5314, 5316, 5318, 5319, 5321, 5322, 5323, 5325, 5327, 5328, 5329, 5330, 5331, 5332, 5333, 5334, 5335, 5336, 5337, 5338, 5339, 5340, 5341, 5344, 5345, 5346, 5348, 5349, 5350, 5351, 5352, 5354, 5357, 5358, 5359, 5360, 5361, 5362, 5363, 5364, 5366, 5367, 5368, 5369, 5371, 5372, 5373, 5374, 5375, 5379, 5380, 5382, 5383, 5384, 5386, 5387, 5388, 5389, 5391, 5392, 5393, 5394, 5395, 5396, 5397, 5399, 5400, 5401, 5402, 5403, 5405, 5406, 5407, 5409, 5410, 5413, 5414, 5415, 5416, 5417, 5418, 5419, 5420, 5421, 5422, 5423, 5424, 5425, 5427, 5428, 5430, 5431, 5432, 5433, 5436, 5437, 5438, 5440, 5441, 5442, 5443, 5445, 5446, 5450, 5451, 5452, 5454, 5455, 5456, 5457, 5458, 5459, 5460, 5461, 5462, 5464, 5465, 5466, 5467, 5468, 5469, 5470, 5473, 5474, 5475, 5476, 5477, 5478, 5479, 5482, 5485, 5488, 5489, 5490, 5491, 5493, 5494, 5495, 5496, 5498, 5499, 5500, 5502, 5504, 5505, 5507, 5508, 5510, 5511, 5513, 5514, 5515, 5516, 5517, 5520, 5522, 5523, 5524, 5525, 5526, 5527, 5528, 5529, 5530, 5531, 5532, 5533, 5534, 5536, 5537, 5538, 5540, 5541, 5542, 5543, 5545, 5546, 5547, 5548, 5550, 5551, 5552, 5553, 5554, 5555, 5556, 5557, 5560, 5562, 5563, 5564, 5565, 5566, 5567, 5568, 5569, 5570, 5571, 5572, 5573, 5574, 5575, 5576, 5577, 5578, 5579, 5580, 5581, 5582, 5583, 5584, 5585, 5586, 5587, 5588, 5589, 5590, 5591, 5592, 5593, 5594, 5595, 5596, 5597, 5598, 5600, 5601, 5602, 5603, 5605, 5606, 5607, 5608, 5609, 5611, 5612, 5613, 5614, 5615, 5616, 5618, 5619, 5620, 5622, 5623, 5624, 5625, 5626, 5627, 5628, 5629, 5630, 5631, 5632, 5633, 5634, 5635, 5637, 5639, 5640, 5642, 5644, 5645, 5647, 5648, 5649, 5650, 5651, 5652, 5653, 5655, 5656, 5657, 5660, 5661, 5664, 5665, 5666, 5667, 5669, 5670, 5671, 5672, 5673, 5674, 5676, 5677, 5679, 5680, 5681, 5682, 5685, 5686, 5687, 5689, 5690, 5691, 5692, 5693, 5694, 5696, 5698, 5699, 5700, 5702, 5703, 5704, 5705, 5706, 5709, 5711, 5712, 5713, 5715, 5716, 5717, 5719, 5720, 5722, 5723, 5724, 5725, 5726, 5727, 5729, 5731, 5733, 5735, 5736, 5737, 5738, 5740, 5742, 5743, 5744, 5745, 5746, 5747, 5748, 5749, 5750, 5751, 5752, 5755, 5756, 5757, 5758, 5760, 5761, 5762, 5763, 5764, 5765, 5766, 5767, 5769, 5771, 5773, 5774, 5775, 5776, 5778, 5779, 5780, 5781, 5782, 5783, 5784, 5785, 5786, 5788, 5789, 5791, 5792, 5793, 5794, 5796, 5797, 5798, 5799, 5800, 5801, 5803, 5804, 5805, 5807, 5808, 5809, 5811, 5812, 5813, 5814, 5815, 5817, 5818, 5819, 5821, 5822, 5823, 5825, 5826, 5827, 5829, 5833, 5834, 5835, 5836, 5837, 5841, 5842, 5843, 5844, 5845, 5846, 5848, 5849, 5850, 5851, 5852, 5853, 5854, 5855, 5856, 5857, 5858, 5859, 5860, 5861, 5862, 5864, 5866, 5867, 5868, 5869, 5870, 5871, 5872, 5874, 5875, 5876, 5877, 5878, 5879, 5880, 5881, 5882, 5884, 5885, 5886, 5887, 5888, 5889, 5890, 5893, 5894, 5895, 5896, 5897, 5898, 5901, 5902, 5903, 5904, 5905, 5906, 5907, 5908, 5909, 5910, 5911, 5912, 5914, 5915, 5916, 5919, 5921, 5922, 5923, 5924, 5925, 5926, 5927, 5931, 5933, 5934, 5938, 5939, 5940, 5941, 5942, 5943, 5944, 5945, 5947, 5948, 5949, 5950, 5951, 5952, 5953, 5954, 5955, 5956, 5957, 5958, 5960, 5961, 5962, 5963, 5964, 5965, 5966, 5967, 5968, 5969, 5970, 5971, 5974, 5975, 5977, 5978, 5979, 5980, 5981, 5982, 5983, 5984, 5987, 5988, 5989, 5991, 5992, 5993, 5994, 5996, 5997, 5998, 5999, 6000, 6001, 6002, 6003, 6004, 6005, 6006, 6007, 6008, 6010, 6012, 6014, 6015, 6016, 6019, 6020, 6021, 6022, 6023, 6024, 6025, 6027, 6028, 6029, 6031, 6032, 6033, 6034, 6035, 6036, 6037, 6038, 6039, 6040, 6041, 6043, 6044, 6046, 6047, 6049, 6050, 6051, 6052, 6054, 6056, 6057, 6058, 6059, 6060, 6061, 6062, 6063, 6066, 6067, 6068, 6069, 6070, 6071, 6072, 6073, 6074, 6075, 6076, 6077, 6078, 6079, 6080, 6081, 6082, 6084, 6085, 6086, 6088, 6089, 6091, 6092, 6093, 6094, 6095, 6096, 6097, 6098, 6101, 6102, 6105, 6106, 6107, 6108, 6109, 6111, 6112, 6113, 6114, 6115, 6117, 6118, 6119, 6122, 6123, 6124, 6125, 6126, 6127, 6128, 6129, 6130, 6131, 6133, 6134, 6135, 6136, 6137, 6138, 6139, 6140, 6141, 6142, 6143, 6144, 6146, 6147, 6148, 6149, 6150, 6151, 6152, 6153, 6154, 6156, 6157, 6160, 6161, 6162, 6163, 6164, 6165, 6167, 6168, 6170, 6171, 6172, 6173, 6175, 6176, 6177, 6178, 6179, 6180, 6181, 6183, 6184, 6185, 6186, 6187, 6189, 6190, 6191, 6193, 6195, 6196, 6198, 6201, 6202, 6203, 6204, 6205, 6206, 6207, 6208, 6209, 6210, 6211, 6212, 6213, 6214, 6215, 6216, 6217, 6218, 6219, 6220, 6221, 6222, 6223, 6225, 6226, 6227, 6228, 6230, 6231, 6232, 6233, 6235, 6236, 6237, 6238, 6239, 6240, 6242, 6243, 6244, 6245, 6246, 6247, 6248, 6249, 6250, 6251, 6252, 6253, 6256, 6257, 6259, 6260, 6261, 6263, 6264, 6265, 6266, 6267, 6268, 6269, 6270, 6271, 6272, 6273, 6274, 6275, 6276, 6277, 6279, 6282, 6283, 6284, 6285, 6287, 6288, 6289, 6290, 6291, 6292, 6293, 6294, 6295, 6296, 6298, 6299, 6300, 6302, 6303, 6304, 6305, 6306, 6307, 6308, 6310, 6311, 6312, 6313, 6315, 6316, 6318, 6319, 6320, 6321, 6322, 6323, 6324, 6325, 6326, 6327, 6328, 6330, 6331, 6332, 6334, 6335, 6337, 6339, 6340, 6341, 6342, 6343, 6345, 6346, 6348, 6349, 6350, 6351, 6352, 6353, 6354, 6355, 6356, 6357, 6358, 6359, 6360, 6361, 6362, 6363, 6364, 6365, 6370, 6371, 6372, 6373, 6374, 6375, 6376, 6377, 6378, 6379, 6380, 6381, 6382, 6383, 6385, 6386, 6387, 6388, 6389, 6390, 6391, 6392, 6395, 6397, 6398, 6399, 6400, 6401, 6402, 6404, 6407, 6408, 6409, 6411, 6412, 6413, 6414, 6416, 6417, 6418, 6419, 6420, 6421, 6422, 6423, 6424, 6426, 6428, 6430, 6431, 6432, 6433, 6434, 6435, 6436, 6437, 6438, 6439, 6440, 6441, 6442, 6443, 6444, 6445, 6446, 6447, 6449, 6450, 6451, 6453, 6454, 6455, 6456, 6457, 6459, 6460, 6461, 6462, 6463, 6464, 6465, 6466, 6467, 6469, 6470, 6471, 6472, 6473, 6474, 6477, 6478, 6479, 6481, 6482, 6483, 6484, 6485, 6486, 6487, 6488, 6490, 6491, 6492, 6493, 6494, 6495, 6496, 6497, 6498, 6499, 6500, 6501, 6502, 6504, 6505, 6506, 6507, 6508, 6510, 6511, 6512, 6513, 6514, 6515, 6516, 6517, 6518, 6519, 6520, 6521, 6522, 6523, 6525, 6526, 6527, 6528, 6529, 6530, 6531, 6535, 6536, 6538, 6539, 6540, 6541, 6542, 6544, 6545, 6546, 6547, 6548, 6549, 6550, 6551, 6552, 6553, 6554, 6555, 6556, 6557, 6559, 6560, 6561, 6562, 6563, 6564, 6565, 6566, 6568, 6569, 6570, 6571, 6573, 6574, 6575, 6576, 6577, 6578, 6579, 6583, 6584, 6585, 6586, 6587, 6588, 6589, 6590, 6591, 6592, 6593, 6594, 6595, 6596, 6597, 6599, 6601, 6602, 6603, 6604, 6606, 6607, 6609, 6610, 6611, 6612, 6613, 6614, 6615, 6616, 6617, 6618, 6619, 6621, 6623, 6624, 6625, 6626, 6627, 6628, 6629, 6630, 6631, 6632, 6635, 6636, 6637, 6638, 6640, 6641, 6642, 6643, 6644, 6645, 6646, 6647, 6648, 6649, 6651, 6652, 6653, 6654, 6655, 6656, 6657, 6659, 6660, 6661, 6662, 6663, 6664, 6665, 6666, 6667, 6668, 6669, 6670, 6671, 6672, 6673, 6675, 6676, 6677, 6678, 6679, 6680, 6681, 6682, 6683, 6684, 6685, 6687, 6688, 6689, 6690, 6691, 6692, 6693, 6696, 6698, 6699, 6700, 6701, 6702, 6703, 6704, 6707, 6708, 6709, 6710, 6711, 6712, 6713, 6714, 6715, 6716, 6717, 6718, 6719, 6720, 6721, 6722, 6723, 6724, 6725, 6726, 6728, 6730, 6732, 6733, 6734, 6735, 6736, 6737, 6738, 6739, 6741, 6742, 6743, 6744, 6745, 6746, 6747, 6748, 6749, 6750, 6751, 6752, 6753, 6755, 6756, 6757, 6758, 6759, 6760, 6761, 6762, 6763, 6765, 6766, 6770, 6771, 6772, 6773, 6775, 6777, 6778, 6779, 6780, 6781, 6782, 6784, 6786, 6787, 6788, 6789, 6790, 6791, 6792, 6793, 6794, 6795, 6796, 6797, 6798, 6800, 6801, 6802, 6803, 6805, 6806, 6808, 6809, 6810, 6811, 6812, 6813, 6814, 6815, 6816, 6817, 6819, 6820, 6822, 6824, 6825, 6827, 6828, 6829, 6830, 6831, 6832, 6834, 6836, 6837, 6839, 6840, 6841, 6842, 6843, 6845, 6846, 6848, 6849, 6850, 6851, 6852, 6853, 6855, 6856, 6857, 6859, 6860, 6862, 6863, 6864, 6866, 6868, 6870, 6871, 6872, 6873, 6874, 6875, 6876, 6877, 6878, 6879, 6881, 6882, 6883, 6884, 6885, 6886, 6887, 6888, 6889, 6890, 6892, 6893, 6894, 6895, 6896, 6897, 6898, 6900, 6901, 6902, 6903, 6904, 6906, 6907, 6908, 6909, 6910, 6911, 6912, 6913, 6914, 6917, 6918, 6919, 6920, 6922, 6923, 6926, 6927, 6928, 6929, 6930, 6932, 6933, 6934, 6935, 6936, 6937, 6938, 6940, 6941, 6942, 6943, 6944, 6945, 6947, 6948, 6949, 6950, 6951, 6952, 6953, 6955, 6957, 6958, 6959, 6961, 6965, 6966, 6967, 6969, 6970, 6971, 6972, 6973, 6974, 6975, 6976, 6978, 6980, 6981, 6982, 6983, 6984, 6987, 6988, 6990, 6991, 6992, 6994, 6997, 6998, 6999, 7000, 7001, 7002, 7003, 7007, 7008, 7009, 7010, 7011, 7013, 7014, 7015, 7016, 7017, 7018, 7019, 7020, 7021, 7022, 7023, 7026, 7027, 7028, 7029, 7030, 7031, 7033, 7034, 7035, 7036, 7037, 7038, 7039, 7040, 7041, 7042, 7043, 7044, 7045, 7046, 7047, 7049, 7050, 7051, 7052, 7053, 7054, 7055, 7057, 7058, 7059, 7060, 7061, 7062, 7063, 7064, 7065, 7066, 7067, 7068, 7069, 7070, 7071, 7072, 7073, 7074, 7075, 7076, 7078, 7079, 7080, 7082, 7083, 7084, 7085, 7086, 7087, 7088, 7089, 7090, 7092, 7093, 7095, 7096, 7098, 7100, 7101, 7102, 7103, 7105, 7106, 7108, 7109, 7110, 7111, 7113, 7114, 7115, 7116, 7117, 7118, 7119, 7120, 7122, 7123, 7124, 7125, 7126, 7127, 7129, 7130, 7132, 7133, 7136, 7137, 7138, 7139, 7141, 7143, 7144, 7145, 7146, 7147, 7148, 7149, 7150, 7151, 7152, 7153, 7154, 7155, 7157, 7158, 7159, 7160, 7162, 7163, 7164, 7165, 7166, 7167, 7168, 7170, 7171, 7172, 7174, 7175, 7176, 7178, 7180, 7181, 7183, 7184, 7185, 7186, 7187, 7188, 7189, 7190, 7193, 7194, 7195, 7196, 7198, 7199, 7200, 7201, 7202, 7204, 7205, 7206, 7207, 7208, 7209, 7210, 7211, 7212, 7213, 7214, 7215, 7216, 7217, 7218, 7220, 7222, 7225, 7226, 7227, 7229, 7230, 7231, 7232, 7233, 7234, 7235, 7236, 7237, 7239, 7240, 7241, 7242, 7243, 7245, 7246, 7248, 7249, 7250, 7251, 7252, 7254, 7255, 7256, 7258, 7259, 7260, 7261, 7262, 7263, 7265, 7268, 7269, 7271, 7272, 7273, 7274, 7275, 7276, 7277, 7279, 7280, 7281, 7282, 7283, 7284, 7285, 7286, 7287, 7288, 7290, 7291, 7292, 7293, 7294, 7295, 7297, 7298, 7299, 7301, 7302, 7303, 7304, 7306, 7307, 7309, 7310, 7311, 7313, 7314, 7315, 7316, 7317, 7318, 7319, 7320, 7321, 7322, 7323, 7324, 7325, 7326, 7327, 7330, 7331, 7333, 7334, 7336, 7338, 7339, 7340, 7341, 7342, 7343, 7344, 7346, 7347, 7348, 7349, 7352, 7353, 7354, 7355, 7357, 7358, 7360, 7361, 7362, 7363, 7364, 7365, 7366, 7367, 7368, 7369, 7371, 7373, 7374, 7375, 7376, 7377, 7379, 7380, 7382, 7383, 7384, 7386, 7387, 7389, 7393, 7395, 7397, 7398, 7399, 7400, 7402, 7403, 7405, 7406, 7407, 7408, 7410, 7411, 7412, 7413, 7415, 7416, 7418, 7419, 7421, 7423, 7425, 7427, 7429, 7430, 7431, 7432, 7433, 7434, 7435, 7436, 7437, 7439, 7440, 7441, 7442, 7443, 7444, 7445, 7446, 7447, 7448, 7449, 7450, 7454, 7455, 7457, 7458, 7461, 7464, 7465, 7467, 7468, 7469, 7470, 7471, 7473, 7474, 7475, 7476, 7477, 7478, 7479, 7480, 7481, 7482, 7483, 7485, 7486, 7487, 7488, 7489, 7492, 7493, 7494, 7495, 7496, 7497, 7498, 7499, 7500, 7501, 7502, 7503, 7504, 7505, 7506, 7508, 7509, 7510, 7511, 7515, 7516, 7520, 7522, 7523, 7524, 7525, 7526, 7527, 7528, 7531, 7532, 7533, 7534, 7535, 7536, 7537, 7538, 7539, 7541, 7542, 7543, 7544, 7545, 7546, 7547, 7548, 7550, 7551, 7552, 7554, 7555, 7556, 7557, 7558, 7563, 7564, 7565, 7566, 7567, 7568, 7569, 7572, 7573, 7575, 7576, 7577, 7578, 7579, 7580, 7581, 7583, 7584, 7586, 7588, 7590, 7591, 7592, 7593, 7595, 7597, 7598, 7599, 7600, 7601, 7602, 7603, 7605, 7606, 7607, 7609, 7610, 7611, 7612, 7613, 7614, 7617, 7619, 7620, 7621, 7622, 7623, 7624, 7625, 7626, 7627, 7630, 7631, 7632, 7633, 7634, 7635, 7636, 7637, 7639, 7640, 7641, 7642, 7643, 7644, 7645, 7646, 7648, 7649, 7650, 7652, 7653, 7655, 7657, 7658, 7659, 7661, 7662, 7663, 7665, 7666, 7668, 7669, 7670, 7672, 7673, 7674, 7675, 7676, 7678, 7679, 7680, 7681, 7682, 7684, 7685, 7686, 7687, 7688, 7690, 7691, 7692, 7693, 7694, 7695, 7696, 7697, 7698, 7699, 7700, 7701, 7702, 7703, 7704, 7705, 7706, 7708, 7710, 7712, 7713, 7714, 7715, 7716, 7719, 7720, 7721, 7722, 7724, 7725, 7727, 7728, 7730, 7731, 7732, 7734, 7735, 7736, 7737, 7738, 7739, 7740, 7741, 7743, 7744, 7745, 7746, 7747, 7748, 7749, 7750, 7751, 7752, 7753, 7754, 7755, 7756, 7757, 7758, 7759, 7760, 7761, 7762, 7764, 7766, 7768, 7769, 7770, 7771, 7772, 7773, 7774, 7775, 7776, 7777, 7778, 7779, 7780, 7782, 7783, 7784, 7785, 7786, 7787, 7788, 7789, 7790, 7791, 7792, 7793, 7794, 7795, 7796, 7797, 7798, 7799, 7800, 7801, 7804, 7805, 7806, 7807, 7808, 7809, 7810, 7811, 7813, 7815, 7816, 7817, 7818, 7819, 7820, 7821, 7822, 7823, 7825, 7826, 7828, 7829, 7831, 7832, 7834, 7835, 7836, 7837, 7838, 7839, 7840, 7842, 7843, 7844, 7845, 7846, 7847, 7848, 7849, 7851, 7852, 7853, 7854, 7856, 7857, 7859, 7860, 7861, 7862, 7864, 7865, 7867, 7868, 7870, 7871, 7873, 7874, 7876, 7878, 7880, 7882, 7883, 7884, 7885, 7886, 7887, 7888, 7889, 7890, 7891, 7894, 7895, 7896, 7898, 7899, 7902, 7903, 7904, 7905, 7906, 7907, 7908, 7909, 7910, 7911, 7912, 7913, 7914, 7915, 7916, 7918, 7919, 7920, 7922, 7923, 7925, 7926, 7927, 7928, 7929, 7931, 7932, 7933, 7934, 7935, 7937, 7939, 7940, 7941, 7942, 7943, 7944, 7945, 7946, 7947, 7949, 7950, 7951, 7954, 7955, 7956, 7957, 7958, 7959, 7960, 7961, 7962, 7963, 7964, 7965, 7966, 7968, 7969, 7970, 7971, 7972, 7973, 7974, 7975, 7976, 7977, 7978, 7979, 7980, 7981, 7985, 7986, 7987, 7988, 7989, 7990, 7991, 7992, 7993, 7994, 7995, 7997, 7998, 8000, 8002, 8004, 8005, 8006, 8007, 8008, 8009, 8011, 8012, 8013, 8014, 8015, 8016, 8017, 8018, 8019, 8020, 8021, 8022, 8023, 8024, 8025, 8026, 8027, 8031, 8032, 8034, 8035, 8036, 8037, 8038, 8039, 8041, 8042, 8043, 8045, 8048, 8051, 8052, 8053, 8054, 8055, 8056, 8058, 8059, 8060, 8061, 8062, 8063, 8064, 8068, 8069, 8070, 8071, 8073, 8074, 8075, 8076, 8079, 8080, 8082, 8083, 8086, 8087, 8088, 8090, 8091, 8092, 8093, 8094, 8095, 8096, 8097, 8098, 8100, 8101, 8103, 8105, 8106, 8107, 8108, 8109, 8111, 8112, 8113, 8114, 8115, 8116, 8117, 8119, 8120, 8121, 8122, 8123, 8124, 8126, 8127, 8128, 8129, 8130, 8131, 8133, 8134, 8135, 8137, 8138, 8139, 8141, 8142, 8143, 8144, 8145, 8146, 8148, 8151, 8153, 8154, 8155, 8156, 8157, 8158, 8159, 8160, 8163, 8164, 8165, 8166, 8167, 8168, 8170, 8171, 8172, 8173, 8175, 8176, 8177, 8178, 8180, 8181, 8183, 8184, 8185, 8186, 8188, 8189, 8190, 8192, 8194, 8196, 8198, 8199, 8201, 8203, 8204, 8205, 8206, 8207, 8208, 8210, 8211, 8213, 8214, 8215, 8216, 8217, 8218, 8219, 8220, 8221, 8222, 8223, 8225, 8227, 8228, 8230, 8231, 8232, 8233, 8235, 8236, 8237, 8238, 8239, 8240, 8241, 8242, 8243, 8244, 8245, 8246, 8247, 8248, 8249, 8250, 8252, 8253, 8254, 8255, 8256, 8257, 8258, 8259, 8260, 8261, 8263, 8264, 8265, 8268, 8270, 8272, 8273, 8276, 8277, 8278, 8279, 8280, 8281, 8282, 8283, 8284, 8285, 8286, 8287, 8288, 8289, 8290, 8291, 8292, 8293, 8294, 8296, 8298, 8299, 8300, 8301, 8303, 8304, 8305, 8306, 8308, 8309, 8310, 8311, 8312, 8315, 8316, 8317, 8318, 8319, 8320, 8321, 8322, 8324, 8326, 8328, 8330, 8331, 8334, 8335, 8337, 8338, 8339, 8340, 8342, 8345, 8346, 8347, 8348, 8350, 8351, 8352, 8354, 8355, 8356, 8357, 8358, 8359, 8360, 8362, 8363, 8364, 8365, 8366, 8367, 8368, 8369, 8370, 8371, 8372, 8373, 8374, 8375, 8376, 8378, 8379, 8381, 8382, 8383, 8384, 8385, 8386, 8388, 8389, 8390, 8391, 8392, 8393, 8394, 8395, 8396, 8397, 8398, 8399, 8400, 8401, 8403, 8406, 8408, 8409, 8410, 8411, 8412, 8413, 8416, 8417, 8418, 8422, 8424, 8425, 8427, 8428, 8429, 8430, 8431, 8432, 8433, 8434, 8436, 8437, 8438, 8439, 8442, 8443, 8444, 8445, 8446, 8447, 8448, 8450, 8452, 8453, 8454, 8455, 8456, 8457, 8458, 8459, 8460, 8461, 8462, 8463, 8464, 8465, 8467, 8468, 8469, 8470, 8472, 8473, 8475, 8476, 8477, 8478, 8479, 8480, 8481, 8482, 8483, 8484, 8485, 8486, 8487, 8488, 8489, 8491, 8492, 8495, 8496, 8497, 8498, 8499, 8500, 8501, 8502, 8503, 8504, 8505, 8506, 8509, 8511, 8512, 8513, 8514, 8515, 8516, 8517, 8518, 8520, 8521, 8523, 8524, 8525, 8526, 8527, 8528, 8529, 8531, 8532, 8533, 8534, 8535, 8536, 8537, 8538, 8539, 8540, 8541, 8543, 8544, 8546, 8547, 8548, 8550, 8551, 8552, 8554, 8556, 8557, 8559, 8560, 8561, 8563, 8564, 8566, 8567, 8569, 8570, 8571, 8572, 8573, 8574, 8575, 8576, 8577, 8578, 8579, 8580, 8581, 8582, 8583, 8586, 8588, 8590, 8591, 8592, 8593, 8595, 8596, 8597, 8598, 8599, 8600, 8602, 8603, 8604, 8609, 8610, 8611, 8612, 8613, 8614, 8615, 8616, 8617, 8619, 8620, 8622, 8623, 8624, 8625, 8626, 8628, 8629, 8631, 8632, 8633, 8635, 8636, 8637, 8638, 8639, 8640, 8641, 8642, 8643, 8644, 8645, 8646, 8647, 8649, 8650, 8651, 8652, 8653, 8654, 8656, 8657, 8659, 8660, 8661, 8662, 8665, 8667, 8668, 8669, 8670, 8671, 8672, 8673, 8675, 8676, 8677, 8678, 8679, 8680, 8681, 8682, 8683, 8684, 8685, 8686, 8687, 8689, 8691, 8692, 8693, 8694, 8695, 8696, 8697, 8698, 8699, 8700, 8701, 8702, 8703, 8705, 8707, 8708, 8709, 8710, 8711, 8712, 8713, 8716, 8717, 8718, 8719, 8720, 8722, 8723, 8724, 8725, 8727, 8729, 8731, 8732, 8733, 8734, 8735, 8737, 8738, 8739, 8740, 8741, 8742, 8743, 8745, 8746, 8747, 8748, 8750, 8751, 8752, 8754, 8755, 8756, 8757, 8758, 8760, 8761, 8764, 8765, 8766, 8768, 8770, 8771, 8772, 8773, 8775, 8776, 8778, 8782, 8783, 8784, 8785, 8787, 8788, 8789, 8790, 8791, 8792, 8794, 8796, 8798, 8799, 8800, 8801, 8802, 8803, 8804, 8806, 8807, 8808, 8809, 8810, 8811, 8812, 8813, 8814, 8815, 8816, 8817, 8818, 8819, 8820, 8821, 8822, 8823, 8824, 8825, 8826, 8827, 8828, 8829, 8830, 8831, 8832, 8833, 8834, 8835, 8836, 8837, 8838, 8840, 8841, 8842, 8843, 8844, 8845, 8846, 8847, 8848, 8849, 8850, 8851, 8852, 8853, 8854, 8855, 8858, 8859, 8860, 8861, 8863, 8865, 8866, 8867, 8868, 8869, 8870, 8871, 8872, 8873, 8874, 8876, 8877, 8878, 8879, 8880, 8883, 8884, 8885, 8886, 8887, 8889, 8891, 8893, 8894, 8895, 8896, 8897, 8898, 8899, 8900, 8901, 8902, 8903, 8905, 8906, 8907, 8908, 8909, 8910, 8911, 8916, 8917, 8918, 8919, 8920, 8922, 8923, 8925, 8926, 8927, 8928, 8929, 8930, 8932, 8933, 8935, 8936, 8938, 8939, 8940, 8941, 8943, 8944, 8946, 8947, 8948, 8949, 8950, 8951, 8952, 8953, 8954, 8955, 8956, 8957, 8958, 8959, 8961, 8962, 8963, 8964, 8965, 8968, 8969, 8970, 8971, 8972, 8973, 8976, 8978, 8980, 8981, 8982, 8983, 8984, 8986, 8988, 8990, 8991, 8993, 8994, 8996, 8997, 8998, 8999, 9000, 9001, 9002, 9004, 9005, 9006, 9007, 9009, 9011, 9012, 9013, 9014, 9016, 9017, 9018, 9020, 9021, 9023, 9025, 9026, 9027, 9028, 9029, 9031, 9032, 9034, 9036, 9037, 9038, 9039, 9040, 9041, 9042, 9043, 9044, 9045, 9046, 9047, 9048, 9050, 9051, 9053, 9055, 9056, 9057, 9058, 9059, 9060, 9061, 9062, 9063, 9066, 9067, 9071, 9072, 9074, 9075, 9076, 9077, 9078, 9079, 9080, 9081, 9082, 9083, 9084, 9085, 9086, 9087, 9088, 9089, 9090, 9091, 9092, 9093, 9094, 9096, 9097, 9098, 9099, 9100, 9102, 9104, 9107, 9108, 9109, 9110, 9111, 9112, 9114, 9115, 9116, 9117, 9118, 9119, 9120, 9121, 9122, 9123, 9124, 9125, 9126, 9127, 9128, 9129, 9130, 9131, 9132, 9133, 9134, 9135, 9136, 9137, 9138, 9139, 9140, 9141, 9142, 9146, 9147, 9149, 9150, 9151, 9153, 9154, 9156, 9158, 9159, 9160, 9161, 9162, 9164, 9165, 9166, 9167, 9168, 9170, 9171, 9172, 9173, 9175, 9176, 9177, 9178, 9179, 9180, 9181, 9182, 9183, 9186, 9187, 9188, 9189, 9190, 9191, 9192, 9193, 9194, 9195, 9196, 9197, 9198, 9199, 9200, 9201, 9202, 9204, 9205, 9206, 9207, 9209, 9211, 9212, 9213, 9214, 9215, 9217, 9218, 9219, 9220, 9221, 9222, 9224, 9225, 9226, 9227, 9228, 9230, 9232, 9233, 9234, 9235, 9236, 9237, 9238, 9239, 9240, 9241, 9242, 9243, 9244, 9245, 9246, 9247, 9248, 9250, 9251, 9253, 9254, 9255, 9256, 9257, 9258, 9259, 9261, 9262, 9263, 9264, 9266, 9267, 9268, 9269, 9270, 9271, 9273, 9274, 9275, 9276, 9277, 9278, 9280, 9282, 9283, 9285, 9286, 9287, 9288, 9289, 9291, 9292, 9293, 9294, 9295, 9296, 9297, 9298, 9299, 9300, 9301, 9302, 9303, 9304, 9305, 9306, 9307, 9309, 9310, 9311, 9312, 9313, 9315, 9317, 9318, 9319, 9320, 9321, 9322, 9323, 9324, 9325, 9327, 9328, 9330, 9331, 9332, 9333, 9334, 9335, 9336, 9338, 9339, 9341, 9342, 9343, 9344, 9345, 9346, 9348, 9349, 9350, 9351, 9353, 9354, 9355, 9356, 9357, 9358, 9359, 9360, 9362, 9363, 9364, 9365, 9366, 9367, 9369, 9370, 9371, 9372, 9374, 9375, 9376, 9377, 9378, 9379, 9380, 9381, 9383, 9385, 9386, 9388, 9389, 9390, 9391, 9392, 9393, 9396, 9397, 9398, 9400, 9401, 9402, 9403, 9405, 9407, 9408, 9409, 9410, 9411, 9412, 9414, 9415, 9416, 9417, 9418, 9421, 9422, 9423, 9425, 9427, 9428, 9430, 9431, 9432, 9433, 9434, 9435, 9436, 9437, 9438, 9439, 9440, 9441, 9442, 9443, 9444, 9445, 9446, 9447, 9448, 9450, 9451, 9452, 9455, 9456, 9457, 9459, 9460, 9461, 9462, 9463, 9465, 9466, 9467, 9468, 9469, 9470, 9471, 9474, 9475, 9476, 9477, 9478, 9479, 9480, 9481, 9483, 9485, 9486, 9487, 9488, 9489, 9490, 9491, 9492, 9493, 9494, 9497, 9498, 9499, 9500, 9501, 9502, 9503, 9505, 9506, 9507, 9508, 9510, 9511, 9512, 9513, 9515, 9516, 9517, 9518, 9519, 9520, 9521, 9522, 9523, 9524, 9525, 9526, 9528, 9529, 9530, 9531, 9532, 9533, 9534, 9535, 9536, 9537, 9539, 9540, 9541, 9542, 9543, 9545, 9548, 9549, 9550, 9551, 9552, 9554, 9557, 9560, 9562, 9563, 9564, 9565, 9566, 9568, 9569, 9570, 9572, 9573, 9575, 9577, 9578, 9580, 9581, 9582, 9583, 9584, 9585, 9586, 9587, 9589, 9590, 9592, 9593, 9594, 9595, 9596, 9597, 9598, 9599, 9603, 9604, 9605, 9606, 9608, 9609, 9610, 9611, 9612, 9613, 9614, 9616, 9617, 9618, 9619, 9620, 9621, 9622, 9623, 9624, 9625, 9626, 9627, 9628, 9630, 9631, 9632, 9634, 9635, 9636, 9638, 9640, 9642, 9643, 9646, 9648, 9650, 9653, 9654, 9655, 9656, 9657, 9658, 9659, 9660, 9661, 9663, 9665, 9666, 9667, 9668, 9669, 9670, 9671, 9672, 9673, 9674, 9675, 9676, 9677, 9678, 9681, 9684, 9686, 9687, 9688, 9690, 9691, 9692, 9694, 9695, 9696, 9697, 9698, 9699, 9700, 9701, 9703, 9704, 9705, 9706, 9707, 9708, 9709, 9710, 9711, 9712, 9714, 9715, 9716, 9717, 9718, 9719, 9721, 9722, 9724, 9725, 9726, 9729, 9730, 9731, 9733, 9734, 9735, 9737, 9738, 9739, 9741, 9743, 9744, 9746, 9747, 9748, 9749, 9751, 9754, 9755, 9756, 9759, 9760, 9761, 9762, 9764, 9765, 9766, 9767, 9768, 9769, 9770, 9773, 9774, 9775, 9776, 9779, 9780, 9782, 9783, 9784, 9785, 9786, 9788, 9789, 9792, 9794, 9795, 9796, 9797, 9798, 9800, 9802, 9803, 9804, 9806, 9811, 9812, 9813, 9814, 9815, 9816, 9818, 9819, 9820, 9821, 9822, 9825, 9828, 9829, 9830, 9831, 9832, 9833, 9834, 9835, 9836, 9839, 9840, 9841, 9842, 9846, 9847, 9848, 9849, 9851, 9852, 9853, 9854, 9855, 9856, 9859, 9861, 9862, 9863, 9864, 9866, 9867, 9868, 9869, 9870, 9871, 9872, 9873, 9874, 9875, 9876, 9877, 9879, 9881, 9882, 9883, 9884, 9887, 9888, 9889, 9890, 9891, 9892, 9893, 9894, 9896, 9897, 9899, 9900, 9901, 9902, 9903, 9904, 9905, 9906, 9907, 9909, 9910, 9912, 9913, 9914, 9915, 9917, 9918, 9920, 9921, 9922, 9923, 9926, 9927, 9928, 9929, 9930, 9931, 9932, 9933, 9934, 9935, 9936, 9937, 9938, 9939, 9940, 9941, 9943, 9944, 9947, 9948, 9950, 9952, 9953, 9954, 9955, 9956, 9957, 9958, 9960, 9961, 9962, 9963, 9964, 9965, 9966, 9967, 9968, 9969, 9970, 9971, 9972, 9973, 9974, 9975, 9976, 9978, 9979, 9980, 9981, 9982, 9984, 9985, 9987, 9988, 9991, 9992, 9993, 9994, 9995, 9997, 9998, 9999]\n",
      "1 chunks processed - 10000 rows processed\n"
     ]
    },
    {
     "name": "stderr",
     "output_type": "stream",
     "text": [
      "C:\\Users\\duals\\AppData\\Local\\Continuum\\anaconda3\\lib\\site-packages\\ipykernel_launcher.py:4: UserWarning: \n",
      "\n",
      "WARNING! Depending on chunksize value, files amount and/or files size this process might take time to compute\n",
      "  after removing the cwd from sys.path.\n"
     ]
    },
    {
     "ename": "IndexError",
     "evalue": "positional indexers are out-of-bounds",
     "output_type": "error",
     "traceback": [
      "\u001b[1;31m---------------------------------------------------------------------------\u001b[0m",
      "\u001b[1;31mIndexError\u001b[0m                                Traceback (most recent call last)",
      "\u001b[1;32m<ipython-input-46-0c06ae3eecaa>\u001b[0m in \u001b[0;36m<module>\u001b[1;34m()\u001b[0m\n\u001b[1;32m----> 1\u001b[1;33m \u001b[0mdatabase_separation\u001b[0m\u001b[1;33m(\u001b[0m\u001b[0mfilename_list_2015\u001b[0m\u001b[1;33m,\u001b[0m \u001b[1;36m2015\u001b[0m\u001b[1;33m,\u001b[0m \u001b[0mchunksize\u001b[0m\u001b[1;33m=\u001b[0m\u001b[1;36m10000\u001b[0m\u001b[1;33m)\u001b[0m\u001b[1;33m\u001b[0m\u001b[0m\n\u001b[0m",
      "\u001b[1;32m<ipython-input-45-bec03710b3f7>\u001b[0m in \u001b[0;36mdatabase_separation\u001b[1;34m(filename_list, database_year, sep, chunksize)\u001b[0m\n\u001b[0;32m     28\u001b[0m \u001b[1;33m\u001b[0m\u001b[0m\n\u001b[0;32m     29\u001b[0m             \u001b[1;31m# Slicing chunk's data:\u001b[0m\u001b[1;33m\u001b[0m\u001b[1;33m\u001b[0m\u001b[0m\n\u001b[1;32m---> 30\u001b[1;33m             \u001b[0mtraining_chunk\u001b[0m \u001b[1;33m=\u001b[0m \u001b[0mchunk\u001b[0m\u001b[1;33m.\u001b[0m\u001b[0miloc\u001b[0m\u001b[1;33m[\u001b[0m\u001b[0mtraining_chunk_idx\u001b[0m\u001b[1;33m,\u001b[0m \u001b[1;33m:\u001b[0m\u001b[1;33m]\u001b[0m\u001b[1;33m\u001b[0m\u001b[0m\n\u001b[0m\u001b[0;32m     31\u001b[0m             \u001b[0mtest_chunk\u001b[0m \u001b[1;33m=\u001b[0m \u001b[0mchunk\u001b[0m\u001b[1;33m.\u001b[0m\u001b[0miloc\u001b[0m\u001b[1;33m[\u001b[0m\u001b[0mtest_chunk_idx\u001b[0m\u001b[1;33m,\u001b[0m \u001b[1;33m:\u001b[0m\u001b[1;33m]\u001b[0m\u001b[1;33m\u001b[0m\u001b[0m\n\u001b[0;32m     32\u001b[0m             \u001b[0mprint\u001b[0m\u001b[1;33m(\u001b[0m\u001b[0mtraining_chunk_idx\u001b[0m\u001b[1;33m)\u001b[0m\u001b[1;33m\u001b[0m\u001b[0m\n",
      "\u001b[1;32m~\\AppData\\Local\\Continuum\\anaconda3\\lib\\site-packages\\pandas\\core\\indexing.py\u001b[0m in \u001b[0;36m__getitem__\u001b[1;34m(self, key)\u001b[0m\n\u001b[0;32m   1365\u001b[0m             \u001b[1;32mexcept\u001b[0m \u001b[1;33m(\u001b[0m\u001b[0mKeyError\u001b[0m\u001b[1;33m,\u001b[0m \u001b[0mIndexError\u001b[0m\u001b[1;33m)\u001b[0m\u001b[1;33m:\u001b[0m\u001b[1;33m\u001b[0m\u001b[0m\n\u001b[0;32m   1366\u001b[0m                 \u001b[1;32mpass\u001b[0m\u001b[1;33m\u001b[0m\u001b[0m\n\u001b[1;32m-> 1367\u001b[1;33m             \u001b[1;32mreturn\u001b[0m \u001b[0mself\u001b[0m\u001b[1;33m.\u001b[0m\u001b[0m_getitem_tuple\u001b[0m\u001b[1;33m(\u001b[0m\u001b[0mkey\u001b[0m\u001b[1;33m)\u001b[0m\u001b[1;33m\u001b[0m\u001b[0m\n\u001b[0m\u001b[0;32m   1368\u001b[0m         \u001b[1;32melse\u001b[0m\u001b[1;33m:\u001b[0m\u001b[1;33m\u001b[0m\u001b[0m\n\u001b[0;32m   1369\u001b[0m             \u001b[1;31m# we by definition only have the 0th axis\u001b[0m\u001b[1;33m\u001b[0m\u001b[1;33m\u001b[0m\u001b[0m\n",
      "\u001b[1;32m~\\AppData\\Local\\Continuum\\anaconda3\\lib\\site-packages\\pandas\\core\\indexing.py\u001b[0m in \u001b[0;36m_getitem_tuple\u001b[1;34m(self, tup)\u001b[0m\n\u001b[0;32m   1735\u001b[0m     \u001b[1;32mdef\u001b[0m \u001b[0m_getitem_tuple\u001b[0m\u001b[1;33m(\u001b[0m\u001b[0mself\u001b[0m\u001b[1;33m,\u001b[0m \u001b[0mtup\u001b[0m\u001b[1;33m)\u001b[0m\u001b[1;33m:\u001b[0m\u001b[1;33m\u001b[0m\u001b[0m\n\u001b[0;32m   1736\u001b[0m \u001b[1;33m\u001b[0m\u001b[0m\n\u001b[1;32m-> 1737\u001b[1;33m         \u001b[0mself\u001b[0m\u001b[1;33m.\u001b[0m\u001b[0m_has_valid_tuple\u001b[0m\u001b[1;33m(\u001b[0m\u001b[0mtup\u001b[0m\u001b[1;33m)\u001b[0m\u001b[1;33m\u001b[0m\u001b[0m\n\u001b[0m\u001b[0;32m   1738\u001b[0m         \u001b[1;32mtry\u001b[0m\u001b[1;33m:\u001b[0m\u001b[1;33m\u001b[0m\u001b[0m\n\u001b[0;32m   1739\u001b[0m             \u001b[1;32mreturn\u001b[0m \u001b[0mself\u001b[0m\u001b[1;33m.\u001b[0m\u001b[0m_getitem_lowerdim\u001b[0m\u001b[1;33m(\u001b[0m\u001b[0mtup\u001b[0m\u001b[1;33m)\u001b[0m\u001b[1;33m\u001b[0m\u001b[0m\n",
      "\u001b[1;32m~\\AppData\\Local\\Continuum\\anaconda3\\lib\\site-packages\\pandas\\core\\indexing.py\u001b[0m in \u001b[0;36m_has_valid_tuple\u001b[1;34m(self, key)\u001b[0m\n\u001b[0;32m    202\u001b[0m             \u001b[1;32mif\u001b[0m \u001b[0mi\u001b[0m \u001b[1;33m>=\u001b[0m \u001b[0mself\u001b[0m\u001b[1;33m.\u001b[0m\u001b[0mobj\u001b[0m\u001b[1;33m.\u001b[0m\u001b[0mndim\u001b[0m\u001b[1;33m:\u001b[0m\u001b[1;33m\u001b[0m\u001b[0m\n\u001b[0;32m    203\u001b[0m                 \u001b[1;32mraise\u001b[0m \u001b[0mIndexingError\u001b[0m\u001b[1;33m(\u001b[0m\u001b[1;34m'Too many indexers'\u001b[0m\u001b[1;33m)\u001b[0m\u001b[1;33m\u001b[0m\u001b[0m\n\u001b[1;32m--> 204\u001b[1;33m             \u001b[1;32mif\u001b[0m \u001b[1;32mnot\u001b[0m \u001b[0mself\u001b[0m\u001b[1;33m.\u001b[0m\u001b[0m_has_valid_type\u001b[0m\u001b[1;33m(\u001b[0m\u001b[0mk\u001b[0m\u001b[1;33m,\u001b[0m \u001b[0mi\u001b[0m\u001b[1;33m)\u001b[0m\u001b[1;33m:\u001b[0m\u001b[1;33m\u001b[0m\u001b[0m\n\u001b[0m\u001b[0;32m    205\u001b[0m                 raise ValueError(\"Location based indexing can only have \"\n\u001b[0;32m    206\u001b[0m                                  \u001b[1;34m\"[{types}] types\"\u001b[0m\u001b[1;33m\u001b[0m\u001b[0m\n",
      "\u001b[1;32m~\\AppData\\Local\\Continuum\\anaconda3\\lib\\site-packages\\pandas\\core\\indexing.py\u001b[0m in \u001b[0;36m_has_valid_type\u001b[1;34m(self, key, axis)\u001b[0m\n\u001b[0;32m   1672\u001b[0m             \u001b[1;32mreturn\u001b[0m \u001b[0mself\u001b[0m\u001b[1;33m.\u001b[0m\u001b[0m_is_valid_integer\u001b[0m\u001b[1;33m(\u001b[0m\u001b[0mkey\u001b[0m\u001b[1;33m,\u001b[0m \u001b[0maxis\u001b[0m\u001b[1;33m)\u001b[0m\u001b[1;33m\u001b[0m\u001b[0m\n\u001b[0;32m   1673\u001b[0m         \u001b[1;32melif\u001b[0m \u001b[0mis_list_like_indexer\u001b[0m\u001b[1;33m(\u001b[0m\u001b[0mkey\u001b[0m\u001b[1;33m)\u001b[0m\u001b[1;33m:\u001b[0m\u001b[1;33m\u001b[0m\u001b[0m\n\u001b[1;32m-> 1674\u001b[1;33m             \u001b[1;32mreturn\u001b[0m \u001b[0mself\u001b[0m\u001b[1;33m.\u001b[0m\u001b[0m_is_valid_list_like\u001b[0m\u001b[1;33m(\u001b[0m\u001b[0mkey\u001b[0m\u001b[1;33m,\u001b[0m \u001b[0maxis\u001b[0m\u001b[1;33m)\u001b[0m\u001b[1;33m\u001b[0m\u001b[0m\n\u001b[0m\u001b[0;32m   1675\u001b[0m         \u001b[1;32mreturn\u001b[0m \u001b[1;32mFalse\u001b[0m\u001b[1;33m\u001b[0m\u001b[0m\n\u001b[0;32m   1676\u001b[0m \u001b[1;33m\u001b[0m\u001b[0m\n",
      "\u001b[1;32m~\\AppData\\Local\\Continuum\\anaconda3\\lib\\site-packages\\pandas\\core\\indexing.py\u001b[0m in \u001b[0;36m_is_valid_list_like\u001b[1;34m(self, key, axis)\u001b[0m\n\u001b[0;32m   1729\u001b[0m         if (hasattr(arr, '__len__') and len(arr) and\n\u001b[0;32m   1730\u001b[0m                 (arr.max() >= l or arr.min() < -l)):\n\u001b[1;32m-> 1731\u001b[1;33m             \u001b[1;32mraise\u001b[0m \u001b[0mIndexError\u001b[0m\u001b[1;33m(\u001b[0m\u001b[1;34m\"positional indexers are out-of-bounds\"\u001b[0m\u001b[1;33m)\u001b[0m\u001b[1;33m\u001b[0m\u001b[0m\n\u001b[0m\u001b[0;32m   1732\u001b[0m \u001b[1;33m\u001b[0m\u001b[0m\n\u001b[0;32m   1733\u001b[0m         \u001b[1;32mreturn\u001b[0m \u001b[1;32mTrue\u001b[0m\u001b[1;33m\u001b[0m\u001b[0m\n",
      "\u001b[1;31mIndexError\u001b[0m: positional indexers are out-of-bounds"
     ]
    }
   ],
   "source": [
    "database_separation(filename_list_2015, 2015, chunksize=10000)"
   ]
  },
  {
   "cell_type": "markdown",
   "metadata": {},
   "source": [
    "* **2016**"
   ]
  },
  {
   "cell_type": "code",
   "execution_count": 22,
   "metadata": {},
   "outputs": [
    {
     "ename": "IndexError",
     "evalue": "positional indexers are out-of-bounds",
     "output_type": "error",
     "traceback": [
      "\u001b[1;31m---------------------------------------------------------------------------\u001b[0m",
      "\u001b[1;31mIndexError\u001b[0m                                Traceback (most recent call last)",
      "\u001b[1;32m<ipython-input-22-b53d545566d7>\u001b[0m in \u001b[0;36m<module>\u001b[1;34m()\u001b[0m\n\u001b[1;32m----> 1\u001b[1;33m \u001b[0mdatabase_separation\u001b[0m\u001b[1;33m(\u001b[0m\u001b[0mfilename_list_2016\u001b[0m\u001b[1;33m,\u001b[0m \u001b[1;36m2016\u001b[0m\u001b[1;33m,\u001b[0m \u001b[0mchunksize\u001b[0m\u001b[1;33m=\u001b[0m\u001b[1;36m10000\u001b[0m\u001b[1;33m)\u001b[0m\u001b[1;33m\u001b[0m\u001b[0m\n\u001b[0m",
      "\u001b[1;32m<ipython-input-20-a935d8b9d317>\u001b[0m in \u001b[0;36mdatabase_separation\u001b[1;34m(filename_list, database_year, sep, chunksize)\u001b[0m\n\u001b[0;32m     22\u001b[0m \u001b[1;33m\u001b[0m\u001b[0m\n\u001b[0;32m     23\u001b[0m             \u001b[1;31m# Slicing chunk's data:\u001b[0m\u001b[1;33m\u001b[0m\u001b[1;33m\u001b[0m\u001b[0m\n\u001b[1;32m---> 24\u001b[1;33m             \u001b[0mtraining_chunk\u001b[0m \u001b[1;33m=\u001b[0m \u001b[0mchunk\u001b[0m\u001b[1;33m.\u001b[0m\u001b[0miloc\u001b[0m\u001b[1;33m[\u001b[0m\u001b[0mtraining__chunk_idx\u001b[0m\u001b[1;33m,\u001b[0m \u001b[1;33m:\u001b[0m\u001b[1;33m]\u001b[0m\u001b[1;33m\u001b[0m\u001b[0m\n\u001b[0m\u001b[0;32m     25\u001b[0m             \u001b[0mtest_chunk\u001b[0m \u001b[1;33m=\u001b[0m \u001b[0mchunk\u001b[0m\u001b[1;33m.\u001b[0m\u001b[0miloc\u001b[0m\u001b[1;33m[\u001b[0m\u001b[0mtest_chunk_idx\u001b[0m\u001b[1;33m,\u001b[0m \u001b[1;33m:\u001b[0m\u001b[1;33m]\u001b[0m\u001b[1;33m\u001b[0m\u001b[0m\n\u001b[0;32m     26\u001b[0m \u001b[1;33m\u001b[0m\u001b[0m\n",
      "\u001b[1;32m~\\AppData\\Local\\Continuum\\anaconda3\\lib\\site-packages\\pandas\\core\\indexing.py\u001b[0m in \u001b[0;36m__getitem__\u001b[1;34m(self, key)\u001b[0m\n\u001b[0;32m   1365\u001b[0m             \u001b[1;32mexcept\u001b[0m \u001b[1;33m(\u001b[0m\u001b[0mKeyError\u001b[0m\u001b[1;33m,\u001b[0m \u001b[0mIndexError\u001b[0m\u001b[1;33m)\u001b[0m\u001b[1;33m:\u001b[0m\u001b[1;33m\u001b[0m\u001b[0m\n\u001b[0;32m   1366\u001b[0m                 \u001b[1;32mpass\u001b[0m\u001b[1;33m\u001b[0m\u001b[0m\n\u001b[1;32m-> 1367\u001b[1;33m             \u001b[1;32mreturn\u001b[0m \u001b[0mself\u001b[0m\u001b[1;33m.\u001b[0m\u001b[0m_getitem_tuple\u001b[0m\u001b[1;33m(\u001b[0m\u001b[0mkey\u001b[0m\u001b[1;33m)\u001b[0m\u001b[1;33m\u001b[0m\u001b[0m\n\u001b[0m\u001b[0;32m   1368\u001b[0m         \u001b[1;32melse\u001b[0m\u001b[1;33m:\u001b[0m\u001b[1;33m\u001b[0m\u001b[0m\n\u001b[0;32m   1369\u001b[0m             \u001b[1;31m# we by definition only have the 0th axis\u001b[0m\u001b[1;33m\u001b[0m\u001b[1;33m\u001b[0m\u001b[0m\n",
      "\u001b[1;32m~\\AppData\\Local\\Continuum\\anaconda3\\lib\\site-packages\\pandas\\core\\indexing.py\u001b[0m in \u001b[0;36m_getitem_tuple\u001b[1;34m(self, tup)\u001b[0m\n\u001b[0;32m   1735\u001b[0m     \u001b[1;32mdef\u001b[0m \u001b[0m_getitem_tuple\u001b[0m\u001b[1;33m(\u001b[0m\u001b[0mself\u001b[0m\u001b[1;33m,\u001b[0m \u001b[0mtup\u001b[0m\u001b[1;33m)\u001b[0m\u001b[1;33m:\u001b[0m\u001b[1;33m\u001b[0m\u001b[0m\n\u001b[0;32m   1736\u001b[0m \u001b[1;33m\u001b[0m\u001b[0m\n\u001b[1;32m-> 1737\u001b[1;33m         \u001b[0mself\u001b[0m\u001b[1;33m.\u001b[0m\u001b[0m_has_valid_tuple\u001b[0m\u001b[1;33m(\u001b[0m\u001b[0mtup\u001b[0m\u001b[1;33m)\u001b[0m\u001b[1;33m\u001b[0m\u001b[0m\n\u001b[0m\u001b[0;32m   1738\u001b[0m         \u001b[1;32mtry\u001b[0m\u001b[1;33m:\u001b[0m\u001b[1;33m\u001b[0m\u001b[0m\n\u001b[0;32m   1739\u001b[0m             \u001b[1;32mreturn\u001b[0m \u001b[0mself\u001b[0m\u001b[1;33m.\u001b[0m\u001b[0m_getitem_lowerdim\u001b[0m\u001b[1;33m(\u001b[0m\u001b[0mtup\u001b[0m\u001b[1;33m)\u001b[0m\u001b[1;33m\u001b[0m\u001b[0m\n",
      "\u001b[1;32m~\\AppData\\Local\\Continuum\\anaconda3\\lib\\site-packages\\pandas\\core\\indexing.py\u001b[0m in \u001b[0;36m_has_valid_tuple\u001b[1;34m(self, key)\u001b[0m\n\u001b[0;32m    202\u001b[0m             \u001b[1;32mif\u001b[0m \u001b[0mi\u001b[0m \u001b[1;33m>=\u001b[0m \u001b[0mself\u001b[0m\u001b[1;33m.\u001b[0m\u001b[0mobj\u001b[0m\u001b[1;33m.\u001b[0m\u001b[0mndim\u001b[0m\u001b[1;33m:\u001b[0m\u001b[1;33m\u001b[0m\u001b[0m\n\u001b[0;32m    203\u001b[0m                 \u001b[1;32mraise\u001b[0m \u001b[0mIndexingError\u001b[0m\u001b[1;33m(\u001b[0m\u001b[1;34m'Too many indexers'\u001b[0m\u001b[1;33m)\u001b[0m\u001b[1;33m\u001b[0m\u001b[0m\n\u001b[1;32m--> 204\u001b[1;33m             \u001b[1;32mif\u001b[0m \u001b[1;32mnot\u001b[0m \u001b[0mself\u001b[0m\u001b[1;33m.\u001b[0m\u001b[0m_has_valid_type\u001b[0m\u001b[1;33m(\u001b[0m\u001b[0mk\u001b[0m\u001b[1;33m,\u001b[0m \u001b[0mi\u001b[0m\u001b[1;33m)\u001b[0m\u001b[1;33m:\u001b[0m\u001b[1;33m\u001b[0m\u001b[0m\n\u001b[0m\u001b[0;32m    205\u001b[0m                 raise ValueError(\"Location based indexing can only have \"\n\u001b[0;32m    206\u001b[0m                                  \u001b[1;34m\"[{types}] types\"\u001b[0m\u001b[1;33m\u001b[0m\u001b[0m\n",
      "\u001b[1;32m~\\AppData\\Local\\Continuum\\anaconda3\\lib\\site-packages\\pandas\\core\\indexing.py\u001b[0m in \u001b[0;36m_has_valid_type\u001b[1;34m(self, key, axis)\u001b[0m\n\u001b[0;32m   1672\u001b[0m             \u001b[1;32mreturn\u001b[0m \u001b[0mself\u001b[0m\u001b[1;33m.\u001b[0m\u001b[0m_is_valid_integer\u001b[0m\u001b[1;33m(\u001b[0m\u001b[0mkey\u001b[0m\u001b[1;33m,\u001b[0m \u001b[0maxis\u001b[0m\u001b[1;33m)\u001b[0m\u001b[1;33m\u001b[0m\u001b[0m\n\u001b[0;32m   1673\u001b[0m         \u001b[1;32melif\u001b[0m \u001b[0mis_list_like_indexer\u001b[0m\u001b[1;33m(\u001b[0m\u001b[0mkey\u001b[0m\u001b[1;33m)\u001b[0m\u001b[1;33m:\u001b[0m\u001b[1;33m\u001b[0m\u001b[0m\n\u001b[1;32m-> 1674\u001b[1;33m             \u001b[1;32mreturn\u001b[0m \u001b[0mself\u001b[0m\u001b[1;33m.\u001b[0m\u001b[0m_is_valid_list_like\u001b[0m\u001b[1;33m(\u001b[0m\u001b[0mkey\u001b[0m\u001b[1;33m,\u001b[0m \u001b[0maxis\u001b[0m\u001b[1;33m)\u001b[0m\u001b[1;33m\u001b[0m\u001b[0m\n\u001b[0m\u001b[0;32m   1675\u001b[0m         \u001b[1;32mreturn\u001b[0m \u001b[1;32mFalse\u001b[0m\u001b[1;33m\u001b[0m\u001b[0m\n\u001b[0;32m   1676\u001b[0m \u001b[1;33m\u001b[0m\u001b[0m\n",
      "\u001b[1;32m~\\AppData\\Local\\Continuum\\anaconda3\\lib\\site-packages\\pandas\\core\\indexing.py\u001b[0m in \u001b[0;36m_is_valid_list_like\u001b[1;34m(self, key, axis)\u001b[0m\n\u001b[0;32m   1729\u001b[0m         if (hasattr(arr, '__len__') and len(arr) and\n\u001b[0;32m   1730\u001b[0m                 (arr.max() >= l or arr.min() < -l)):\n\u001b[1;32m-> 1731\u001b[1;33m             \u001b[1;32mraise\u001b[0m \u001b[0mIndexError\u001b[0m\u001b[1;33m(\u001b[0m\u001b[1;34m\"positional indexers are out-of-bounds\"\u001b[0m\u001b[1;33m)\u001b[0m\u001b[1;33m\u001b[0m\u001b[0m\n\u001b[0m\u001b[0;32m   1732\u001b[0m \u001b[1;33m\u001b[0m\u001b[0m\n\u001b[0;32m   1733\u001b[0m         \u001b[1;32mreturn\u001b[0m \u001b[1;32mTrue\u001b[0m\u001b[1;33m\u001b[0m\u001b[0m\n",
      "\u001b[1;31mIndexError\u001b[0m: positional indexers are out-of-bounds"
     ]
    }
   ],
   "source": [
    "database_separation(filename_list_2016, 2016, chunksize=10000)"
   ]
  },
  {
   "cell_type": "code",
   "execution_count": null,
   "metadata": {},
   "outputs": [],
   "source": []
  },
  {
   "cell_type": "code",
   "execution_count": null,
   "metadata": {},
   "outputs": [],
   "source": []
  },
  {
   "cell_type": "code",
   "execution_count": 15,
   "metadata": {},
   "outputs": [
    {
     "name": "stdout",
     "output_type": "stream",
     "text": [
      "Help on function concat in module pandas.core.reshape.concat:\n",
      "\n",
      "concat(objs, axis=0, join='outer', join_axes=None, ignore_index=False, keys=None, levels=None, names=None, verify_integrity=False, copy=True)\n",
      "    Concatenate pandas objects along a particular axis with optional set logic\n",
      "    along the other axes.\n",
      "    \n",
      "    Can also add a layer of hierarchical indexing on the concatenation axis,\n",
      "    which may be useful if the labels are the same (or overlapping) on\n",
      "    the passed axis number.\n",
      "    \n",
      "    Parameters\n",
      "    ----------\n",
      "    objs : a sequence or mapping of Series, DataFrame, or Panel objects\n",
      "        If a dict is passed, the sorted keys will be used as the `keys`\n",
      "        argument, unless it is passed, in which case the values will be\n",
      "        selected (see below). Any None objects will be dropped silently unless\n",
      "        they are all None in which case a ValueError will be raised\n",
      "    axis : {0/'index', 1/'columns'}, default 0\n",
      "        The axis to concatenate along\n",
      "    join : {'inner', 'outer'}, default 'outer'\n",
      "        How to handle indexes on other axis(es)\n",
      "    join_axes : list of Index objects\n",
      "        Specific indexes to use for the other n - 1 axes instead of performing\n",
      "        inner/outer set logic\n",
      "    ignore_index : boolean, default False\n",
      "        If True, do not use the index values along the concatenation axis. The\n",
      "        resulting axis will be labeled 0, ..., n - 1. This is useful if you are\n",
      "        concatenating objects where the concatenation axis does not have\n",
      "        meaningful indexing information. Note the index values on the other\n",
      "        axes are still respected in the join.\n",
      "    keys : sequence, default None\n",
      "        If multiple levels passed, should contain tuples. Construct\n",
      "        hierarchical index using the passed keys as the outermost level\n",
      "    levels : list of sequences, default None\n",
      "        Specific levels (unique values) to use for constructing a\n",
      "        MultiIndex. Otherwise they will be inferred from the keys\n",
      "    names : list, default None\n",
      "        Names for the levels in the resulting hierarchical index\n",
      "    verify_integrity : boolean, default False\n",
      "        Check whether the new concatenated axis contains duplicates. This can\n",
      "        be very expensive relative to the actual data concatenation\n",
      "    copy : boolean, default True\n",
      "        If False, do not copy data unnecessarily\n",
      "    \n",
      "    Returns\n",
      "    -------\n",
      "    concatenated : object, type of objs\n",
      "        When concatenating all ``Series`` along the index (axis=0), a\n",
      "        ``Series`` is returned. When ``objs`` contains at least one\n",
      "        ``DataFrame``, a ``DataFrame`` is returned. When concatenating along\n",
      "        the columns (axis=1), a ``DataFrame`` is returned.\n",
      "    \n",
      "    Notes\n",
      "    -----\n",
      "    The keys, levels, and names arguments are all optional.\n",
      "    \n",
      "    A walkthrough of how this method fits in with other tools for combining\n",
      "    pandas objects can be found `here\n",
      "    <http://pandas.pydata.org/pandas-docs/stable/merging.html>`__.\n",
      "    \n",
      "    See Also\n",
      "    --------\n",
      "    Series.append\n",
      "    DataFrame.append\n",
      "    DataFrame.join\n",
      "    DataFrame.merge\n",
      "    \n",
      "    Examples\n",
      "    --------\n",
      "    Combine two ``Series``.\n",
      "    \n",
      "    >>> s1 = pd.Series(['a', 'b'])\n",
      "    >>> s2 = pd.Series(['c', 'd'])\n",
      "    >>> pd.concat([s1, s2])\n",
      "    0    a\n",
      "    1    b\n",
      "    0    c\n",
      "    1    d\n",
      "    dtype: object\n",
      "    \n",
      "    Clear the existing index and reset it in the result\n",
      "    by setting the ``ignore_index`` option to ``True``.\n",
      "    \n",
      "    >>> pd.concat([s1, s2], ignore_index=True)\n",
      "    0    a\n",
      "    1    b\n",
      "    2    c\n",
      "    3    d\n",
      "    dtype: object\n",
      "    \n",
      "    Add a hierarchical index at the outermost level of\n",
      "    the data with the ``keys`` option.\n",
      "    \n",
      "    >>> pd.concat([s1, s2], keys=['s1', 's2',])\n",
      "    s1  0    a\n",
      "        1    b\n",
      "    s2  0    c\n",
      "        1    d\n",
      "    dtype: object\n",
      "    \n",
      "    Label the index keys you create with the ``names`` option.\n",
      "    \n",
      "    >>> pd.concat([s1, s2], keys=['s1', 's2'],\n",
      "    ...           names=['Series name', 'Row ID'])\n",
      "    Series name  Row ID\n",
      "    s1           0         a\n",
      "                 1         b\n",
      "    s2           0         c\n",
      "                 1         d\n",
      "    dtype: object\n",
      "    \n",
      "    Combine two ``DataFrame`` objects with identical columns.\n",
      "    \n",
      "    >>> df1 = pd.DataFrame([['a', 1], ['b', 2]],\n",
      "    ...                    columns=['letter', 'number'])\n",
      "    >>> df1\n",
      "      letter  number\n",
      "    0      a       1\n",
      "    1      b       2\n",
      "    >>> df2 = pd.DataFrame([['c', 3], ['d', 4]],\n",
      "    ...                    columns=['letter', 'number'])\n",
      "    >>> df2\n",
      "      letter  number\n",
      "    0      c       3\n",
      "    1      d       4\n",
      "    >>> pd.concat([df1, df2])\n",
      "      letter  number\n",
      "    0      a       1\n",
      "    1      b       2\n",
      "    0      c       3\n",
      "    1      d       4\n",
      "    \n",
      "    Combine ``DataFrame`` objects with overlapping columns\n",
      "    and return everything. Columns outside the intersection will\n",
      "    be filled with ``NaN`` values.\n",
      "    \n",
      "    >>> df3 = pd.DataFrame([['c', 3, 'cat'], ['d', 4, 'dog']],\n",
      "    ...                    columns=['letter', 'number', 'animal'])\n",
      "    >>> df3\n",
      "      letter  number animal\n",
      "    0      c       3    cat\n",
      "    1      d       4    dog\n",
      "    >>> pd.concat([df1, df3])\n",
      "      animal letter  number\n",
      "    0    NaN      a       1\n",
      "    1    NaN      b       2\n",
      "    0    cat      c       3\n",
      "    1    dog      d       4\n",
      "    \n",
      "    Combine ``DataFrame`` objects with overlapping columns\n",
      "    and return only those that are shared by passing ``inner`` to\n",
      "    the ``join`` keyword argument.\n",
      "    \n",
      "    >>> pd.concat([df1, df3], join=\"inner\")\n",
      "      letter  number\n",
      "    0      a       1\n",
      "    1      b       2\n",
      "    0      c       3\n",
      "    1      d       4\n",
      "    \n",
      "    Combine ``DataFrame`` objects horizontally along the x axis by\n",
      "    passing in ``axis=1``.\n",
      "    \n",
      "    >>> df4 = pd.DataFrame([['bird', 'polly'], ['monkey', 'george']],\n",
      "    ...                    columns=['animal', 'name'])\n",
      "    >>> pd.concat([df1, df4], axis=1)\n",
      "      letter  number  animal    name\n",
      "    0      a       1    bird   polly\n",
      "    1      b       2  monkey  george\n",
      "    \n",
      "    Prevent the result from including duplicate index values with the\n",
      "    ``verify_integrity`` option.\n",
      "    \n",
      "    >>> df5 = pd.DataFrame([1], index=['a'])\n",
      "    >>> df5\n",
      "       0\n",
      "    a  1\n",
      "    >>> df6 = pd.DataFrame([2], index=['a'])\n",
      "    >>> df6\n",
      "       0\n",
      "    a  2\n",
      "    >>> pd.concat([df5, df6], verify_integrity=True)\n",
      "    Traceback (most recent call last):\n",
      "        ...\n",
      "    ValueError: Indexes have overlapping values: ['a']\n",
      "\n"
     ]
    }
   ],
   "source": [
    "help(pd.concat)"
   ]
  },
  {
   "cell_type": "code",
   "execution_count": 4,
   "metadata": {},
   "outputs": [
    {
     "name": "stdout",
     "output_type": "stream",
     "text": [
      "Help on function append in module pandas.core.frame:\n",
      "\n",
      "append(self, other, ignore_index=False, verify_integrity=False)\n",
      "    Append rows of `other` to the end of this frame, returning a new\n",
      "    object. Columns not in this frame are added as new columns.\n",
      "    \n",
      "    Parameters\n",
      "    ----------\n",
      "    other : DataFrame or Series/dict-like object, or list of these\n",
      "        The data to append.\n",
      "    ignore_index : boolean, default False\n",
      "        If True, do not use the index labels.\n",
      "    verify_integrity : boolean, default False\n",
      "        If True, raise ValueError on creating index with duplicates.\n",
      "    \n",
      "    Returns\n",
      "    -------\n",
      "    appended : DataFrame\n",
      "    \n",
      "    Notes\n",
      "    -----\n",
      "    If a list of dict/series is passed and the keys are all contained in\n",
      "    the DataFrame's index, the order of the columns in the resulting\n",
      "    DataFrame will be unchanged.\n",
      "    \n",
      "    Iteratively appending rows to a DataFrame can be more computationally\n",
      "    intensive than a single concatenate. A better solution is to append\n",
      "    those rows to a list and then concatenate the list with the original\n",
      "    DataFrame all at once.\n",
      "    \n",
      "    See also\n",
      "    --------\n",
      "    pandas.concat : General function to concatenate DataFrame, Series\n",
      "        or Panel objects\n",
      "    \n",
      "    Examples\n",
      "    --------\n",
      "    \n",
      "    >>> df = pd.DataFrame([[1, 2], [3, 4]], columns=list('AB'))\n",
      "    >>> df\n",
      "       A  B\n",
      "    0  1  2\n",
      "    1  3  4\n",
      "    >>> df2 = pd.DataFrame([[5, 6], [7, 8]], columns=list('AB'))\n",
      "    >>> df.append(df2)\n",
      "       A  B\n",
      "    0  1  2\n",
      "    1  3  4\n",
      "    0  5  6\n",
      "    1  7  8\n",
      "    \n",
      "    With `ignore_index` set to True:\n",
      "    \n",
      "    >>> df.append(df2, ignore_index=True)\n",
      "       A  B\n",
      "    0  1  2\n",
      "    1  3  4\n",
      "    2  5  6\n",
      "    3  7  8\n",
      "    \n",
      "    The following, while not recommended methods for generating DataFrames,\n",
      "    show two ways to generate a DataFrame from multiple data sources.\n",
      "    \n",
      "    Less efficient:\n",
      "    \n",
      "    >>> df = pd.DataFrame(columns=['A'])\n",
      "    >>> for i in range(5):\n",
      "    ...     df = df.append({'A': i}, ignore_index=True)\n",
      "    >>> df\n",
      "       A\n",
      "    0  0\n",
      "    1  1\n",
      "    2  2\n",
      "    3  3\n",
      "    4  4\n",
      "    \n",
      "    More efficient:\n",
      "    \n",
      "    >>> pd.concat([pd.DataFrame([i], columns=['A']) for i in range(5)],\n",
      "    ...           ignore_index=True)\n",
      "       A\n",
      "    0  0\n",
      "    1  1\n",
      "    2  2\n",
      "    3  3\n",
      "    4  4\n",
      "\n"
     ]
    }
   ],
   "source": [
    "help(pd.DataFrame.append)"
   ]
  },
  {
   "cell_type": "markdown",
   "metadata": {},
   "source": [
    "Nome das colunas:\n",
    "* `SG_UF_RESIDENCIA`: Sigla da Unidade de Federação da residência do candidato\n",
    "* `NU_IDADE`: Idade do candidato\n",
    "* `TP_SEXO`: Sexo do candidato\n",
    "* `TP_ESTADO_CIIVL`: Estado Civil do candidato\n",
    "* `TP_COR_RACA`: Grupo étinco a qual o candidato se identifica\n",
    "* `TP_ST_CONCLUSAO`: Situação de conclusão do Ensino Médio\n",
    "* `TP_ESCOLA`: Tipo de escola do Ensino Médio\n",
    "* `NU_NOTA`: Notas nas avaliações do ENEM, sendo:\n",
    "\n",
    "|Sigla   |    Descrição        |\n",
    "|--------|---------------------|\n",
    "|CN      |Ciências da Natureza |\n",
    "|CH      |Ciências Humanas     |\n",
    "|LC      |Linguagens e Códigos |\n",
    "|MT      |Matemática           |\n",
    "|REDACAO |Redação              |\n",
    "    \n",
    "* `Q006`: Renda mensal da família"
   ]
  },
  {
   "cell_type": "markdown",
   "metadata": {},
   "source": [
    "# Porquê essas colunas foram escolhidas?"
   ]
  },
  {
   "cell_type": "markdown",
   "metadata": {},
   "source": [
    "- A Unidade de Federação é bem relevante no acesso à escolaridade, pois sabe-se que, no Brasil, educação de boa qualidade, de maneira geral, é acessada por meios privados. Sendo assim, há regiões que são pobres em desenvolvimento humano.\n",
    "- Idade influencia, tendo em vista que um jovem de 17-20 anos tende a lembrar mais do conteudo ante a um adulto de 30+\n",
    "- Grupo Étnico (vulgarmente conhecido como \"Raça\") tem grande peso na nota, tendo em vista o sistema de cotas\n",
    "- Situação de conclusão do Ensino Médio diz, aproximadamente, se o candidato se encontra preparado para a prova, ou não\n",
    "- Tipo de escola nos ajuda a montar o perfil do aluno, e  o que esperar do seu desempenho\n",
    "- Nota da prova é útil para a análise pra estabelecer a base de treinamento"
   ]
  },
  {
   "cell_type": "markdown",
   "metadata": {},
   "source": [
    "# Análise descritiva:"
   ]
  },
  {
   "cell_type": "markdown",
   "metadata": {},
   "source": [
    "- Gráficos de como cada variável afeta na nota do candidato\n",
    "    - Boxplot de renda com nota\n",
    "    - Gráfico de barras para nota com outra variável qualitativa\n",
    "    "
   ]
  },
  {
   "cell_type": "code",
   "execution_count": null,
   "metadata": {},
   "outputs": [],
   "source": []
  },
  {
   "cell_type": "code",
   "execution_count": null,
   "metadata": {},
   "outputs": [],
   "source": []
  },
  {
   "cell_type": "code",
   "execution_count": null,
   "metadata": {},
   "outputs": [],
   "source": []
  },
  {
   "cell_type": "code",
   "execution_count": null,
   "metadata": {},
   "outputs": [],
   "source": []
  },
  {
   "cell_type": "markdown",
   "metadata": {},
   "source": [
    "## Bibliografia:"
   ]
  },
  {
   "cell_type": "markdown",
   "metadata": {},
   "source": [
    "Sites consultados:\n",
    "* https://openpyxl.readthedocs.io/en/2.5/pandas.html\n",
    "* http://portal.inep.gov.br/microdados\n",
    "* \n",
    "* \n",
    "* \n",
    "* \n",
    "* \n",
    "* "
   ]
  },
  {
   "cell_type": "code",
   "execution_count": null,
   "metadata": {},
   "outputs": [],
   "source": []
  }
 ],
 "metadata": {
  "kernelspec": {
   "display_name": "Python 3",
   "language": "python",
   "name": "python3"
  },
  "language_info": {
   "codemirror_mode": {
    "name": "ipython",
    "version": 3
   },
   "file_extension": ".py",
   "mimetype": "text/x-python",
   "name": "python",
   "nbconvert_exporter": "python",
   "pygments_lexer": "ipython3",
   "version": "3.6.4"
  }
 },
 "nbformat": 4,
 "nbformat_minor": 2
}
