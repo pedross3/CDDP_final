{
 "cells": [
  {
   "cell_type": "markdown",
   "metadata": {},
   "source": [
    "# Ciência dos Dados - Projeto 03 - "
   ]
  },
  {
   "cell_type": "code",
   "execution_count": null,
   "metadata": {},
   "outputs": [],
   "source": []
  },
  {
   "cell_type": "markdown",
   "metadata": {},
   "source": [
    "$Arthur\\space Alegro \\space de \\space Oliveira$\n",
    "\n",
    "$Pedro\\space dos\\space Santos \\space e \\space Silva$\n",
    "\n",
    "$Jhonata\\space Ferreira\\space de \\space Souza$"
   ]
  },
  {
   "cell_type": "markdown",
   "metadata": {},
   "source": [
    "## Base de Dados:"
   ]
  },
  {
   "cell_type": "markdown",
   "metadata": {},
   "source": [
    "Base de dados do ENEM referente aos anos de 2015 e 2016 extraídas pelo site http://portal.inep.gov.br/microdados.\n",
    "\n",
    "Nomes dos arquivos:\n",
    "* MICRODADOS_ENEM_2015.csv\n",
    "* MICRODADOS_ENEM_2016.csv\n",
    "\n",
    "**OBS.:** Para rodar corretamente este arquivo arquivo iJupyter Notebook (`.ipynb`)  deve-se extrair o arquivo `.zip` correspondente, acessar a pasta \"DADOS\" e colocar os arquivos `.csv` citados anteriormente no mesmo diretório deste arquivo.\n"
   ]
  },
  {
   "cell_type": "markdown",
   "metadata": {},
   "source": [
    "## Importando Bibliotecas:"
   ]
  },
  {
   "cell_type": "code",
   "execution_count": 2,
   "metadata": {},
   "outputs": [],
   "source": [
    "% matplotlib inline\n",
    "from openpyxl import load_workbook\n",
    "import matplotlib.pyplot as plt\n",
    "import pandas as pd\n",
    "import numpy as np\n",
    "from math import *\n",
    "import warnings\n",
    "import time\n",
    "import os"
   ]
  },
  {
   "cell_type": "markdown",
   "metadata": {},
   "source": [
    "## Diretório:"
   ]
  },
  {
   "cell_type": "code",
   "execution_count": 4,
   "metadata": {},
   "outputs": [
    {
     "name": "stdout",
     "output_type": "stream",
     "text": [
      "Esperamos trabalhar no diretório\n",
      "C:\\Users\\duals\\Documents\\GitHub\\Data-Science-2018\\Projeto 03\n"
     ]
    }
   ],
   "source": [
    "print('Esperamos trabalhar no diretório')\n",
    "print(os.getcwd())"
   ]
  },
  {
   "cell_type": "markdown",
   "metadata": {},
   "source": [
    "## Verificando Dimensões dos arquivos:"
   ]
  },
  {
   "cell_type": "code",
   "execution_count": 5,
   "metadata": {
    "scrolled": true
   },
   "outputs": [],
   "source": [
    "def thousand_dot(number):\n",
    "    \"\"\"Convert int value in a string with dots as thousands separator\"\"\"\n",
    "    lista = []\n",
    "    count = 0\n",
    "    for digit in (str(number))[::-1]:\n",
    "        lista.append(digit)\n",
    "        count +=1\n",
    "        if count == 3:\n",
    "            lista.append('.')\n",
    "            count = 0\n",
    "    lista.reverse\n",
    "    elements = ''.join(lista)[::-1]\n",
    "    return elements\n",
    "\n",
    "def dimension_calculator(filename, chunksize=1000, sep=','):\n",
    "    \"\"\"Counts the amount of rowns and columns on a .csv file\"\"\"\n",
    "    # Raising warning:\n",
    "    warnings.warn(\"\\n\\nWARNING! Depending on chunksize value and/or file size this process might take time to compute\")\n",
    "    # Parameters:\n",
    "    rows = 0\n",
    "    columns_labels = ''\n",
    "    count = True\n",
    "    # Process progress exibited to user:\n",
    "    print(\"Processing...\")\n",
    "    # Opening database and counting values:\n",
    "    for chunk in pd.read_csv(filename, chunksize=chunksize, encoding='latin-1', header=0, sep=sep):\n",
    "        rows += len(chunk['NU_INSCRICAO'])\n",
    "        if count == True:\n",
    "            columns_labels = chunk.columns.values\n",
    "            count = False\n",
    "            \n",
    "    # Process progress exibited to user:\n",
    "    print(\"Process complete\\n\")   \n",
    "    print(\"Number of rows: {}\".format(thousand_dot(rows)))\n",
    "    print(\"Number of columns: {}\".format(len(columns_labels)))\n",
    "    print(\"Number of elements: {}\".format(thousand_dot(rows*len(columns_labels))))"
   ]
  },
  {
   "cell_type": "markdown",
   "metadata": {},
   "source": [
    "* **2015**"
   ]
  },
  {
   "cell_type": "code",
   "execution_count": 6,
   "metadata": {},
   "outputs": [
    {
     "name": "stderr",
     "output_type": "stream",
     "text": [
      "C:\\Users\\duals\\AppData\\Local\\Continuum\\anaconda3\\lib\\site-packages\\ipykernel_launcher.py:18: UserWarning: \n",
      "\n",
      "WARNING! Depending on chunksize value and/or file size this process might take time to compute\n"
     ]
    },
    {
     "name": "stdout",
     "output_type": "stream",
     "text": [
      "Processing...\n",
      "Process complete\n",
      "\n",
      "Number of rows: 7.746.427\n",
      "Number of columns: 166\n",
      "Number of elements: 1.285.906.882\n"
     ]
    }
   ],
   "source": [
    "dimension_calculator(\"MICRODADOS_ENEM_2015.csv\")"
   ]
  },
  {
   "cell_type": "markdown",
   "metadata": {},
   "source": [
    "* **2016**"
   ]
  },
  {
   "cell_type": "code",
   "execution_count": 8,
   "metadata": {
    "scrolled": true
   },
   "outputs": [
    {
     "name": "stderr",
     "output_type": "stream",
     "text": [
      "C:\\Users\\duals\\AppData\\Local\\Continuum\\anaconda3\\lib\\site-packages\\ipykernel_launcher.py:18: UserWarning: \n",
      "\n",
      "WARNING! Depending on chunksize value and/or file size this process might take time to compute\n"
     ]
    },
    {
     "name": "stdout",
     "output_type": "stream",
     "text": [
      "Processing...\n",
      "Process complete\n",
      "\n",
      "Number of rows: 8.627.367\n",
      "Number of columns: 166\n",
      "Number of elements: 1.432.142.922\n"
     ]
    }
   ],
   "source": [
    "dimension_calculator(\"MICRODADOS_ENEM_2016.csv\", sep=';')"
   ]
  },
  {
   "cell_type": "markdown",
   "metadata": {},
   "source": [
    "## Separando parte do DataFrame:"
   ]
  },
  {
   "cell_type": "markdown",
   "metadata": {},
   "source": [
    "Selecionamos uma parte da base de dados (100.000 rows de dados) para análise em escala reduzida.\n",
    "\n",
    "Após todas as filtragens e cálculos forem concluídos, todo o processo será refeito para cada `chunk`, podendo aplicar as implementações para todo a base de dados muito mais rápido, sem a necessidade de carregar o arquivo completo de uma vez (o que pode ser impossível, pois, em alguns casos, demanda mais processamento e memória que o computador possui)"
   ]
  },
  {
   "cell_type": "code",
   "execution_count": 22,
   "metadata": {},
   "outputs": [],
   "source": [
    "def save_df(to_open_filename, to_save_filename, iteration_times, chunksize=1000):\n",
    "    # Raising warning:\n",
    "    warnings.warn(\"\\n\\nWARNING! Depending on chunksize value and/or file size this process might take time to compute\")\n",
    "    \n",
    "    # Counters and Status Controllers:\n",
    "    chunkcounter = 0\n",
    "    shapecounter = [0, 0]\n",
    "    add_header = True\n",
    "    \n",
    "    # Process progress exibited to user:\n",
    "    print(\"Opening file...\")\n",
    "    \n",
    "    # Loading command to export and append dataframes to a .xlsx file (also creates a new one, if it doesn't exist):\n",
    "    writer = pd.ExcelWriter(to_save_filename, engine='openpyxl')\n",
    "        \n",
    "    # Loading database in chunks and defining chunk size, correct enconding and reading configs:\n",
    "    for chunk in pd.read_csv(to_open_filename, chunksize=chunksize, encoding='latin-1', header=0, sep=','):\n",
    "   \n",
    "        if chunkcounter < iteration_times:\n",
    "            # Selecting relevant parameters to ignore useless data:\n",
    "            chunk = chunk[(chunk[\"TP_PRESENCA_CN\"] == 1) & (chunk[\"TP_PRESENCA_CH\"] == 1) & \n",
    "                          (chunk[\"TP_PRESENCA_LC\"] == 1) & (chunk[\"TP_PRESENCA_MT\"] == 1) & \n",
    "                          (chunk[\"TP_STATUS_REDACAO\"] == 1) & (chunk[\"IN_TREINEIRO\"] == 0)]\n",
    "            \n",
    "            # Selecting relevant parameters for fitering data:\n",
    "            chunk = chunk.loc[:, [\"SG_UF_RESIDENCIA\", \"NU_IDADE\", \"TP_SEXO\", \"TP_ESTADO_CIIVL\", \"TP_COR_RACA\", \"TP_ST_CONCLUSAO\", \n",
    "                                  \"TP_ESCOLA\", \"NU_NOTA_CN\", \"NU_NOTA_CH\", \"NU_NOTA_LC\", \"NU_NOTA_MT\", \"NU_NOTA_REDACAO\", \"Q006\"]]\n",
    "\n",
    "            # Exporting dataframe to a new .xlsx file under existent data:\n",
    "            chunk.to_excel(writer, sheet_name='Sheet1', index=False, startrow=shapecounter[0],startcol=0, header=add_header)\n",
    "            \n",
    "            # Counters update and progress of the process exhibited to the user:\n",
    "            chunkcounter += 1\n",
    "            shapecounter[0] += chunk.shape[0]\n",
    "            shapecounter[1] = chunk.shape[1]\n",
    "            print(\"Processing... ({}/{}) - File current size:({} rows, {} columns)\".format(chunkcounter, iteration_times, shapecounter[0], shapecounter[1]))\n",
    "\n",
    "        else:\n",
    "            # Process progress exibited to user and breaking loop:\n",
    "            print(\"Process complete\")\n",
    "            break\n",
    "            \n",
    "        # Counter update (avoid previous chunk's last row to be overwritten):\n",
    "        if chunkcounter == 1:\n",
    "            shapecounter[0] += 1\n",
    "        # Status update (avoid header to be added again):\n",
    "        add_header = False\n",
    "        \n",
    "    # Saving new .xlsx file:\n",
    "    writer.save()"
   ]
  },
  {
   "cell_type": "code",
   "execution_count": 28,
   "metadata": {
    "scrolled": true
   },
   "outputs": [
    {
     "name": "stderr",
     "output_type": "stream",
     "text": [
      "C:\\Users\\duals\\AppData\\Local\\Continuum\\anaconda3\\lib\\site-packages\\ipykernel_launcher.py:3: UserWarning: \n",
      "\n",
      "WARNING! Depending on chunksize value and/or file size this process might take time to compute\n",
      "  This is separate from the ipykernel package so we can avoid doing imports until\n"
     ]
    },
    {
     "name": "stdout",
     "output_type": "stream",
     "text": [
      "Opening file...\n"
     ]
    },
    {
     "name": "stderr",
     "output_type": "stream",
     "text": [
      "C:\\Users\\duals\\AppData\\Local\\Continuum\\anaconda3\\lib\\site-packages\\ipykernel_launcher.py:26: FutureWarning: \n",
      "Passing list-likes to .loc or [] with any missing label will raise\n",
      "KeyError in the future, you can use .reindex() as an alternative.\n",
      "\n",
      "See the documentation here:\n",
      "http://pandas.pydata.org/pandas-docs/stable/indexing.html#deprecate-loc-reindex-listlike\n",
      "C:\\Users\\duals\\AppData\\Local\\Continuum\\anaconda3\\lib\\site-packages\\pandas\\core\\indexing.py:1367: FutureWarning: \n",
      "Passing list-likes to .loc or [] with any missing label will raise\n",
      "KeyError in the future, you can use .reindex() as an alternative.\n",
      "\n",
      "See the documentation here:\n",
      "http://pandas.pydata.org/pandas-docs/stable/indexing.html#deprecate-loc-reindex-listlike\n",
      "  return self._getitem_tuple(key)\n"
     ]
    },
    {
     "name": "stdout",
     "output_type": "stream",
     "text": [
      "Processing... (1/775) - File current size:(7039 rows, 13 columns)\n",
      "Processing... (2/775) - File current size:(14315 rows, 13 columns)\n",
      "Processing... (3/775) - File current size:(21595 rows, 13 columns)\n",
      "Processing... (4/775) - File current size:(28801 rows, 13 columns)\n",
      "Processing... (5/775) - File current size:(35977 rows, 13 columns)\n",
      "Processing... (6/775) - File current size:(43208 rows, 13 columns)\n",
      "Processing... (7/775) - File current size:(50364 rows, 13 columns)\n",
      "Processing... (8/775) - File current size:(57599 rows, 13 columns)\n",
      "Processing... (9/775) - File current size:(64692 rows, 13 columns)\n",
      "Processing... (10/775) - File current size:(71947 rows, 13 columns)\n",
      "Processing... (11/775) - File current size:(79162 rows, 13 columns)\n",
      "Processing... (12/775) - File current size:(86411 rows, 13 columns)\n",
      "Processing... (13/775) - File current size:(93620 rows, 13 columns)\n",
      "Processing... (14/775) - File current size:(100810 rows, 13 columns)\n",
      "Processing... (15/775) - File current size:(107944 rows, 13 columns)\n",
      "Processing... (16/775) - File current size:(115164 rows, 13 columns)\n",
      "Processing... (17/775) - File current size:(122462 rows, 13 columns)\n",
      "Processing... (18/775) - File current size:(129606 rows, 13 columns)\n",
      "Processing... (19/775) - File current size:(136911 rows, 13 columns)\n",
      "Processing... (20/775) - File current size:(144046 rows, 13 columns)\n",
      "Processing... (21/775) - File current size:(151203 rows, 13 columns)\n",
      "Processing... (22/775) - File current size:(158338 rows, 13 columns)\n",
      "Processing... (23/775) - File current size:(165496 rows, 13 columns)\n",
      "Processing... (24/775) - File current size:(172568 rows, 13 columns)\n",
      "Processing... (25/775) - File current size:(179531 rows, 13 columns)\n",
      "Processing... (26/775) - File current size:(186780 rows, 13 columns)\n",
      "Processing... (27/775) - File current size:(193949 rows, 13 columns)\n",
      "Processing... (28/775) - File current size:(201164 rows, 13 columns)\n",
      "Processing... (29/775) - File current size:(208337 rows, 13 columns)\n",
      "Processing... (30/775) - File current size:(215504 rows, 13 columns)\n",
      "Processing... (31/775) - File current size:(222683 rows, 13 columns)\n",
      "Processing... (32/775) - File current size:(229890 rows, 13 columns)\n",
      "Processing... (33/775) - File current size:(237134 rows, 13 columns)\n",
      "Processing... (34/775) - File current size:(244062 rows, 13 columns)\n",
      "Processing... (35/775) - File current size:(251189 rows, 13 columns)\n",
      "Processing... (36/775) - File current size:(258230 rows, 13 columns)\n",
      "Processing... (37/775) - File current size:(265379 rows, 13 columns)\n",
      "Processing... (38/775) - File current size:(272522 rows, 13 columns)\n",
      "Processing... (39/775) - File current size:(279693 rows, 13 columns)\n",
      "Processing... (40/775) - File current size:(286833 rows, 13 columns)\n",
      "Processing... (41/775) - File current size:(294029 rows, 13 columns)\n",
      "Processing... (42/775) - File current size:(301217 rows, 13 columns)\n",
      "Processing... (43/775) - File current size:(308499 rows, 13 columns)\n",
      "Processing... (44/775) - File current size:(315802 rows, 13 columns)\n",
      "Processing... (45/775) - File current size:(323201 rows, 13 columns)\n",
      "Processing... (46/775) - File current size:(330469 rows, 13 columns)\n",
      "Processing... (47/775) - File current size:(337814 rows, 13 columns)\n",
      "Processing... (48/775) - File current size:(345117 rows, 13 columns)\n",
      "Processing... (49/775) - File current size:(352315 rows, 13 columns)\n",
      "Processing... (50/775) - File current size:(359516 rows, 13 columns)\n",
      "Processing... (51/775) - File current size:(366782 rows, 13 columns)\n",
      "Processing... (52/775) - File current size:(374026 rows, 13 columns)\n",
      "Processing... (53/775) - File current size:(381237 rows, 13 columns)\n",
      "Processing... (54/775) - File current size:(388398 rows, 13 columns)\n",
      "Processing... (55/775) - File current size:(395595 rows, 13 columns)\n",
      "Processing... (56/775) - File current size:(402931 rows, 13 columns)\n",
      "Processing... (57/775) - File current size:(410122 rows, 13 columns)\n",
      "Processing... (58/775) - File current size:(417268 rows, 13 columns)\n",
      "Processing... (59/775) - File current size:(424246 rows, 13 columns)\n",
      "Processing... (60/775) - File current size:(431343 rows, 13 columns)\n",
      "Processing... (61/775) - File current size:(439069 rows, 13 columns)\n",
      "Processing... (62/775) - File current size:(446770 rows, 13 columns)\n",
      "Processing... (63/775) - File current size:(454607 rows, 13 columns)\n",
      "Processing... (64/775) - File current size:(462353 rows, 13 columns)\n",
      "Processing... (65/775) - File current size:(470076 rows, 13 columns)\n",
      "Processing... (66/775) - File current size:(477771 rows, 13 columns)\n",
      "Processing... (67/775) - File current size:(485339 rows, 13 columns)\n",
      "Processing... (68/775) - File current size:(492933 rows, 13 columns)\n",
      "Processing... (69/775) - File current size:(500398 rows, 13 columns)\n",
      "Processing... (70/775) - File current size:(507851 rows, 13 columns)\n",
      "Processing... (71/775) - File current size:(515153 rows, 13 columns)\n",
      "Processing... (72/775) - File current size:(522514 rows, 13 columns)\n",
      "Processing... (73/775) - File current size:(529750 rows, 13 columns)\n",
      "Processing... (74/775) - File current size:(537054 rows, 13 columns)\n",
      "Processing... (75/775) - File current size:(544255 rows, 13 columns)\n",
      "Processing... (76/775) - File current size:(551536 rows, 13 columns)\n",
      "Processing... (77/775) - File current size:(558871 rows, 13 columns)\n",
      "Processing... (78/775) - File current size:(566178 rows, 13 columns)\n",
      "Processing... (79/775) - File current size:(573444 rows, 13 columns)\n",
      "Processing... (80/775) - File current size:(580684 rows, 13 columns)\n",
      "Processing... (81/775) - File current size:(587845 rows, 13 columns)\n",
      "Processing... (82/775) - File current size:(595105 rows, 13 columns)\n",
      "Processing... (83/775) - File current size:(602292 rows, 13 columns)\n",
      "Processing... (84/775) - File current size:(609551 rows, 13 columns)\n",
      "Processing... (85/775) - File current size:(616723 rows, 13 columns)\n",
      "Processing... (86/775) - File current size:(624039 rows, 13 columns)\n",
      "Processing... (87/775) - File current size:(631264 rows, 13 columns)\n",
      "Processing... (88/775) - File current size:(638503 rows, 13 columns)\n",
      "Processing... (89/775) - File current size:(645743 rows, 13 columns)\n",
      "Processing... (90/775) - File current size:(653038 rows, 13 columns)\n",
      "Processing... (91/775) - File current size:(660345 rows, 13 columns)\n",
      "Processing... (92/775) - File current size:(667483 rows, 13 columns)\n",
      "Processing... (93/775) - File current size:(674643 rows, 13 columns)\n",
      "Processing... (94/775) - File current size:(681724 rows, 13 columns)\n",
      "Processing... (95/775) - File current size:(688814 rows, 13 columns)\n",
      "Processing... (96/775) - File current size:(695900 rows, 13 columns)\n",
      "Processing... (97/775) - File current size:(702975 rows, 13 columns)\n",
      "Processing... (98/775) - File current size:(709938 rows, 13 columns)\n",
      "Processing... (99/775) - File current size:(716746 rows, 13 columns)\n",
      "Processing... (100/775) - File current size:(723613 rows, 13 columns)\n",
      "Processing... (101/775) - File current size:(730436 rows, 13 columns)\n",
      "Processing... (102/775) - File current size:(737332 rows, 13 columns)\n",
      "Processing... (103/775) - File current size:(744429 rows, 13 columns)\n",
      "Processing... (104/775) - File current size:(751456 rows, 13 columns)\n",
      "Processing... (105/775) - File current size:(758517 rows, 13 columns)\n",
      "Processing... (106/775) - File current size:(765551 rows, 13 columns)\n",
      "Processing... (107/775) - File current size:(772549 rows, 13 columns)\n",
      "Processing... (108/775) - File current size:(779611 rows, 13 columns)\n",
      "Processing... (109/775) - File current size:(786724 rows, 13 columns)\n",
      "Processing... (110/775) - File current size:(793843 rows, 13 columns)\n",
      "Processing... (111/775) - File current size:(800921 rows, 13 columns)\n",
      "Processing... (112/775) - File current size:(808048 rows, 13 columns)\n",
      "Processing... (113/775) - File current size:(815222 rows, 13 columns)\n",
      "Processing... (114/775) - File current size:(822320 rows, 13 columns)\n",
      "Processing... (115/775) - File current size:(829459 rows, 13 columns)\n",
      "Processing... (116/775) - File current size:(836676 rows, 13 columns)\n",
      "Processing... (117/775) - File current size:(843848 rows, 13 columns)\n",
      "Processing... (118/775) - File current size:(851004 rows, 13 columns)\n",
      "Processing... (119/775) - File current size:(858154 rows, 13 columns)\n"
     ]
    },
    {
     "name": "stdout",
     "output_type": "stream",
     "text": [
      "Processing... (120/775) - File current size:(865307 rows, 13 columns)\n",
      "Processing... (121/775) - File current size:(872578 rows, 13 columns)\n",
      "Processing... (122/775) - File current size:(879786 rows, 13 columns)\n",
      "Processing... (123/775) - File current size:(887099 rows, 13 columns)\n",
      "Processing... (124/775) - File current size:(894492 rows, 13 columns)\n",
      "Processing... (125/775) - File current size:(901872 rows, 13 columns)\n",
      "Processing... (126/775) - File current size:(909396 rows, 13 columns)\n",
      "Processing... (127/775) - File current size:(916821 rows, 13 columns)\n",
      "Processing... (128/775) - File current size:(924364 rows, 13 columns)\n",
      "Processing... (129/775) - File current size:(931938 rows, 13 columns)\n",
      "Processing... (130/775) - File current size:(939549 rows, 13 columns)\n",
      "Processing... (131/775) - File current size:(947095 rows, 13 columns)\n",
      "Processing... (132/775) - File current size:(954570 rows, 13 columns)\n",
      "Processing... (133/775) - File current size:(962029 rows, 13 columns)\n",
      "Processing... (134/775) - File current size:(969421 rows, 13 columns)\n",
      "Processing... (135/775) - File current size:(976729 rows, 13 columns)\n",
      "Processing... (136/775) - File current size:(983913 rows, 13 columns)\n",
      "Processing... (137/775) - File current size:(991084 rows, 13 columns)\n",
      "Processing... (138/775) - File current size:(998202 rows, 13 columns)\n",
      "Processing... (139/775) - File current size:(1005279 rows, 13 columns)\n",
      "Processing... (140/775) - File current size:(1012439 rows, 13 columns)\n",
      "Processing... (141/775) - File current size:(1019532 rows, 13 columns)\n",
      "Processing... (142/775) - File current size:(1026676 rows, 13 columns)\n",
      "Processing... (143/775) - File current size:(1033713 rows, 13 columns)\n",
      "Processing... (144/775) - File current size:(1040818 rows, 13 columns)\n",
      "Processing... (145/775) - File current size:(1047794 rows, 13 columns)\n",
      "Processing... (146/775) - File current size:(1054767 rows, 13 columns)\n",
      "Processing... (147/775) - File current size:(1061744 rows, 13 columns)\n",
      "Processing... (148/775) - File current size:(1068740 rows, 13 columns)\n",
      "Processing... (149/775) - File current size:(1075805 rows, 13 columns)\n",
      "Processing... (150/775) - File current size:(1082799 rows, 13 columns)\n",
      "Processing... (151/775) - File current size:(1089735 rows, 13 columns)\n",
      "Processing... (152/775) - File current size:(1096667 rows, 13 columns)\n",
      "Processing... (153/775) - File current size:(1103625 rows, 13 columns)\n",
      "Processing... (154/775) - File current size:(1110635 rows, 13 columns)\n",
      "Processing... (155/775) - File current size:(1117644 rows, 13 columns)\n",
      "Processing... (156/775) - File current size:(1124627 rows, 13 columns)\n",
      "Processing... (157/775) - File current size:(1131526 rows, 13 columns)\n",
      "Processing... (158/775) - File current size:(1138482 rows, 13 columns)\n",
      "Processing... (159/775) - File current size:(1145355 rows, 13 columns)\n",
      "Processing... (160/775) - File current size:(1152189 rows, 13 columns)\n",
      "Processing... (161/775) - File current size:(1159160 rows, 13 columns)\n",
      "Processing... (162/775) - File current size:(1166058 rows, 13 columns)\n",
      "Processing... (163/775) - File current size:(1172947 rows, 13 columns)\n",
      "Processing... (164/775) - File current size:(1179903 rows, 13 columns)\n",
      "Processing... (165/775) - File current size:(1186807 rows, 13 columns)\n",
      "Processing... (166/775) - File current size:(1193692 rows, 13 columns)\n",
      "Processing... (167/775) - File current size:(1200638 rows, 13 columns)\n",
      "Processing... (168/775) - File current size:(1207599 rows, 13 columns)\n",
      "Processing... (169/775) - File current size:(1214474 rows, 13 columns)\n",
      "Processing... (170/775) - File current size:(1221327 rows, 13 columns)\n",
      "Processing... (171/775) - File current size:(1228199 rows, 13 columns)\n",
      "Processing... (172/775) - File current size:(1235123 rows, 13 columns)\n",
      "Processing... (173/775) - File current size:(1241946 rows, 13 columns)\n",
      "Processing... (174/775) - File current size:(1248865 rows, 13 columns)\n",
      "Processing... (175/775) - File current size:(1255656 rows, 13 columns)\n",
      "Processing... (176/775) - File current size:(1262473 rows, 13 columns)\n",
      "Processing... (177/775) - File current size:(1269277 rows, 13 columns)\n",
      "Processing... (178/775) - File current size:(1276098 rows, 13 columns)\n",
      "Processing... (179/775) - File current size:(1283007 rows, 13 columns)\n",
      "Processing... (180/775) - File current size:(1289748 rows, 13 columns)\n",
      "Processing... (181/775) - File current size:(1296600 rows, 13 columns)\n",
      "Processing... (182/775) - File current size:(1303466 rows, 13 columns)\n",
      "Processing... (183/775) - File current size:(1310298 rows, 13 columns)\n",
      "Processing... (184/775) - File current size:(1317130 rows, 13 columns)\n",
      "Processing... (185/775) - File current size:(1323960 rows, 13 columns)\n",
      "Processing... (186/775) - File current size:(1330728 rows, 13 columns)\n",
      "Processing... (187/775) - File current size:(1337436 rows, 13 columns)\n",
      "Processing... (188/775) - File current size:(1344189 rows, 13 columns)\n",
      "Processing... (189/775) - File current size:(1350935 rows, 13 columns)\n",
      "Processing... (190/775) - File current size:(1357660 rows, 13 columns)\n",
      "Processing... (191/775) - File current size:(1364393 rows, 13 columns)\n",
      "Processing... (192/775) - File current size:(1371158 rows, 13 columns)\n",
      "Processing... (193/775) - File current size:(1377988 rows, 13 columns)\n",
      "Processing... (194/775) - File current size:(1384799 rows, 13 columns)\n",
      "Processing... (195/775) - File current size:(1391529 rows, 13 columns)\n",
      "Processing... (196/775) - File current size:(1398265 rows, 13 columns)\n",
      "Processing... (197/775) - File current size:(1404975 rows, 13 columns)\n",
      "Processing... (198/775) - File current size:(1411712 rows, 13 columns)\n",
      "Processing... (199/775) - File current size:(1418518 rows, 13 columns)\n",
      "Processing... (200/775) - File current size:(1425322 rows, 13 columns)\n",
      "Processing... (201/775) - File current size:(1432105 rows, 13 columns)\n",
      "Processing... (202/775) - File current size:(1438887 rows, 13 columns)\n",
      "Processing... (203/775) - File current size:(1445638 rows, 13 columns)\n",
      "Processing... (204/775) - File current size:(1452387 rows, 13 columns)\n",
      "Processing... (205/775) - File current size:(1459096 rows, 13 columns)\n",
      "Processing... (206/775) - File current size:(1465808 rows, 13 columns)\n",
      "Processing... (207/775) - File current size:(1472599 rows, 13 columns)\n",
      "Processing... (208/775) - File current size:(1479289 rows, 13 columns)\n",
      "Processing... (209/775) - File current size:(1486026 rows, 13 columns)\n",
      "Processing... (210/775) - File current size:(1492780 rows, 13 columns)\n",
      "Processing... (211/775) - File current size:(1499585 rows, 13 columns)\n",
      "Processing... (212/775) - File current size:(1506381 rows, 13 columns)\n",
      "Processing... (213/775) - File current size:(1513383 rows, 13 columns)\n",
      "Processing... (214/775) - File current size:(1520443 rows, 13 columns)\n",
      "Processing... (215/775) - File current size:(1527629 rows, 13 columns)\n",
      "Processing... (216/775) - File current size:(1534837 rows, 13 columns)\n",
      "Processing... (217/775) - File current size:(1542119 rows, 13 columns)\n",
      "Processing... (218/775) - File current size:(1549368 rows, 13 columns)\n",
      "Processing... (219/775) - File current size:(1556520 rows, 13 columns)\n",
      "Processing... (220/775) - File current size:(1563375 rows, 13 columns)\n",
      "Processing... (221/775) - File current size:(1570038 rows, 13 columns)\n",
      "Processing... (222/775) - File current size:(1576609 rows, 13 columns)\n",
      "Processing... (223/775) - File current size:(1583271 rows, 13 columns)\n",
      "Processing... (224/775) - File current size:(1589968 rows, 13 columns)\n",
      "Processing... (225/775) - File current size:(1596657 rows, 13 columns)\n",
      "Processing... (226/775) - File current size:(1603292 rows, 13 columns)\n",
      "Processing... (227/775) - File current size:(1609964 rows, 13 columns)\n",
      "Processing... (228/775) - File current size:(1616669 rows, 13 columns)\n",
      "Processing... (229/775) - File current size:(1623234 rows, 13 columns)\n",
      "Processing... (230/775) - File current size:(1629874 rows, 13 columns)\n",
      "Processing... (231/775) - File current size:(1636543 rows, 13 columns)\n",
      "Processing... (232/775) - File current size:(1643230 rows, 13 columns)\n",
      "Processing... (233/775) - File current size:(1649905 rows, 13 columns)\n",
      "Processing... (234/775) - File current size:(1656592 rows, 13 columns)\n",
      "Processing... (235/775) - File current size:(1663172 rows, 13 columns)\n"
     ]
    },
    {
     "name": "stdout",
     "output_type": "stream",
     "text": [
      "Processing... (236/775) - File current size:(1669783 rows, 13 columns)\n",
      "Processing... (237/775) - File current size:(1676362 rows, 13 columns)\n",
      "Processing... (238/775) - File current size:(1683020 rows, 13 columns)\n",
      "Processing... (239/775) - File current size:(1689614 rows, 13 columns)\n",
      "Processing... (240/775) - File current size:(1696175 rows, 13 columns)\n",
      "Processing... (241/775) - File current size:(1702673 rows, 13 columns)\n",
      "Processing... (242/775) - File current size:(1709097 rows, 13 columns)\n",
      "Processing... (243/775) - File current size:(1715527 rows, 13 columns)\n",
      "Processing... (244/775) - File current size:(1722052 rows, 13 columns)\n",
      "Processing... (245/775) - File current size:(1728617 rows, 13 columns)\n",
      "Processing... (246/775) - File current size:(1735217 rows, 13 columns)\n",
      "Processing... (247/775) - File current size:(1741792 rows, 13 columns)\n",
      "Processing... (248/775) - File current size:(1748452 rows, 13 columns)\n",
      "Processing... (249/775) - File current size:(1755020 rows, 13 columns)\n",
      "Processing... (250/775) - File current size:(1761740 rows, 13 columns)\n",
      "Processing... (251/775) - File current size:(1768439 rows, 13 columns)\n",
      "Processing... (252/775) - File current size:(1775087 rows, 13 columns)\n",
      "Processing... (253/775) - File current size:(1781749 rows, 13 columns)\n",
      "Processing... (254/775) - File current size:(1788302 rows, 13 columns)\n",
      "Processing... (255/775) - File current size:(1794956 rows, 13 columns)\n",
      "Processing... (256/775) - File current size:(1801707 rows, 13 columns)\n",
      "Processing... (257/775) - File current size:(1808438 rows, 13 columns)\n",
      "Processing... (258/775) - File current size:(1815259 rows, 13 columns)\n",
      "Processing... (259/775) - File current size:(1822119 rows, 13 columns)\n",
      "Processing... (260/775) - File current size:(1829227 rows, 13 columns)\n",
      "Processing... (261/775) - File current size:(1836254 rows, 13 columns)\n",
      "Processing... (262/775) - File current size:(1843067 rows, 13 columns)\n",
      "Processing... (263/775) - File current size:(1849752 rows, 13 columns)\n",
      "Processing... (264/775) - File current size:(1856516 rows, 13 columns)\n",
      "Processing... (265/775) - File current size:(1863131 rows, 13 columns)\n",
      "Processing... (266/775) - File current size:(1869907 rows, 13 columns)\n",
      "Processing... (267/775) - File current size:(1876620 rows, 13 columns)\n",
      "Processing... (268/775) - File current size:(1883342 rows, 13 columns)\n",
      "Processing... (269/775) - File current size:(1890050 rows, 13 columns)\n",
      "Processing... (270/775) - File current size:(1896816 rows, 13 columns)\n",
      "Processing... (271/775) - File current size:(1903583 rows, 13 columns)\n",
      "Processing... (272/775) - File current size:(1910293 rows, 13 columns)\n",
      "Processing... (273/775) - File current size:(1917006 rows, 13 columns)\n",
      "Processing... (274/775) - File current size:(1923699 rows, 13 columns)\n",
      "Processing... (275/775) - File current size:(1930352 rows, 13 columns)\n",
      "Processing... (276/775) - File current size:(1937131 rows, 13 columns)\n",
      "Processing... (277/775) - File current size:(1943832 rows, 13 columns)\n",
      "Processing... (278/775) - File current size:(1950512 rows, 13 columns)\n",
      "Processing... (279/775) - File current size:(1957219 rows, 13 columns)\n",
      "Processing... (280/775) - File current size:(1963879 rows, 13 columns)\n",
      "Processing... (281/775) - File current size:(1970623 rows, 13 columns)\n",
      "Processing... (282/775) - File current size:(1977229 rows, 13 columns)\n",
      "Processing... (283/775) - File current size:(1983885 rows, 13 columns)\n",
      "Processing... (284/775) - File current size:(1990600 rows, 13 columns)\n",
      "Processing... (285/775) - File current size:(1997317 rows, 13 columns)\n",
      "Processing... (286/775) - File current size:(2004121 rows, 13 columns)\n",
      "Processing... (287/775) - File current size:(2010885 rows, 13 columns)\n",
      "Processing... (288/775) - File current size:(2017818 rows, 13 columns)\n",
      "Processing... (289/775) - File current size:(2024840 rows, 13 columns)\n",
      "Processing... (290/775) - File current size:(2031616 rows, 13 columns)\n",
      "Processing... (291/775) - File current size:(2038135 rows, 13 columns)\n",
      "Processing... (292/775) - File current size:(2044789 rows, 13 columns)\n",
      "Processing... (293/775) - File current size:(2051388 rows, 13 columns)\n",
      "Processing... (294/775) - File current size:(2057944 rows, 13 columns)\n",
      "Processing... (295/775) - File current size:(2064465 rows, 13 columns)\n",
      "Processing... (296/775) - File current size:(2070984 rows, 13 columns)\n",
      "Processing... (297/775) - File current size:(2077639 rows, 13 columns)\n",
      "Processing... (298/775) - File current size:(2084204 rows, 13 columns)\n",
      "Processing... (299/775) - File current size:(2090794 rows, 13 columns)\n",
      "Processing... (300/775) - File current size:(2097388 rows, 13 columns)\n"
     ]
    },
    {
     "name": "stderr",
     "output_type": "stream",
     "text": [
      "ERROR:root:Internal Python error in the inspect module.\n",
      "Below is the traceback from this internal error.\n",
      "\n"
     ]
    },
    {
     "name": "stdout",
     "output_type": "stream",
     "text": [
      "Traceback (most recent call last):\n",
      "  File \"C:\\Users\\duals\\AppData\\Local\\Continuum\\anaconda3\\lib\\site-packages\\IPython\\core\\interactiveshell.py\", line 2910, in run_code\n",
      "    exec(code_obj, self.user_global_ns, self.user_ns)\n",
      "  File \"<ipython-input-28-fc09990f42cf>\", line 2, in <module>\n",
      "    save_df('MICRODADOS_ENEM_2015.csv','test8_dataframe.xlsx', chunksize=10000, iteration_times=775)\n",
      "  File \"<ipython-input-22-67b760d05dd5>\", line 29, in save_df\n",
      "    chunk.to_excel(writer, sheet_name='Sheet1', index=False, startrow=shapecounter[0],startcol=0, header=add_header)\n",
      "  File \"C:\\Users\\duals\\AppData\\Local\\Continuum\\anaconda3\\lib\\site-packages\\pandas\\core\\frame.py\", line 1545, in to_excel\n",
      "    engine=engine)\n",
      "  File \"C:\\Users\\duals\\AppData\\Local\\Continuum\\anaconda3\\lib\\site-packages\\pandas\\io\\formats\\excel.py\", line 649, in write\n",
      "    freeze_panes=freeze_panes)\n",
      "  File \"C:\\Users\\duals\\AppData\\Local\\Continuum\\anaconda3\\lib\\site-packages\\pandas\\io\\excel.py\", line 1402, in write_cells\n",
      "    column=startcol + cell.col + 1\n",
      "  File \"C:\\Users\\duals\\AppData\\Local\\Continuum\\anaconda3\\lib\\site-packages\\openpyxl\\worksheet\\worksheet.py\", line 309, in cell\n",
      "    cell = self._get_cell(row, column)\n",
      "  File \"C:\\Users\\duals\\AppData\\Local\\Continuum\\anaconda3\\lib\\site-packages\\openpyxl\\worksheet\\worksheet.py\", line 323, in _get_cell\n",
      "    cell = Cell(self, row=row, col_idx=column)\n",
      "  File \"C:\\Users\\duals\\AppData\\Local\\Continuum\\anaconda3\\lib\\site-packages\\openpyxl\\cell\\cell.py\", line 106, in __init__\n",
      "    def __init__(self, worksheet, column=None, row=None, value=None, col_idx=None, style_array=None):\n",
      "KeyboardInterrupt\n",
      "\n",
      "During handling of the above exception, another exception occurred:\n",
      "\n",
      "Traceback (most recent call last):\n",
      "  File \"C:\\Users\\duals\\AppData\\Local\\Continuum\\anaconda3\\lib\\site-packages\\IPython\\core\\interactiveshell.py\", line 1828, in showtraceback\n",
      "    stb = value._render_traceback_()\n",
      "AttributeError: 'KeyboardInterrupt' object has no attribute '_render_traceback_'\n",
      "\n",
      "During handling of the above exception, another exception occurred:\n",
      "\n",
      "Traceback (most recent call last):\n",
      "  File \"C:\\Users\\duals\\AppData\\Local\\Continuum\\anaconda3\\lib\\site-packages\\IPython\\core\\ultratb.py\", line 1090, in get_records\n",
      "    return _fixed_getinnerframes(etb, number_of_lines_of_context, tb_offset)\n",
      "  File \"C:\\Users\\duals\\AppData\\Local\\Continuum\\anaconda3\\lib\\site-packages\\IPython\\core\\ultratb.py\", line 311, in wrapped\n",
      "    return f(*args, **kwargs)\n",
      "  File \"C:\\Users\\duals\\AppData\\Local\\Continuum\\anaconda3\\lib\\site-packages\\IPython\\core\\ultratb.py\", line 345, in _fixed_getinnerframes\n",
      "    records = fix_frame_records_filenames(inspect.getinnerframes(etb, context))\n",
      "  File \"C:\\Users\\duals\\AppData\\Local\\Continuum\\anaconda3\\lib\\inspect.py\", line 1483, in getinnerframes\n",
      "    frameinfo = (tb.tb_frame,) + getframeinfo(tb, context)\n",
      "  File \"C:\\Users\\duals\\AppData\\Local\\Continuum\\anaconda3\\lib\\inspect.py\", line 1445, in getframeinfo\n",
      "    lines, lnum = findsource(frame)\n",
      "  File \"C:\\Users\\duals\\AppData\\Local\\Continuum\\anaconda3\\lib\\site-packages\\IPython\\core\\ultratb.py\", line 177, in findsource\n",
      "    lines = linecache.getlines(file, globals_dict)\n",
      "  File \"C:\\Users\\duals\\AppData\\Local\\Continuum\\anaconda3\\lib\\linecache.py\", line 47, in getlines\n",
      "    return updatecache(filename, module_globals)\n",
      "  File \"C:\\Users\\duals\\AppData\\Local\\Continuum\\anaconda3\\lib\\linecache.py\", line 136, in updatecache\n",
      "    with tokenize.open(fullname) as fp:\n",
      "  File \"C:\\Users\\duals\\AppData\\Local\\Continuum\\anaconda3\\lib\\tokenize.py\", line 452, in open\n",
      "    buffer = _builtin_open(filename, 'rb')\n",
      "KeyboardInterrupt\n"
     ]
    },
    {
     "ename": "KeyboardInterrupt",
     "evalue": "",
     "output_type": "error",
     "traceback": [
      "\u001b[1;31m---------------------------------------------------------------------------\u001b[0m"
     ]
    }
   ],
   "source": [
    "# Creating filtered .xslx file:\n",
    "save_df('MICRODADOS_ENEM_2015.csv','test8_dataframe.xlsx', chunksize=10000, iteration_times=775)"
   ]
  },
  {
   "cell_type": "markdown",
   "metadata": {},
   "source": [
    "## Trabalhando com parte da Base de Dados:"
   ]
  },
  {
   "cell_type": "code",
   "execution_count": 1,
   "metadata": {
    "collapsed": true
   },
   "outputs": [
    {
     "ename": "NameError",
     "evalue": "name 'pd' is not defined",
     "output_type": "error",
     "traceback": [
      "\u001b[1;31m---------------------------------------------------------------------------\u001b[0m",
      "\u001b[1;31mNameError\u001b[0m                                 Traceback (most recent call last)",
      "\u001b[1;32m<ipython-input-1-1d5fb38c91cd>\u001b[0m in \u001b[0;36m<module>\u001b[1;34m()\u001b[0m\n\u001b[1;32m----> 1\u001b[1;33m \u001b[0mdf\u001b[0m \u001b[1;33m=\u001b[0m \u001b[0mpd\u001b[0m\u001b[1;33m.\u001b[0m\u001b[0mread_excel\u001b[0m\u001b[1;33m(\u001b[0m\u001b[1;34m'test8_dataframe.xlsx'\u001b[0m\u001b[1;33m,\u001b[0m \u001b[0mencoding\u001b[0m\u001b[1;33m=\u001b[0m\u001b[1;34m'latin-1'\u001b[0m\u001b[1;33m,\u001b[0m \u001b[0mheader\u001b[0m\u001b[1;33m=\u001b[0m\u001b[1;36m0\u001b[0m\u001b[1;33m)\u001b[0m\u001b[1;33m\u001b[0m\u001b[0m\n\u001b[0m\u001b[0;32m      2\u001b[0m df = df.iloc[:, [\"SG_UF_RESIDENCIA\", \"NU_IDADE\", \"TP_SEXO\", \"TP_ESTADO_CIIVL\", \"TP_COR_RACA\", \"TP_ST_CONCLUSAO\", \n\u001b[0;32m      3\u001b[0m                                   \"TP_ESCOLA\", \"NU_NOTA_CN\", \"NU_NOTA_CH\", \"NU_NOTA_LC\", \"NU_NOTA_MT\", \"NU_NOTA_REDACAO\", \"Q006\"]]\n",
      "\u001b[1;31mNameError\u001b[0m: name 'pd' is not defined"
     ]
    }
   ],
   "source": [
    "df = pd.read_excel('test8_dataframe.xlsx', encoding='latin-1', header=0)\n",
    "df = df.iloc[:, [\"SG_UF_RESIDENCIA\", \"NU_IDADE\", \"TP_SEXO\", \"TP_ESTADO_CIIVL\", \"TP_COR_RACA\", \"TP_ST_CONCLUSAO\", \n",
    "                                  \"TP_ESCOLA\", \"NU_NOTA_CN\", \"NU_NOTA_CH\", \"NU_NOTA_LC\", \"NU_NOTA_MT\", \"NU_NOTA_REDACAO\", \"Q006\"]]"
   ]
  },
  {
   "cell_type": "markdown",
   "metadata": {},
   "source": [
    "Nome das colunas:\n",
    "* *SG_UF_RESIDENCIA*: Sigla da Unidade de Federação da residência do candidato\n",
    "* *NU_IDADE*: Idade do candidato\n",
    "* *TP_SEXO*: Sexo do candidato\n",
    "* *TP_ESTADO_CIIVL*: Estado Civil do candidato\n",
    "* *TP_COR_RACA*: Raça do candidato\n",
    "* *TP_ST_CONCLUSAO*: Situação de conclusão do Ensino Médio\n",
    "* *TP_ESCOLA*: Tipo de escola do Ensino Médio\n",
    "* *NU_NOTA*: Notas nas provas, sendo: \n",
    "\n",
    "CN  | CH | LC | MT | REDACAO\n",
    "------------- | ------------- | ------------- | ------------- | ------------- |\n",
    "Ciências da Natureza  | Ciências Humanas | Linguagens e Códigos | Matemática | Redação\n",
    "* Q006: Diz a renda mensal da família"
   ]
  },
  {
   "cell_type": "markdown",
   "metadata": {},
   "source": [
    "# Porquê essas colunas foram escolhidas?"
   ]
  },
  {
   "cell_type": "markdown",
   "metadata": {},
   "source": [
    "- A Unidade de Federação é bem relevante no acesso à escolaridade, pois sabe-se que, no Brasil, educação de boa qualidade, de maneira geral, é acessada por meios privados. Sendo assim, há regiões que são pobres em desenvolvimento humano.\n",
    "- Idade influencia, tendo em vista que um jovem de 17-20 anos tende a lembrar mais do conteudo ante a um adulto de 30+\n",
    "- \"Raça\" tem grande peso na nota, tendo em vista o sistema de cotas\n",
    "- Situação de conclusão do Ensino Médio diz, aproximadamente, se o candidato se encontra preparado para a prova, ou não\n",
    "- Tipo de escola nos ajuda a montar o perfil do aluno, e  o que esperar do seu desempenho\n",
    "- Nota da prova é útil para a análise pra estabelecer a base de treinamento"
   ]
  },
  {
   "cell_type": "markdown",
   "metadata": {},
   "source": [
    "## Bibliografia:"
   ]
  },
  {
   "cell_type": "markdown",
   "metadata": {},
   "source": [
    "Sites consultados:\n",
    "* https://openpyxl.readthedocs.io/en/2.5/pandas.html\n",
    "* \n",
    "* \n",
    "* \n",
    "* \n",
    "* \n",
    "* \n",
    "* "
   ]
  },
  {
   "cell_type": "code",
   "execution_count": 32,
   "metadata": {},
   "outputs": [
    {
     "data": {
      "image/png": "[encoded data removed]",
      "text/plain": [
       "<matplotlib.figure.Figure at 0x1b58014e438>"
      ]
     },
     "metadata": {},
     "output_type": "display_data"
    }
   ],
   "source": [
    "def vin(t):\n",
    "    vp = 10\n",
    "    vin = vp*cos(10*t)\n",
    "    return vin\n",
    "tempo = np.arange(0,2,1e-4)\n",
    "plt.plot(tempo, [vin(t) for t in tempo])\n",
    "plt.show()"
   ]
  }
 ],
 "metadata": {
  "kernelspec": {
   "display_name": "Python 3",
   "language": "python",
   "name": "python3"
  },
  "language_info": {
   "codemirror_mode": {
    "name": "ipython",
    "version": 3
   },
   "file_extension": ".py",
   "mimetype": "text/x-python",
   "name": "python",
   "nbconvert_exporter": "python",
   "pygments_lexer": "ipython3",
   "version": "3.6.4"
  }
 },
 "nbformat": 4,
 "nbformat_minor": 2
}
